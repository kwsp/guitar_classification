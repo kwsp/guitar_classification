{
  "nbformat": 4,
  "nbformat_minor": 0,
  "metadata": {
    "colab": {
      "name": "guitar_classification_1.ipynb",
      "provenance": [],
      "toc_visible": true
    },
    "kernelspec": {
      "name": "python3",
      "display_name": "Python 3"
    },
    "accelerator": "GPU",
    "widgets": {
      "application/vnd.jupyter.widget-state+json": {
        "94eb628c838e46768f3f975f968dd9e3": {
          "model_module": "@jupyter-widgets/controls",
          "model_name": "HBoxModel",
          "state": {
            "_view_name": "HBoxView",
            "_dom_classes": [],
            "_model_name": "HBoxModel",
            "_view_module": "@jupyter-widgets/controls",
            "_model_module_version": "1.5.0",
            "_view_count": null,
            "_view_module_version": "1.5.0",
            "box_style": "",
            "layout": "IPY_MODEL_0e25c4d28c11434db6db2f146fa6160e",
            "_model_module": "@jupyter-widgets/controls",
            "children": [
              "IPY_MODEL_b9876d5ea1904e59af7f670b4edadce0",
              "IPY_MODEL_a1beb815f17645468852a0334dea3521"
            ]
          }
        },
        "0e25c4d28c11434db6db2f146fa6160e": {
          "model_module": "@jupyter-widgets/base",
          "model_name": "LayoutModel",
          "state": {
            "_view_name": "LayoutView",
            "grid_template_rows": null,
            "right": null,
            "justify_content": null,
            "_view_module": "@jupyter-widgets/base",
            "overflow": null,
            "_model_module_version": "1.2.0",
            "_view_count": null,
            "flex_flow": null,
            "width": null,
            "min_width": null,
            "border": null,
            "align_items": null,
            "bottom": null,
            "_model_module": "@jupyter-widgets/base",
            "top": null,
            "grid_column": null,
            "overflow_y": null,
            "overflow_x": null,
            "grid_auto_flow": null,
            "grid_area": null,
            "grid_template_columns": null,
            "flex": null,
            "_model_name": "LayoutModel",
            "justify_items": null,
            "grid_row": null,
            "max_height": null,
            "align_content": null,
            "visibility": null,
            "align_self": null,
            "height": null,
            "min_height": null,
            "padding": null,
            "grid_auto_rows": null,
            "grid_gap": null,
            "max_width": null,
            "order": null,
            "_view_module_version": "1.2.0",
            "grid_template_areas": null,
            "object_position": null,
            "object_fit": null,
            "grid_auto_columns": null,
            "margin": null,
            "display": null,
            "left": null
          }
        },
        "b9876d5ea1904e59af7f670b4edadce0": {
          "model_module": "@jupyter-widgets/controls",
          "model_name": "FloatProgressModel",
          "state": {
            "_view_name": "ProgressView",
            "style": "IPY_MODEL_f247fdac1e6b4572b034c7b2f41ca463",
            "_dom_classes": [],
            "description": "100%",
            "_model_name": "FloatProgressModel",
            "bar_style": "success",
            "max": 87306240,
            "_view_module": "@jupyter-widgets/controls",
            "_model_module_version": "1.5.0",
            "value": 87306240,
            "_view_count": null,
            "_view_module_version": "1.5.0",
            "orientation": "horizontal",
            "min": 0,
            "description_tooltip": null,
            "_model_module": "@jupyter-widgets/controls",
            "layout": "IPY_MODEL_cba89e4900fa48d688e550a382edf1cb"
          }
        },
        "a1beb815f17645468852a0334dea3521": {
          "model_module": "@jupyter-widgets/controls",
          "model_name": "HTMLModel",
          "state": {
            "_view_name": "HTMLView",
            "style": "IPY_MODEL_a6d477e39d6b432dad4aa493f4dc9f39",
            "_dom_classes": [],
            "description": "",
            "_model_name": "HTMLModel",
            "placeholder": "​",
            "_view_module": "@jupyter-widgets/controls",
            "_model_module_version": "1.5.0",
            "value": " 83.3M/83.3M [02:50&lt;00:00, 513kB/s]",
            "_view_count": null,
            "_view_module_version": "1.5.0",
            "description_tooltip": null,
            "_model_module": "@jupyter-widgets/controls",
            "layout": "IPY_MODEL_1e57f09cc481406eb134bbc07be53ec6"
          }
        },
        "f247fdac1e6b4572b034c7b2f41ca463": {
          "model_module": "@jupyter-widgets/controls",
          "model_name": "ProgressStyleModel",
          "state": {
            "_view_name": "StyleView",
            "_model_name": "ProgressStyleModel",
            "description_width": "initial",
            "_view_module": "@jupyter-widgets/base",
            "_model_module_version": "1.5.0",
            "_view_count": null,
            "_view_module_version": "1.2.0",
            "bar_color": null,
            "_model_module": "@jupyter-widgets/controls"
          }
        },
        "cba89e4900fa48d688e550a382edf1cb": {
          "model_module": "@jupyter-widgets/base",
          "model_name": "LayoutModel",
          "state": {
            "_view_name": "LayoutView",
            "grid_template_rows": null,
            "right": null,
            "justify_content": null,
            "_view_module": "@jupyter-widgets/base",
            "overflow": null,
            "_model_module_version": "1.2.0",
            "_view_count": null,
            "flex_flow": null,
            "width": null,
            "min_width": null,
            "border": null,
            "align_items": null,
            "bottom": null,
            "_model_module": "@jupyter-widgets/base",
            "top": null,
            "grid_column": null,
            "overflow_y": null,
            "overflow_x": null,
            "grid_auto_flow": null,
            "grid_area": null,
            "grid_template_columns": null,
            "flex": null,
            "_model_name": "LayoutModel",
            "justify_items": null,
            "grid_row": null,
            "max_height": null,
            "align_content": null,
            "visibility": null,
            "align_self": null,
            "height": null,
            "min_height": null,
            "padding": null,
            "grid_auto_rows": null,
            "grid_gap": null,
            "max_width": null,
            "order": null,
            "_view_module_version": "1.2.0",
            "grid_template_areas": null,
            "object_position": null,
            "object_fit": null,
            "grid_auto_columns": null,
            "margin": null,
            "display": null,
            "left": null
          }
        },
        "a6d477e39d6b432dad4aa493f4dc9f39": {
          "model_module": "@jupyter-widgets/controls",
          "model_name": "DescriptionStyleModel",
          "state": {
            "_view_name": "StyleView",
            "_model_name": "DescriptionStyleModel",
            "description_width": "",
            "_view_module": "@jupyter-widgets/base",
            "_model_module_version": "1.5.0",
            "_view_count": null,
            "_view_module_version": "1.2.0",
            "_model_module": "@jupyter-widgets/controls"
          }
        },
        "1e57f09cc481406eb134bbc07be53ec6": {
          "model_module": "@jupyter-widgets/base",
          "model_name": "LayoutModel",
          "state": {
            "_view_name": "LayoutView",
            "grid_template_rows": null,
            "right": null,
            "justify_content": null,
            "_view_module": "@jupyter-widgets/base",
            "overflow": null,
            "_model_module_version": "1.2.0",
            "_view_count": null,
            "flex_flow": null,
            "width": null,
            "min_width": null,
            "border": null,
            "align_items": null,
            "bottom": null,
            "_model_module": "@jupyter-widgets/base",
            "top": null,
            "grid_column": null,
            "overflow_y": null,
            "overflow_x": null,
            "grid_auto_flow": null,
            "grid_area": null,
            "grid_template_columns": null,
            "flex": null,
            "_model_name": "LayoutModel",
            "justify_items": null,
            "grid_row": null,
            "max_height": null,
            "align_content": null,
            "visibility": null,
            "align_self": null,
            "height": null,
            "min_height": null,
            "padding": null,
            "grid_auto_rows": null,
            "grid_gap": null,
            "max_width": null,
            "order": null,
            "_view_module_version": "1.2.0",
            "grid_template_areas": null,
            "object_position": null,
            "object_fit": null,
            "grid_auto_columns": null,
            "margin": null,
            "display": null,
            "left": null
          }
        },
        "396cb36b090945b2a1a8986552e305e2": {
          "model_module": "@jupyter-widgets/controls",
          "model_name": "HBoxModel",
          "state": {
            "_view_name": "HBoxView",
            "_dom_classes": [],
            "_model_name": "HBoxModel",
            "_view_module": "@jupyter-widgets/controls",
            "_model_module_version": "1.5.0",
            "_view_count": null,
            "_view_module_version": "1.5.0",
            "box_style": "",
            "layout": "IPY_MODEL_0ec1b4ac35704653acbd8d63bde799fe",
            "_model_module": "@jupyter-widgets/controls",
            "children": [
              "IPY_MODEL_1480fd7bf22d42ad9538229555e70142",
              "IPY_MODEL_7b7c7935e29d492da8d930c7aace2f0c",
              "IPY_MODEL_c2115f7cff7e4a089aa2110ba87c42d7",
              "IPY_MODEL_859adaaeacd2437f9de59159164ca9f7",
              "IPY_MODEL_13873a0bc5fd407da47aaf8790b515a9"
            ]
          }
        },
        "0ec1b4ac35704653acbd8d63bde799fe": {
          "model_module": "@jupyter-widgets/base",
          "model_name": "LayoutModel",
          "state": {
            "_view_name": "LayoutView",
            "grid_template_rows": null,
            "right": null,
            "justify_content": null,
            "_view_module": "@jupyter-widgets/base",
            "overflow": null,
            "_model_module_version": "1.2.0",
            "_view_count": null,
            "flex_flow": null,
            "width": null,
            "min_width": null,
            "border": null,
            "align_items": null,
            "bottom": null,
            "_model_module": "@jupyter-widgets/base",
            "top": null,
            "grid_column": null,
            "overflow_y": null,
            "overflow_x": null,
            "grid_auto_flow": null,
            "grid_area": null,
            "grid_template_columns": null,
            "flex": null,
            "_model_name": "LayoutModel",
            "justify_items": null,
            "grid_row": null,
            "max_height": null,
            "align_content": null,
            "visibility": null,
            "align_self": null,
            "height": null,
            "min_height": null,
            "padding": null,
            "grid_auto_rows": null,
            "grid_gap": null,
            "max_width": null,
            "order": null,
            "_view_module_version": "1.2.0",
            "grid_template_areas": null,
            "object_position": null,
            "object_fit": null,
            "grid_auto_columns": null,
            "margin": null,
            "display": null,
            "left": null
          }
        },
        "1480fd7bf22d42ad9538229555e70142": {
          "model_module": "@jupyter-widgets/controls",
          "model_name": "VBoxModel",
          "state": {
            "_view_name": "VBoxView",
            "_dom_classes": [],
            "_model_name": "VBoxModel",
            "_view_module": "@jupyter-widgets/controls",
            "_model_module_version": "1.5.0",
            "_view_count": null,
            "_view_module_version": "1.5.0",
            "box_style": "",
            "layout": "IPY_MODEL_18d49819d75d4a0f82ce4d1b60b478c9",
            "_model_module": "@jupyter-widgets/controls",
            "children": [
              "IPY_MODEL_22a420794339470f9d85f52548e6902e",
              "IPY_MODEL_9b7334bcab194be98aecf30c9bc4457c",
              "IPY_MODEL_8112ab594e0c4e21b3c72fba28bb7624"
            ]
          }
        },
        "7b7c7935e29d492da8d930c7aace2f0c": {
          "model_module": "@jupyter-widgets/controls",
          "model_name": "VBoxModel",
          "state": {
            "_view_name": "VBoxView",
            "_dom_classes": [],
            "_model_name": "VBoxModel",
            "_view_module": "@jupyter-widgets/controls",
            "_model_module_version": "1.5.0",
            "_view_count": null,
            "_view_module_version": "1.5.0",
            "box_style": "",
            "layout": "IPY_MODEL_18d49819d75d4a0f82ce4d1b60b478c9",
            "_model_module": "@jupyter-widgets/controls",
            "children": [
              "IPY_MODEL_65e04652771e4426bb39469da7e3b224",
              "IPY_MODEL_bc6730bf079a488b9167daf0611a1322",
              "IPY_MODEL_cf5d60a4a6c3474e9f6cf8bd02311a1d"
            ]
          }
        },
        "c2115f7cff7e4a089aa2110ba87c42d7": {
          "model_module": "@jupyter-widgets/controls",
          "model_name": "VBoxModel",
          "state": {
            "_view_name": "VBoxView",
            "_dom_classes": [],
            "_model_name": "VBoxModel",
            "_view_module": "@jupyter-widgets/controls",
            "_model_module_version": "1.5.0",
            "_view_count": null,
            "_view_module_version": "1.5.0",
            "box_style": "",
            "layout": "IPY_MODEL_18d49819d75d4a0f82ce4d1b60b478c9",
            "_model_module": "@jupyter-widgets/controls",
            "children": [
              "IPY_MODEL_8dd53afbe7724b6f85adefeae2f522a2",
              "IPY_MODEL_0721249f6d5c4f48b11c31bff747f734",
              "IPY_MODEL_7fc88642a8184dffae17fb3f3e8b8345"
            ]
          }
        },
        "859adaaeacd2437f9de59159164ca9f7": {
          "model_module": "@jupyter-widgets/controls",
          "model_name": "VBoxModel",
          "state": {
            "_view_name": "VBoxView",
            "_dom_classes": [],
            "_model_name": "VBoxModel",
            "_view_module": "@jupyter-widgets/controls",
            "_model_module_version": "1.5.0",
            "_view_count": null,
            "_view_module_version": "1.5.0",
            "box_style": "",
            "layout": "IPY_MODEL_18d49819d75d4a0f82ce4d1b60b478c9",
            "_model_module": "@jupyter-widgets/controls",
            "children": [
              "IPY_MODEL_7b39d51eb84744468cd4c70ad89c5c92",
              "IPY_MODEL_3c2d1df6ed634808ad5fdb34e49fa9ea",
              "IPY_MODEL_e1da481c577743cbaec5d7e6c7bfa0b5"
            ]
          }
        },
        "13873a0bc5fd407da47aaf8790b515a9": {
          "model_module": "@jupyter-widgets/controls",
          "model_name": "VBoxModel",
          "state": {
            "_view_name": "VBoxView",
            "_dom_classes": [],
            "_model_name": "VBoxModel",
            "_view_module": "@jupyter-widgets/controls",
            "_model_module_version": "1.5.0",
            "_view_count": null,
            "_view_module_version": "1.5.0",
            "box_style": "",
            "layout": "IPY_MODEL_18d49819d75d4a0f82ce4d1b60b478c9",
            "_model_module": "@jupyter-widgets/controls",
            "children": [
              "IPY_MODEL_736a5995791a425488b929c3536d1cb6",
              "IPY_MODEL_794f3de7410c4c4e9a6c35ca2324a553",
              "IPY_MODEL_edf731ed5309468d8654db7697b56cd7"
            ]
          }
        },
        "18d49819d75d4a0f82ce4d1b60b478c9": {
          "model_module": "@jupyter-widgets/base",
          "model_name": "LayoutModel",
          "state": {
            "_view_name": "LayoutView",
            "grid_template_rows": null,
            "right": null,
            "justify_content": null,
            "_view_module": "@jupyter-widgets/base",
            "overflow": null,
            "_model_module_version": "1.2.0",
            "_view_count": null,
            "flex_flow": null,
            "width": "auto",
            "min_width": null,
            "border": null,
            "align_items": null,
            "bottom": null,
            "_model_module": "@jupyter-widgets/base",
            "top": null,
            "grid_column": null,
            "overflow_y": null,
            "overflow_x": "hidden",
            "grid_auto_flow": null,
            "grid_area": null,
            "grid_template_columns": null,
            "flex": null,
            "_model_name": "LayoutModel",
            "justify_items": null,
            "grid_row": null,
            "max_height": null,
            "align_content": null,
            "visibility": null,
            "align_self": null,
            "height": "300px",
            "min_height": null,
            "padding": null,
            "grid_auto_rows": null,
            "grid_gap": null,
            "max_width": null,
            "order": null,
            "_view_module_version": "1.2.0",
            "grid_template_areas": null,
            "object_position": null,
            "object_fit": null,
            "grid_auto_columns": null,
            "margin": null,
            "display": null,
            "left": null
          }
        },
        "22a420794339470f9d85f52548e6902e": {
          "model_module": "@jupyter-widgets/controls",
          "model_name": "ImageModel",
          "state": {
            "_view_name": "ImageView",
            "_dom_classes": [],
            "_model_name": "ImageModel",
            "format": "jpg",
            "_view_module": "@jupyter-widgets/controls",
            "_model_module_version": "1.5.0",
            "_view_count": null,
            "width": "",
            "_view_module_version": "1.5.0",
            "layout": "IPY_MODEL_3c1f6d9e1a3f4d6eafa677020f94df1c",
            "height": "",
            "_model_module": "@jupyter-widgets/controls"
          }
        },
        "9b7334bcab194be98aecf30c9bc4457c": {
          "model_module": "@jupyter-widgets/controls",
          "model_name": "DropdownModel",
          "state": {
            "_options_labels": [
              "acoustic",
              "electric"
            ],
            "_view_name": "DropdownView",
            "style": "IPY_MODEL_91bf25eb84cb40af91c2e14e1bb11acc",
            "_dom_classes": [],
            "description": "",
            "_model_name": "DropdownModel",
            "index": 0,
            "_view_module": "@jupyter-widgets/controls",
            "_model_module_version": "1.5.0",
            "_view_count": null,
            "disabled": false,
            "_view_module_version": "1.5.0",
            "description_tooltip": null,
            "_model_module": "@jupyter-widgets/controls",
            "layout": "IPY_MODEL_93156fa1a16c422e8d92f204223f5d40"
          }
        },
        "8112ab594e0c4e21b3c72fba28bb7624": {
          "model_module": "@jupyter-widgets/controls",
          "model_name": "ButtonModel",
          "state": {
            "_view_name": "ButtonView",
            "style": "IPY_MODEL_6edae6cfe5014dcf9086e2e7d0c4eeee",
            "_dom_classes": [],
            "description": "Delete",
            "_model_name": "ButtonModel",
            "button_style": "",
            "_view_module": "@jupyter-widgets/controls",
            "_model_module_version": "1.5.0",
            "tooltip": "",
            "_view_count": null,
            "disabled": false,
            "_view_module_version": "1.5.0",
            "layout": "IPY_MODEL_2845fe7a169443eebf054a6103975a7a",
            "_model_module": "@jupyter-widgets/controls",
            "icon": ""
          }
        },
        "65e04652771e4426bb39469da7e3b224": {
          "model_module": "@jupyter-widgets/controls",
          "model_name": "ImageModel",
          "state": {
            "_view_name": "ImageView",
            "_dom_classes": [],
            "_model_name": "ImageModel",
            "format": "jpg",
            "_view_module": "@jupyter-widgets/controls",
            "_model_module_version": "1.5.0",
            "_view_count": null,
            "width": "",
            "_view_module_version": "1.5.0",
            "layout": "IPY_MODEL_3c1f6d9e1a3f4d6eafa677020f94df1c",
            "height": "",
            "_model_module": "@jupyter-widgets/controls"
          }
        },
        "bc6730bf079a488b9167daf0611a1322": {
          "model_module": "@jupyter-widgets/controls",
          "model_name": "DropdownModel",
          "state": {
            "_options_labels": [
              "acoustic",
              "electric"
            ],
            "_view_name": "DropdownView",
            "style": "IPY_MODEL_42418ff4551a4e3aa609caa8da38b35c",
            "_dom_classes": [],
            "description": "",
            "_model_name": "DropdownModel",
            "index": 1,
            "_view_module": "@jupyter-widgets/controls",
            "_model_module_version": "1.5.0",
            "_view_count": null,
            "disabled": false,
            "_view_module_version": "1.5.0",
            "description_tooltip": null,
            "_model_module": "@jupyter-widgets/controls",
            "layout": "IPY_MODEL_93156fa1a16c422e8d92f204223f5d40"
          }
        },
        "cf5d60a4a6c3474e9f6cf8bd02311a1d": {
          "model_module": "@jupyter-widgets/controls",
          "model_name": "ButtonModel",
          "state": {
            "_view_name": "ButtonView",
            "style": "IPY_MODEL_cf7a7894c47d4691b51970a584af909d",
            "_dom_classes": [],
            "description": "Delete",
            "_model_name": "ButtonModel",
            "button_style": "",
            "_view_module": "@jupyter-widgets/controls",
            "_model_module_version": "1.5.0",
            "tooltip": "",
            "_view_count": null,
            "disabled": false,
            "_view_module_version": "1.5.0",
            "layout": "IPY_MODEL_2845fe7a169443eebf054a6103975a7a",
            "_model_module": "@jupyter-widgets/controls",
            "icon": ""
          }
        },
        "8dd53afbe7724b6f85adefeae2f522a2": {
          "model_module": "@jupyter-widgets/controls",
          "model_name": "ImageModel",
          "state": {
            "_view_name": "ImageView",
            "_dom_classes": [],
            "_model_name": "ImageModel",
            "format": "jpg",
            "_view_module": "@jupyter-widgets/controls",
            "_model_module_version": "1.5.0",
            "_view_count": null,
            "width": "",
            "_view_module_version": "1.5.0",
            "layout": "IPY_MODEL_3c1f6d9e1a3f4d6eafa677020f94df1c",
            "height": "",
            "_model_module": "@jupyter-widgets/controls"
          }
        },
        "0721249f6d5c4f48b11c31bff747f734": {
          "model_module": "@jupyter-widgets/controls",
          "model_name": "DropdownModel",
          "state": {
            "_options_labels": [
              "acoustic",
              "electric"
            ],
            "_view_name": "DropdownView",
            "style": "IPY_MODEL_7e9362ca501449e292a495ffc920beaa",
            "_dom_classes": [],
            "description": "",
            "_model_name": "DropdownModel",
            "index": 1,
            "_view_module": "@jupyter-widgets/controls",
            "_model_module_version": "1.5.0",
            "_view_count": null,
            "disabled": false,
            "_view_module_version": "1.5.0",
            "description_tooltip": null,
            "_model_module": "@jupyter-widgets/controls",
            "layout": "IPY_MODEL_93156fa1a16c422e8d92f204223f5d40"
          }
        },
        "7fc88642a8184dffae17fb3f3e8b8345": {
          "model_module": "@jupyter-widgets/controls",
          "model_name": "ButtonModel",
          "state": {
            "_view_name": "ButtonView",
            "style": "IPY_MODEL_16fbc607f91b4b878fd0d92bbfe0efa1",
            "_dom_classes": [],
            "description": "Delete",
            "_model_name": "ButtonModel",
            "button_style": "",
            "_view_module": "@jupyter-widgets/controls",
            "_model_module_version": "1.5.0",
            "tooltip": "",
            "_view_count": null,
            "disabled": false,
            "_view_module_version": "1.5.0",
            "layout": "IPY_MODEL_2845fe7a169443eebf054a6103975a7a",
            "_model_module": "@jupyter-widgets/controls",
            "icon": ""
          }
        },
        "7b39d51eb84744468cd4c70ad89c5c92": {
          "model_module": "@jupyter-widgets/controls",
          "model_name": "ImageModel",
          "state": {
            "_view_name": "ImageView",
            "_dom_classes": [],
            "_model_name": "ImageModel",
            "format": "jpg",
            "_view_module": "@jupyter-widgets/controls",
            "_model_module_version": "1.5.0",
            "_view_count": null,
            "width": "",
            "_view_module_version": "1.5.0",
            "layout": "IPY_MODEL_3c1f6d9e1a3f4d6eafa677020f94df1c",
            "height": "",
            "_model_module": "@jupyter-widgets/controls"
          }
        },
        "3c2d1df6ed634808ad5fdb34e49fa9ea": {
          "model_module": "@jupyter-widgets/controls",
          "model_name": "DropdownModel",
          "state": {
            "_options_labels": [
              "acoustic",
              "electric"
            ],
            "_view_name": "DropdownView",
            "style": "IPY_MODEL_2d41ac23e2bc4b8aa10a9715605030ea",
            "_dom_classes": [],
            "description": "",
            "_model_name": "DropdownModel",
            "index": 1,
            "_view_module": "@jupyter-widgets/controls",
            "_model_module_version": "1.5.0",
            "_view_count": null,
            "disabled": false,
            "_view_module_version": "1.5.0",
            "description_tooltip": null,
            "_model_module": "@jupyter-widgets/controls",
            "layout": "IPY_MODEL_93156fa1a16c422e8d92f204223f5d40"
          }
        },
        "e1da481c577743cbaec5d7e6c7bfa0b5": {
          "model_module": "@jupyter-widgets/controls",
          "model_name": "ButtonModel",
          "state": {
            "_view_name": "ButtonView",
            "style": "IPY_MODEL_113b10c9ce934c1e939f6ddf587e376f",
            "_dom_classes": [],
            "description": "Delete",
            "_model_name": "ButtonModel",
            "button_style": "",
            "_view_module": "@jupyter-widgets/controls",
            "_model_module_version": "1.5.0",
            "tooltip": "",
            "_view_count": null,
            "disabled": false,
            "_view_module_version": "1.5.0",
            "layout": "IPY_MODEL_2845fe7a169443eebf054a6103975a7a",
            "_model_module": "@jupyter-widgets/controls",
            "icon": ""
          }
        },
        "736a5995791a425488b929c3536d1cb6": {
          "model_module": "@jupyter-widgets/controls",
          "model_name": "ImageModel",
          "state": {
            "_view_name": "ImageView",
            "_dom_classes": [],
            "_model_name": "ImageModel",
            "format": "jpg",
            "_view_module": "@jupyter-widgets/controls",
            "_model_module_version": "1.5.0",
            "_view_count": null,
            "width": "",
            "_view_module_version": "1.5.0",
            "layout": "IPY_MODEL_3c1f6d9e1a3f4d6eafa677020f94df1c",
            "height": "",
            "_model_module": "@jupyter-widgets/controls"
          }
        },
        "794f3de7410c4c4e9a6c35ca2324a553": {
          "model_module": "@jupyter-widgets/controls",
          "model_name": "DropdownModel",
          "state": {
            "_options_labels": [
              "acoustic",
              "electric"
            ],
            "_view_name": "DropdownView",
            "style": "IPY_MODEL_f96d4fe1be234578a8c7699dc9caabf4",
            "_dom_classes": [],
            "description": "",
            "_model_name": "DropdownModel",
            "index": 1,
            "_view_module": "@jupyter-widgets/controls",
            "_model_module_version": "1.5.0",
            "_view_count": null,
            "disabled": false,
            "_view_module_version": "1.5.0",
            "description_tooltip": null,
            "_model_module": "@jupyter-widgets/controls",
            "layout": "IPY_MODEL_93156fa1a16c422e8d92f204223f5d40"
          }
        },
        "edf731ed5309468d8654db7697b56cd7": {
          "model_module": "@jupyter-widgets/controls",
          "model_name": "ButtonModel",
          "state": {
            "_view_name": "ButtonView",
            "style": "IPY_MODEL_d683257c92e44577b24b9a88df0c122e",
            "_dom_classes": [],
            "description": "Delete",
            "_model_name": "ButtonModel",
            "button_style": "danger",
            "_view_module": "@jupyter-widgets/controls",
            "_model_module_version": "1.5.0",
            "tooltip": "",
            "_view_count": null,
            "disabled": false,
            "_view_module_version": "1.5.0",
            "layout": "IPY_MODEL_2845fe7a169443eebf054a6103975a7a",
            "_model_module": "@jupyter-widgets/controls",
            "icon": ""
          }
        },
        "3c1f6d9e1a3f4d6eafa677020f94df1c": {
          "model_module": "@jupyter-widgets/base",
          "model_name": "LayoutModel",
          "state": {
            "_view_name": "LayoutView",
            "grid_template_rows": null,
            "right": null,
            "justify_content": null,
            "_view_module": "@jupyter-widgets/base",
            "overflow": null,
            "_model_module_version": "1.2.0",
            "_view_count": null,
            "flex_flow": null,
            "width": "300px",
            "min_width": null,
            "border": null,
            "align_items": null,
            "bottom": null,
            "_model_module": "@jupyter-widgets/base",
            "top": null,
            "grid_column": null,
            "overflow_y": null,
            "overflow_x": null,
            "grid_auto_flow": null,
            "grid_area": null,
            "grid_template_columns": null,
            "flex": null,
            "_model_name": "LayoutModel",
            "justify_items": null,
            "grid_row": null,
            "max_height": null,
            "align_content": null,
            "visibility": null,
            "align_self": null,
            "height": "250px",
            "min_height": null,
            "padding": null,
            "grid_auto_rows": null,
            "grid_gap": null,
            "max_width": null,
            "order": null,
            "_view_module_version": "1.2.0",
            "grid_template_areas": null,
            "object_position": null,
            "object_fit": null,
            "grid_auto_columns": null,
            "margin": null,
            "display": null,
            "left": null
          }
        },
        "91bf25eb84cb40af91c2e14e1bb11acc": {
          "model_module": "@jupyter-widgets/controls",
          "model_name": "DescriptionStyleModel",
          "state": {
            "_view_name": "StyleView",
            "_model_name": "DescriptionStyleModel",
            "description_width": "",
            "_view_module": "@jupyter-widgets/base",
            "_model_module_version": "1.5.0",
            "_view_count": null,
            "_view_module_version": "1.2.0",
            "_model_module": "@jupyter-widgets/controls"
          }
        },
        "93156fa1a16c422e8d92f204223f5d40": {
          "model_module": "@jupyter-widgets/base",
          "model_name": "LayoutModel",
          "state": {
            "_view_name": "LayoutView",
            "grid_template_rows": null,
            "right": null,
            "justify_content": null,
            "_view_module": "@jupyter-widgets/base",
            "overflow": null,
            "_model_module_version": "1.2.0",
            "_view_count": null,
            "flex_flow": null,
            "width": "auto",
            "min_width": null,
            "border": null,
            "align_items": null,
            "bottom": null,
            "_model_module": "@jupyter-widgets/base",
            "top": null,
            "grid_column": null,
            "overflow_y": null,
            "overflow_x": null,
            "grid_auto_flow": null,
            "grid_area": null,
            "grid_template_columns": null,
            "flex": null,
            "_model_name": "LayoutModel",
            "justify_items": null,
            "grid_row": null,
            "max_height": null,
            "align_content": null,
            "visibility": null,
            "align_self": null,
            "height": null,
            "min_height": null,
            "padding": null,
            "grid_auto_rows": null,
            "grid_gap": null,
            "max_width": null,
            "order": null,
            "_view_module_version": "1.2.0",
            "grid_template_areas": null,
            "object_position": null,
            "object_fit": null,
            "grid_auto_columns": null,
            "margin": null,
            "display": null,
            "left": null
          }
        },
        "6edae6cfe5014dcf9086e2e7d0c4eeee": {
          "model_module": "@jupyter-widgets/controls",
          "model_name": "ButtonStyleModel",
          "state": {
            "_view_name": "StyleView",
            "_model_name": "ButtonStyleModel",
            "_view_module": "@jupyter-widgets/base",
            "_model_module_version": "1.5.0",
            "_view_count": null,
            "button_color": null,
            "font_weight": "",
            "_view_module_version": "1.2.0",
            "_model_module": "@jupyter-widgets/controls"
          }
        },
        "2845fe7a169443eebf054a6103975a7a": {
          "model_module": "@jupyter-widgets/base",
          "model_name": "LayoutModel",
          "state": {
            "_view_name": "LayoutView",
            "grid_template_rows": null,
            "right": null,
            "justify_content": null,
            "_view_module": "@jupyter-widgets/base",
            "overflow": null,
            "_model_module_version": "1.2.0",
            "_view_count": null,
            "flex_flow": null,
            "width": "auto",
            "min_width": null,
            "border": null,
            "align_items": null,
            "bottom": null,
            "_model_module": "@jupyter-widgets/base",
            "top": null,
            "grid_column": null,
            "overflow_y": null,
            "overflow_x": null,
            "grid_auto_flow": null,
            "grid_area": null,
            "grid_template_columns": null,
            "flex": null,
            "_model_name": "LayoutModel",
            "justify_items": null,
            "grid_row": null,
            "max_height": null,
            "align_content": null,
            "visibility": null,
            "align_self": null,
            "height": null,
            "min_height": null,
            "padding": null,
            "grid_auto_rows": null,
            "grid_gap": null,
            "max_width": null,
            "order": null,
            "_view_module_version": "1.2.0",
            "grid_template_areas": null,
            "object_position": null,
            "object_fit": null,
            "grid_auto_columns": null,
            "margin": null,
            "display": null,
            "left": null
          }
        },
        "42418ff4551a4e3aa609caa8da38b35c": {
          "model_module": "@jupyter-widgets/controls",
          "model_name": "DescriptionStyleModel",
          "state": {
            "_view_name": "StyleView",
            "_model_name": "DescriptionStyleModel",
            "description_width": "",
            "_view_module": "@jupyter-widgets/base",
            "_model_module_version": "1.5.0",
            "_view_count": null,
            "_view_module_version": "1.2.0",
            "_model_module": "@jupyter-widgets/controls"
          }
        },
        "cf7a7894c47d4691b51970a584af909d": {
          "model_module": "@jupyter-widgets/controls",
          "model_name": "ButtonStyleModel",
          "state": {
            "_view_name": "StyleView",
            "_model_name": "ButtonStyleModel",
            "_view_module": "@jupyter-widgets/base",
            "_model_module_version": "1.5.0",
            "_view_count": null,
            "button_color": null,
            "font_weight": "",
            "_view_module_version": "1.2.0",
            "_model_module": "@jupyter-widgets/controls"
          }
        },
        "7e9362ca501449e292a495ffc920beaa": {
          "model_module": "@jupyter-widgets/controls",
          "model_name": "DescriptionStyleModel",
          "state": {
            "_view_name": "StyleView",
            "_model_name": "DescriptionStyleModel",
            "description_width": "",
            "_view_module": "@jupyter-widgets/base",
            "_model_module_version": "1.5.0",
            "_view_count": null,
            "_view_module_version": "1.2.0",
            "_model_module": "@jupyter-widgets/controls"
          }
        },
        "16fbc607f91b4b878fd0d92bbfe0efa1": {
          "model_module": "@jupyter-widgets/controls",
          "model_name": "ButtonStyleModel",
          "state": {
            "_view_name": "StyleView",
            "_model_name": "ButtonStyleModel",
            "_view_module": "@jupyter-widgets/base",
            "_model_module_version": "1.5.0",
            "_view_count": null,
            "button_color": null,
            "font_weight": "",
            "_view_module_version": "1.2.0",
            "_model_module": "@jupyter-widgets/controls"
          }
        },
        "2d41ac23e2bc4b8aa10a9715605030ea": {
          "model_module": "@jupyter-widgets/controls",
          "model_name": "DescriptionStyleModel",
          "state": {
            "_view_name": "StyleView",
            "_model_name": "DescriptionStyleModel",
            "description_width": "",
            "_view_module": "@jupyter-widgets/base",
            "_model_module_version": "1.5.0",
            "_view_count": null,
            "_view_module_version": "1.2.0",
            "_model_module": "@jupyter-widgets/controls"
          }
        },
        "113b10c9ce934c1e939f6ddf587e376f": {
          "model_module": "@jupyter-widgets/controls",
          "model_name": "ButtonStyleModel",
          "state": {
            "_view_name": "StyleView",
            "_model_name": "ButtonStyleModel",
            "_view_module": "@jupyter-widgets/base",
            "_model_module_version": "1.5.0",
            "_view_count": null,
            "button_color": null,
            "font_weight": "",
            "_view_module_version": "1.2.0",
            "_model_module": "@jupyter-widgets/controls"
          }
        },
        "f96d4fe1be234578a8c7699dc9caabf4": {
          "model_module": "@jupyter-widgets/controls",
          "model_name": "DescriptionStyleModel",
          "state": {
            "_view_name": "StyleView",
            "_model_name": "DescriptionStyleModel",
            "description_width": "",
            "_view_module": "@jupyter-widgets/base",
            "_model_module_version": "1.5.0",
            "_view_count": null,
            "_view_module_version": "1.2.0",
            "_model_module": "@jupyter-widgets/controls"
          }
        },
        "d683257c92e44577b24b9a88df0c122e": {
          "model_module": "@jupyter-widgets/controls",
          "model_name": "ButtonStyleModel",
          "state": {
            "_view_name": "StyleView",
            "_model_name": "ButtonStyleModel",
            "_view_module": "@jupyter-widgets/base",
            "_model_module_version": "1.5.0",
            "_view_count": null,
            "button_color": null,
            "font_weight": "",
            "_view_module_version": "1.2.0",
            "_model_module": "@jupyter-widgets/controls"
          }
        },
        "c1de39f3531e4d4e89ba648288d33cea": {
          "model_module": "@jupyter-widgets/controls",
          "model_name": "ButtonModel",
          "state": {
            "_view_name": "ButtonView",
            "style": "IPY_MODEL_2fbdc1a83218424c879a6395ebbc1d02",
            "_dom_classes": [],
            "description": "Next Batch",
            "_model_name": "ButtonModel",
            "button_style": "primary",
            "_view_module": "@jupyter-widgets/controls",
            "_model_module_version": "1.5.0",
            "tooltip": "",
            "_view_count": null,
            "disabled": false,
            "_view_module_version": "1.5.0",
            "layout": "IPY_MODEL_2845fe7a169443eebf054a6103975a7a",
            "_model_module": "@jupyter-widgets/controls",
            "icon": ""
          }
        },
        "2fbdc1a83218424c879a6395ebbc1d02": {
          "model_module": "@jupyter-widgets/controls",
          "model_name": "ButtonStyleModel",
          "state": {
            "_view_name": "StyleView",
            "_model_name": "ButtonStyleModel",
            "_view_module": "@jupyter-widgets/base",
            "_model_module_version": "1.5.0",
            "_view_count": null,
            "button_color": null,
            "font_weight": "",
            "_view_module_version": "1.2.0",
            "_model_module": "@jupyter-widgets/controls"
          }
        },
        "13d5a05c6c2e4372b5241a647de8d440": {
          "model_module": "@jupyter-widgets/controls",
          "model_name": "HBoxModel",
          "state": {
            "_view_name": "HBoxView",
            "_dom_classes": [],
            "_model_name": "HBoxModel",
            "_view_module": "@jupyter-widgets/controls",
            "_model_module_version": "1.5.0",
            "_view_count": null,
            "_view_module_version": "1.5.0",
            "box_style": "",
            "layout": "IPY_MODEL_0ec1b4ac35704653acbd8d63bde799fe",
            "_model_module": "@jupyter-widgets/controls",
            "children": [
              "IPY_MODEL_8220cde03bb74c89bb75ba95aa76832e",
              "IPY_MODEL_0e89424e24f84768a0e326915be9316f",
              "IPY_MODEL_5a99f68732f64689ab2b2260aa6a6a5c",
              "IPY_MODEL_3e48e0c5bf9548f381d32641da808c63",
              "IPY_MODEL_8c9180072b6b470fbb305d833ef04e73"
            ]
          }
        },
        "8220cde03bb74c89bb75ba95aa76832e": {
          "model_module": "@jupyter-widgets/controls",
          "model_name": "VBoxModel",
          "state": {
            "_view_name": "VBoxView",
            "_dom_classes": [],
            "_model_name": "VBoxModel",
            "_view_module": "@jupyter-widgets/controls",
            "_model_module_version": "1.5.0",
            "_view_count": null,
            "_view_module_version": "1.5.0",
            "box_style": "",
            "layout": "IPY_MODEL_18d49819d75d4a0f82ce4d1b60b478c9",
            "_model_module": "@jupyter-widgets/controls",
            "children": [
              "IPY_MODEL_dec2848b1ca743e18df2cfdfc2a8d8cb",
              "IPY_MODEL_1e9f422926ce4727ae342ffbfe9cb2c2",
              "IPY_MODEL_22c5791168884204a0850d8faaff2531"
            ]
          }
        },
        "0e89424e24f84768a0e326915be9316f": {
          "model_module": "@jupyter-widgets/controls",
          "model_name": "VBoxModel",
          "state": {
            "_view_name": "VBoxView",
            "_dom_classes": [],
            "_model_name": "VBoxModel",
            "_view_module": "@jupyter-widgets/controls",
            "_model_module_version": "1.5.0",
            "_view_count": null,
            "_view_module_version": "1.5.0",
            "box_style": "",
            "layout": "IPY_MODEL_18d49819d75d4a0f82ce4d1b60b478c9",
            "_model_module": "@jupyter-widgets/controls",
            "children": [
              "IPY_MODEL_8b1852adaea046d7ada1cdcf20f48239",
              "IPY_MODEL_e0dbc5a838914010bf463e37fc5e68dd",
              "IPY_MODEL_f5c268be8e26481e943754daaca2b832"
            ]
          }
        },
        "5a99f68732f64689ab2b2260aa6a6a5c": {
          "model_module": "@jupyter-widgets/controls",
          "model_name": "VBoxModel",
          "state": {
            "_view_name": "VBoxView",
            "_dom_classes": [],
            "_model_name": "VBoxModel",
            "_view_module": "@jupyter-widgets/controls",
            "_model_module_version": "1.5.0",
            "_view_count": null,
            "_view_module_version": "1.5.0",
            "box_style": "",
            "layout": "IPY_MODEL_18d49819d75d4a0f82ce4d1b60b478c9",
            "_model_module": "@jupyter-widgets/controls",
            "children": [
              "IPY_MODEL_d7846995719340d993e1ae6b58f98d27",
              "IPY_MODEL_ce9f2447d3d04322920dd534ceee7d8c",
              "IPY_MODEL_1254a127e4f34367a843f20a3c1b5d04"
            ]
          }
        },
        "3e48e0c5bf9548f381d32641da808c63": {
          "model_module": "@jupyter-widgets/controls",
          "model_name": "VBoxModel",
          "state": {
            "_view_name": "VBoxView",
            "_dom_classes": [],
            "_model_name": "VBoxModel",
            "_view_module": "@jupyter-widgets/controls",
            "_model_module_version": "1.5.0",
            "_view_count": null,
            "_view_module_version": "1.5.0",
            "box_style": "",
            "layout": "IPY_MODEL_18d49819d75d4a0f82ce4d1b60b478c9",
            "_model_module": "@jupyter-widgets/controls",
            "children": [
              "IPY_MODEL_310df393540e4f1ead8f121e54bde3a3",
              "IPY_MODEL_d74b5836eb27486c9b1d574d0aef6e27",
              "IPY_MODEL_c94d0a9e45164a48aca0252b41095ff5"
            ]
          }
        },
        "8c9180072b6b470fbb305d833ef04e73": {
          "model_module": "@jupyter-widgets/controls",
          "model_name": "VBoxModel",
          "state": {
            "_view_name": "VBoxView",
            "_dom_classes": [],
            "_model_name": "VBoxModel",
            "_view_module": "@jupyter-widgets/controls",
            "_model_module_version": "1.5.0",
            "_view_count": null,
            "_view_module_version": "1.5.0",
            "box_style": "",
            "layout": "IPY_MODEL_18d49819d75d4a0f82ce4d1b60b478c9",
            "_model_module": "@jupyter-widgets/controls",
            "children": [
              "IPY_MODEL_2ec6ff058fe84d7c9f346c07fed4247a",
              "IPY_MODEL_ecb98be9e565496aacbd8b21523984ee",
              "IPY_MODEL_b1116c59a9fc47279fb5e3592dd3c435"
            ]
          }
        },
        "dec2848b1ca743e18df2cfdfc2a8d8cb": {
          "model_module": "@jupyter-widgets/controls",
          "model_name": "ImageModel",
          "state": {
            "_view_name": "ImageView",
            "_dom_classes": [],
            "_model_name": "ImageModel",
            "format": "jpg",
            "_view_module": "@jupyter-widgets/controls",
            "_model_module_version": "1.5.0",
            "_view_count": null,
            "width": "",
            "_view_module_version": "1.5.0",
            "layout": "IPY_MODEL_3c1f6d9e1a3f4d6eafa677020f94df1c",
            "height": "",
            "_model_module": "@jupyter-widgets/controls"
          }
        },
        "1e9f422926ce4727ae342ffbfe9cb2c2": {
          "model_module": "@jupyter-widgets/controls",
          "model_name": "DropdownModel",
          "state": {
            "_options_labels": [
              "acoustic",
              "electric"
            ],
            "_view_name": "DropdownView",
            "style": "IPY_MODEL_c82887612b87418094942e604b884161",
            "_dom_classes": [],
            "description": "",
            "_model_name": "DropdownModel",
            "index": 1,
            "_view_module": "@jupyter-widgets/controls",
            "_model_module_version": "1.5.0",
            "_view_count": null,
            "disabled": false,
            "_view_module_version": "1.5.0",
            "description_tooltip": null,
            "_model_module": "@jupyter-widgets/controls",
            "layout": "IPY_MODEL_93156fa1a16c422e8d92f204223f5d40"
          }
        },
        "22c5791168884204a0850d8faaff2531": {
          "model_module": "@jupyter-widgets/controls",
          "model_name": "ButtonModel",
          "state": {
            "_view_name": "ButtonView",
            "style": "IPY_MODEL_4154b97d682e4530ad655e738ecc863b",
            "_dom_classes": [],
            "description": "Delete",
            "_model_name": "ButtonModel",
            "button_style": "danger",
            "_view_module": "@jupyter-widgets/controls",
            "_model_module_version": "1.5.0",
            "tooltip": "",
            "_view_count": null,
            "disabled": false,
            "_view_module_version": "1.5.0",
            "layout": "IPY_MODEL_2845fe7a169443eebf054a6103975a7a",
            "_model_module": "@jupyter-widgets/controls",
            "icon": ""
          }
        },
        "8b1852adaea046d7ada1cdcf20f48239": {
          "model_module": "@jupyter-widgets/controls",
          "model_name": "ImageModel",
          "state": {
            "_view_name": "ImageView",
            "_dom_classes": [],
            "_model_name": "ImageModel",
            "format": "jpg",
            "_view_module": "@jupyter-widgets/controls",
            "_model_module_version": "1.5.0",
            "_view_count": null,
            "width": "",
            "_view_module_version": "1.5.0",
            "layout": "IPY_MODEL_3c1f6d9e1a3f4d6eafa677020f94df1c",
            "height": "",
            "_model_module": "@jupyter-widgets/controls"
          }
        },
        "e0dbc5a838914010bf463e37fc5e68dd": {
          "model_module": "@jupyter-widgets/controls",
          "model_name": "DropdownModel",
          "state": {
            "_options_labels": [
              "acoustic",
              "electric"
            ],
            "_view_name": "DropdownView",
            "style": "IPY_MODEL_a537efb07d03418aab4657f886ce8bc1",
            "_dom_classes": [],
            "description": "",
            "_model_name": "DropdownModel",
            "index": 1,
            "_view_module": "@jupyter-widgets/controls",
            "_model_module_version": "1.5.0",
            "_view_count": null,
            "disabled": false,
            "_view_module_version": "1.5.0",
            "description_tooltip": null,
            "_model_module": "@jupyter-widgets/controls",
            "layout": "IPY_MODEL_93156fa1a16c422e8d92f204223f5d40"
          }
        },
        "f5c268be8e26481e943754daaca2b832": {
          "model_module": "@jupyter-widgets/controls",
          "model_name": "ButtonModel",
          "state": {
            "_view_name": "ButtonView",
            "style": "IPY_MODEL_cd583de39fd041449c9165e64496f2b2",
            "_dom_classes": [],
            "description": "Delete",
            "_model_name": "ButtonModel",
            "button_style": "",
            "_view_module": "@jupyter-widgets/controls",
            "_model_module_version": "1.5.0",
            "tooltip": "",
            "_view_count": null,
            "disabled": false,
            "_view_module_version": "1.5.0",
            "layout": "IPY_MODEL_2845fe7a169443eebf054a6103975a7a",
            "_model_module": "@jupyter-widgets/controls",
            "icon": ""
          }
        },
        "d7846995719340d993e1ae6b58f98d27": {
          "model_module": "@jupyter-widgets/controls",
          "model_name": "ImageModel",
          "state": {
            "_view_name": "ImageView",
            "_dom_classes": [],
            "_model_name": "ImageModel",
            "format": "jpg",
            "_view_module": "@jupyter-widgets/controls",
            "_model_module_version": "1.5.0",
            "_view_count": null,
            "width": "",
            "_view_module_version": "1.5.0",
            "layout": "IPY_MODEL_3c1f6d9e1a3f4d6eafa677020f94df1c",
            "height": "",
            "_model_module": "@jupyter-widgets/controls"
          }
        },
        "ce9f2447d3d04322920dd534ceee7d8c": {
          "model_module": "@jupyter-widgets/controls",
          "model_name": "DropdownModel",
          "state": {
            "_options_labels": [
              "acoustic",
              "electric"
            ],
            "_view_name": "DropdownView",
            "style": "IPY_MODEL_afd85a8b452a4b868590a1ac98a57f25",
            "_dom_classes": [],
            "description": "",
            "_model_name": "DropdownModel",
            "index": 0,
            "_view_module": "@jupyter-widgets/controls",
            "_model_module_version": "1.5.0",
            "_view_count": null,
            "disabled": false,
            "_view_module_version": "1.5.0",
            "description_tooltip": null,
            "_model_module": "@jupyter-widgets/controls",
            "layout": "IPY_MODEL_93156fa1a16c422e8d92f204223f5d40"
          }
        },
        "1254a127e4f34367a843f20a3c1b5d04": {
          "model_module": "@jupyter-widgets/controls",
          "model_name": "ButtonModel",
          "state": {
            "_view_name": "ButtonView",
            "style": "IPY_MODEL_2b71bbdcbb2b447bb02ef46afe0bd006",
            "_dom_classes": [],
            "description": "Delete",
            "_model_name": "ButtonModel",
            "button_style": "",
            "_view_module": "@jupyter-widgets/controls",
            "_model_module_version": "1.5.0",
            "tooltip": "",
            "_view_count": null,
            "disabled": false,
            "_view_module_version": "1.5.0",
            "layout": "IPY_MODEL_2845fe7a169443eebf054a6103975a7a",
            "_model_module": "@jupyter-widgets/controls",
            "icon": ""
          }
        },
        "310df393540e4f1ead8f121e54bde3a3": {
          "model_module": "@jupyter-widgets/controls",
          "model_name": "ImageModel",
          "state": {
            "_view_name": "ImageView",
            "_dom_classes": [],
            "_model_name": "ImageModel",
            "format": "jpg",
            "_view_module": "@jupyter-widgets/controls",
            "_model_module_version": "1.5.0",
            "_view_count": null,
            "width": "",
            "_view_module_version": "1.5.0",
            "layout": "IPY_MODEL_3c1f6d9e1a3f4d6eafa677020f94df1c",
            "height": "",
            "_model_module": "@jupyter-widgets/controls"
          }
        },
        "d74b5836eb27486c9b1d574d0aef6e27": {
          "model_module": "@jupyter-widgets/controls",
          "model_name": "DropdownModel",
          "state": {
            "_options_labels": [
              "acoustic",
              "electric"
            ],
            "_view_name": "DropdownView",
            "style": "IPY_MODEL_49ce5e5c99394729bee1a17aa67f069c",
            "_dom_classes": [],
            "description": "",
            "_model_name": "DropdownModel",
            "index": 0,
            "_view_module": "@jupyter-widgets/controls",
            "_model_module_version": "1.5.0",
            "_view_count": null,
            "disabled": false,
            "_view_module_version": "1.5.0",
            "description_tooltip": null,
            "_model_module": "@jupyter-widgets/controls",
            "layout": "IPY_MODEL_93156fa1a16c422e8d92f204223f5d40"
          }
        },
        "c94d0a9e45164a48aca0252b41095ff5": {
          "model_module": "@jupyter-widgets/controls",
          "model_name": "ButtonModel",
          "state": {
            "_view_name": "ButtonView",
            "style": "IPY_MODEL_a39d20fc2fec44e39c787ef191dfa28a",
            "_dom_classes": [],
            "description": "Delete",
            "_model_name": "ButtonModel",
            "button_style": "",
            "_view_module": "@jupyter-widgets/controls",
            "_model_module_version": "1.5.0",
            "tooltip": "",
            "_view_count": null,
            "disabled": false,
            "_view_module_version": "1.5.0",
            "layout": "IPY_MODEL_2845fe7a169443eebf054a6103975a7a",
            "_model_module": "@jupyter-widgets/controls",
            "icon": ""
          }
        },
        "2ec6ff058fe84d7c9f346c07fed4247a": {
          "model_module": "@jupyter-widgets/controls",
          "model_name": "ImageModel",
          "state": {
            "_view_name": "ImageView",
            "_dom_classes": [],
            "_model_name": "ImageModel",
            "format": "jpg",
            "_view_module": "@jupyter-widgets/controls",
            "_model_module_version": "1.5.0",
            "_view_count": null,
            "width": "",
            "_view_module_version": "1.5.0",
            "layout": "IPY_MODEL_3c1f6d9e1a3f4d6eafa677020f94df1c",
            "height": "",
            "_model_module": "@jupyter-widgets/controls"
          }
        },
        "ecb98be9e565496aacbd8b21523984ee": {
          "model_module": "@jupyter-widgets/controls",
          "model_name": "DropdownModel",
          "state": {
            "_options_labels": [
              "acoustic",
              "electric"
            ],
            "_view_name": "DropdownView",
            "style": "IPY_MODEL_b1f6320bbc8e4d529b561072868718f2",
            "_dom_classes": [],
            "description": "",
            "_model_name": "DropdownModel",
            "index": 0,
            "_view_module": "@jupyter-widgets/controls",
            "_model_module_version": "1.5.0",
            "_view_count": null,
            "disabled": false,
            "_view_module_version": "1.5.0",
            "description_tooltip": null,
            "_model_module": "@jupyter-widgets/controls",
            "layout": "IPY_MODEL_93156fa1a16c422e8d92f204223f5d40"
          }
        },
        "b1116c59a9fc47279fb5e3592dd3c435": {
          "model_module": "@jupyter-widgets/controls",
          "model_name": "ButtonModel",
          "state": {
            "_view_name": "ButtonView",
            "style": "IPY_MODEL_bce7493e938f4c8485d608fe165edded",
            "_dom_classes": [],
            "description": "Delete",
            "_model_name": "ButtonModel",
            "button_style": "",
            "_view_module": "@jupyter-widgets/controls",
            "_model_module_version": "1.5.0",
            "tooltip": "",
            "_view_count": null,
            "disabled": false,
            "_view_module_version": "1.5.0",
            "layout": "IPY_MODEL_2845fe7a169443eebf054a6103975a7a",
            "_model_module": "@jupyter-widgets/controls",
            "icon": ""
          }
        },
        "c82887612b87418094942e604b884161": {
          "model_module": "@jupyter-widgets/controls",
          "model_name": "DescriptionStyleModel",
          "state": {
            "_view_name": "StyleView",
            "_model_name": "DescriptionStyleModel",
            "description_width": "",
            "_view_module": "@jupyter-widgets/base",
            "_model_module_version": "1.5.0",
            "_view_count": null,
            "_view_module_version": "1.2.0",
            "_model_module": "@jupyter-widgets/controls"
          }
        },
        "4154b97d682e4530ad655e738ecc863b": {
          "model_module": "@jupyter-widgets/controls",
          "model_name": "ButtonStyleModel",
          "state": {
            "_view_name": "StyleView",
            "_model_name": "ButtonStyleModel",
            "_view_module": "@jupyter-widgets/base",
            "_model_module_version": "1.5.0",
            "_view_count": null,
            "button_color": null,
            "font_weight": "",
            "_view_module_version": "1.2.0",
            "_model_module": "@jupyter-widgets/controls"
          }
        },
        "a537efb07d03418aab4657f886ce8bc1": {
          "model_module": "@jupyter-widgets/controls",
          "model_name": "DescriptionStyleModel",
          "state": {
            "_view_name": "StyleView",
            "_model_name": "DescriptionStyleModel",
            "description_width": "",
            "_view_module": "@jupyter-widgets/base",
            "_model_module_version": "1.5.0",
            "_view_count": null,
            "_view_module_version": "1.2.0",
            "_model_module": "@jupyter-widgets/controls"
          }
        },
        "cd583de39fd041449c9165e64496f2b2": {
          "model_module": "@jupyter-widgets/controls",
          "model_name": "ButtonStyleModel",
          "state": {
            "_view_name": "StyleView",
            "_model_name": "ButtonStyleModel",
            "_view_module": "@jupyter-widgets/base",
            "_model_module_version": "1.5.0",
            "_view_count": null,
            "button_color": null,
            "font_weight": "",
            "_view_module_version": "1.2.0",
            "_model_module": "@jupyter-widgets/controls"
          }
        },
        "afd85a8b452a4b868590a1ac98a57f25": {
          "model_module": "@jupyter-widgets/controls",
          "model_name": "DescriptionStyleModel",
          "state": {
            "_view_name": "StyleView",
            "_model_name": "DescriptionStyleModel",
            "description_width": "",
            "_view_module": "@jupyter-widgets/base",
            "_model_module_version": "1.5.0",
            "_view_count": null,
            "_view_module_version": "1.2.0",
            "_model_module": "@jupyter-widgets/controls"
          }
        },
        "2b71bbdcbb2b447bb02ef46afe0bd006": {
          "model_module": "@jupyter-widgets/controls",
          "model_name": "ButtonStyleModel",
          "state": {
            "_view_name": "StyleView",
            "_model_name": "ButtonStyleModel",
            "_view_module": "@jupyter-widgets/base",
            "_model_module_version": "1.5.0",
            "_view_count": null,
            "button_color": null,
            "font_weight": "",
            "_view_module_version": "1.2.0",
            "_model_module": "@jupyter-widgets/controls"
          }
        },
        "49ce5e5c99394729bee1a17aa67f069c": {
          "model_module": "@jupyter-widgets/controls",
          "model_name": "DescriptionStyleModel",
          "state": {
            "_view_name": "StyleView",
            "_model_name": "DescriptionStyleModel",
            "description_width": "",
            "_view_module": "@jupyter-widgets/base",
            "_model_module_version": "1.5.0",
            "_view_count": null,
            "_view_module_version": "1.2.0",
            "_model_module": "@jupyter-widgets/controls"
          }
        },
        "a39d20fc2fec44e39c787ef191dfa28a": {
          "model_module": "@jupyter-widgets/controls",
          "model_name": "ButtonStyleModel",
          "state": {
            "_view_name": "StyleView",
            "_model_name": "ButtonStyleModel",
            "_view_module": "@jupyter-widgets/base",
            "_model_module_version": "1.5.0",
            "_view_count": null,
            "button_color": null,
            "font_weight": "",
            "_view_module_version": "1.2.0",
            "_model_module": "@jupyter-widgets/controls"
          }
        },
        "b1f6320bbc8e4d529b561072868718f2": {
          "model_module": "@jupyter-widgets/controls",
          "model_name": "DescriptionStyleModel",
          "state": {
            "_view_name": "StyleView",
            "_model_name": "DescriptionStyleModel",
            "description_width": "",
            "_view_module": "@jupyter-widgets/base",
            "_model_module_version": "1.5.0",
            "_view_count": null,
            "_view_module_version": "1.2.0",
            "_model_module": "@jupyter-widgets/controls"
          }
        },
        "bce7493e938f4c8485d608fe165edded": {
          "model_module": "@jupyter-widgets/controls",
          "model_name": "ButtonStyleModel",
          "state": {
            "_view_name": "StyleView",
            "_model_name": "ButtonStyleModel",
            "_view_module": "@jupyter-widgets/base",
            "_model_module_version": "1.5.0",
            "_view_count": null,
            "button_color": null,
            "font_weight": "",
            "_view_module_version": "1.2.0",
            "_model_module": "@jupyter-widgets/controls"
          }
        },
        "d9cca75fec9243c1a074f3410d909191": {
          "model_module": "@jupyter-widgets/controls",
          "model_name": "ButtonModel",
          "state": {
            "_view_name": "ButtonView",
            "style": "IPY_MODEL_7025ba43f67c4994b72434e8853af96c",
            "_dom_classes": [],
            "description": "Next Batch",
            "_model_name": "ButtonModel",
            "button_style": "primary",
            "_view_module": "@jupyter-widgets/controls",
            "_model_module_version": "1.5.0",
            "tooltip": "",
            "_view_count": null,
            "disabled": false,
            "_view_module_version": "1.5.0",
            "layout": "IPY_MODEL_2845fe7a169443eebf054a6103975a7a",
            "_model_module": "@jupyter-widgets/controls",
            "icon": ""
          }
        },
        "7025ba43f67c4994b72434e8853af96c": {
          "model_module": "@jupyter-widgets/controls",
          "model_name": "ButtonStyleModel",
          "state": {
            "_view_name": "StyleView",
            "_model_name": "ButtonStyleModel",
            "_view_module": "@jupyter-widgets/base",
            "_model_module_version": "1.5.0",
            "_view_count": null,
            "button_color": null,
            "font_weight": "",
            "_view_module_version": "1.2.0",
            "_model_module": "@jupyter-widgets/controls"
          }
        },
        "6e82e3481ec5409daf540ac94ad8e407": {
          "model_module": "@jupyter-widgets/controls",
          "model_name": "HBoxModel",
          "state": {
            "_view_name": "HBoxView",
            "_dom_classes": [],
            "_model_name": "HBoxModel",
            "_view_module": "@jupyter-widgets/controls",
            "_model_module_version": "1.5.0",
            "_view_count": null,
            "_view_module_version": "1.5.0",
            "box_style": "",
            "layout": "IPY_MODEL_0ec1b4ac35704653acbd8d63bde799fe",
            "_model_module": "@jupyter-widgets/controls",
            "children": [
              "IPY_MODEL_148e8ad7313642218c4dbb314a6e1e52",
              "IPY_MODEL_289519736a9d4b778c18d53e9e246082",
              "IPY_MODEL_8ff1ef3f3e4a4e1d8ec8e05593bbc1f6",
              "IPY_MODEL_8f5f78d639f8448a82e1cd27309dec60",
              "IPY_MODEL_922f3a4670194694abcb0155755fe242"
            ]
          }
        },
        "148e8ad7313642218c4dbb314a6e1e52": {
          "model_module": "@jupyter-widgets/controls",
          "model_name": "VBoxModel",
          "state": {
            "_view_name": "VBoxView",
            "_dom_classes": [],
            "_model_name": "VBoxModel",
            "_view_module": "@jupyter-widgets/controls",
            "_model_module_version": "1.5.0",
            "_view_count": null,
            "_view_module_version": "1.5.0",
            "box_style": "",
            "layout": "IPY_MODEL_18d49819d75d4a0f82ce4d1b60b478c9",
            "_model_module": "@jupyter-widgets/controls",
            "children": [
              "IPY_MODEL_5d1e80cf0ac04640b0e20b5af39510a2",
              "IPY_MODEL_e643e9d75b974858955f3f9dc71f7a53",
              "IPY_MODEL_073d0a8f5dc741d89cdf370c729209b8"
            ]
          }
        },
        "289519736a9d4b778c18d53e9e246082": {
          "model_module": "@jupyter-widgets/controls",
          "model_name": "VBoxModel",
          "state": {
            "_view_name": "VBoxView",
            "_dom_classes": [],
            "_model_name": "VBoxModel",
            "_view_module": "@jupyter-widgets/controls",
            "_model_module_version": "1.5.0",
            "_view_count": null,
            "_view_module_version": "1.5.0",
            "box_style": "",
            "layout": "IPY_MODEL_18d49819d75d4a0f82ce4d1b60b478c9",
            "_model_module": "@jupyter-widgets/controls",
            "children": [
              "IPY_MODEL_f41afadd09aa4f85ac0fc41be58bdd6d",
              "IPY_MODEL_dc6a4eca32f342e890ac2ba98cfef745",
              "IPY_MODEL_a480b96d7612479d9e6d3daf2a2405b9"
            ]
          }
        },
        "8ff1ef3f3e4a4e1d8ec8e05593bbc1f6": {
          "model_module": "@jupyter-widgets/controls",
          "model_name": "VBoxModel",
          "state": {
            "_view_name": "VBoxView",
            "_dom_classes": [],
            "_model_name": "VBoxModel",
            "_view_module": "@jupyter-widgets/controls",
            "_model_module_version": "1.5.0",
            "_view_count": null,
            "_view_module_version": "1.5.0",
            "box_style": "",
            "layout": "IPY_MODEL_18d49819d75d4a0f82ce4d1b60b478c9",
            "_model_module": "@jupyter-widgets/controls",
            "children": [
              "IPY_MODEL_c6caa5cd596646e8b55fe40c2c9bebf9",
              "IPY_MODEL_0d6b3662c9f84803b7dedf4e309b474c",
              "IPY_MODEL_9fe52fc13b294eeabb35abcae68d9a6c"
            ]
          }
        },
        "8f5f78d639f8448a82e1cd27309dec60": {
          "model_module": "@jupyter-widgets/controls",
          "model_name": "VBoxModel",
          "state": {
            "_view_name": "VBoxView",
            "_dom_classes": [],
            "_model_name": "VBoxModel",
            "_view_module": "@jupyter-widgets/controls",
            "_model_module_version": "1.5.0",
            "_view_count": null,
            "_view_module_version": "1.5.0",
            "box_style": "",
            "layout": "IPY_MODEL_18d49819d75d4a0f82ce4d1b60b478c9",
            "_model_module": "@jupyter-widgets/controls",
            "children": [
              "IPY_MODEL_ed3c28ac774546c995123a07458831db",
              "IPY_MODEL_cbea4088739f4fe1b60e9213de67290c",
              "IPY_MODEL_077eadb80c3f4f74875c26dcda313071"
            ]
          }
        },
        "922f3a4670194694abcb0155755fe242": {
          "model_module": "@jupyter-widgets/controls",
          "model_name": "VBoxModel",
          "state": {
            "_view_name": "VBoxView",
            "_dom_classes": [],
            "_model_name": "VBoxModel",
            "_view_module": "@jupyter-widgets/controls",
            "_model_module_version": "1.5.0",
            "_view_count": null,
            "_view_module_version": "1.5.0",
            "box_style": "",
            "layout": "IPY_MODEL_18d49819d75d4a0f82ce4d1b60b478c9",
            "_model_module": "@jupyter-widgets/controls",
            "children": [
              "IPY_MODEL_fda02bf6c74b4b39b4d21e31bb22b263",
              "IPY_MODEL_f468eaec16d44731b5d5a241ac9b8a59",
              "IPY_MODEL_a78cca463a3f4850a1a1d37f3fb146ff"
            ]
          }
        },
        "5d1e80cf0ac04640b0e20b5af39510a2": {
          "model_module": "@jupyter-widgets/controls",
          "model_name": "ImageModel",
          "state": {
            "_view_name": "ImageView",
            "_dom_classes": [],
            "_model_name": "ImageModel",
            "format": "jpg",
            "_view_module": "@jupyter-widgets/controls",
            "_model_module_version": "1.5.0",
            "_view_count": null,
            "width": "",
            "_view_module_version": "1.5.0",
            "layout": "IPY_MODEL_3c1f6d9e1a3f4d6eafa677020f94df1c",
            "height": "",
            "_model_module": "@jupyter-widgets/controls"
          }
        },
        "e643e9d75b974858955f3f9dc71f7a53": {
          "model_module": "@jupyter-widgets/controls",
          "model_name": "DropdownModel",
          "state": {
            "_options_labels": [
              "acoustic",
              "electric"
            ],
            "_view_name": "DropdownView",
            "style": "IPY_MODEL_da74fcf409cf476583bbb6da516d5940",
            "_dom_classes": [],
            "description": "",
            "_model_name": "DropdownModel",
            "index": 1,
            "_view_module": "@jupyter-widgets/controls",
            "_model_module_version": "1.5.0",
            "_view_count": null,
            "disabled": false,
            "_view_module_version": "1.5.0",
            "description_tooltip": null,
            "_model_module": "@jupyter-widgets/controls",
            "layout": "IPY_MODEL_93156fa1a16c422e8d92f204223f5d40"
          }
        },
        "073d0a8f5dc741d89cdf370c729209b8": {
          "model_module": "@jupyter-widgets/controls",
          "model_name": "ButtonModel",
          "state": {
            "_view_name": "ButtonView",
            "style": "IPY_MODEL_8d435ecabd4e45e3b1a2f4eef4d883d0",
            "_dom_classes": [],
            "description": "Delete",
            "_model_name": "ButtonModel",
            "button_style": "",
            "_view_module": "@jupyter-widgets/controls",
            "_model_module_version": "1.5.0",
            "tooltip": "",
            "_view_count": null,
            "disabled": false,
            "_view_module_version": "1.5.0",
            "layout": "IPY_MODEL_2845fe7a169443eebf054a6103975a7a",
            "_model_module": "@jupyter-widgets/controls",
            "icon": ""
          }
        },
        "f41afadd09aa4f85ac0fc41be58bdd6d": {
          "model_module": "@jupyter-widgets/controls",
          "model_name": "ImageModel",
          "state": {
            "_view_name": "ImageView",
            "_dom_classes": [],
            "_model_name": "ImageModel",
            "format": "jpg",
            "_view_module": "@jupyter-widgets/controls",
            "_model_module_version": "1.5.0",
            "_view_count": null,
            "width": "",
            "_view_module_version": "1.5.0",
            "layout": "IPY_MODEL_3c1f6d9e1a3f4d6eafa677020f94df1c",
            "height": "",
            "_model_module": "@jupyter-widgets/controls"
          }
        },
        "dc6a4eca32f342e890ac2ba98cfef745": {
          "model_module": "@jupyter-widgets/controls",
          "model_name": "DropdownModel",
          "state": {
            "_options_labels": [
              "acoustic",
              "electric"
            ],
            "_view_name": "DropdownView",
            "style": "IPY_MODEL_c55e96d7b3c8456a98b899827fbab768",
            "_dom_classes": [],
            "description": "",
            "_model_name": "DropdownModel",
            "index": 1,
            "_view_module": "@jupyter-widgets/controls",
            "_model_module_version": "1.5.0",
            "_view_count": null,
            "disabled": false,
            "_view_module_version": "1.5.0",
            "description_tooltip": null,
            "_model_module": "@jupyter-widgets/controls",
            "layout": "IPY_MODEL_93156fa1a16c422e8d92f204223f5d40"
          }
        },
        "a480b96d7612479d9e6d3daf2a2405b9": {
          "model_module": "@jupyter-widgets/controls",
          "model_name": "ButtonModel",
          "state": {
            "_view_name": "ButtonView",
            "style": "IPY_MODEL_8b3599bdb61d4a6d93f7e71d8aa7c940",
            "_dom_classes": [],
            "description": "Delete",
            "_model_name": "ButtonModel",
            "button_style": "",
            "_view_module": "@jupyter-widgets/controls",
            "_model_module_version": "1.5.0",
            "tooltip": "",
            "_view_count": null,
            "disabled": false,
            "_view_module_version": "1.5.0",
            "layout": "IPY_MODEL_2845fe7a169443eebf054a6103975a7a",
            "_model_module": "@jupyter-widgets/controls",
            "icon": ""
          }
        },
        "c6caa5cd596646e8b55fe40c2c9bebf9": {
          "model_module": "@jupyter-widgets/controls",
          "model_name": "ImageModel",
          "state": {
            "_view_name": "ImageView",
            "_dom_classes": [],
            "_model_name": "ImageModel",
            "format": "jpg",
            "_view_module": "@jupyter-widgets/controls",
            "_model_module_version": "1.5.0",
            "_view_count": null,
            "width": "",
            "_view_module_version": "1.5.0",
            "layout": "IPY_MODEL_3c1f6d9e1a3f4d6eafa677020f94df1c",
            "height": "",
            "_model_module": "@jupyter-widgets/controls"
          }
        },
        "0d6b3662c9f84803b7dedf4e309b474c": {
          "model_module": "@jupyter-widgets/controls",
          "model_name": "DropdownModel",
          "state": {
            "_options_labels": [
              "acoustic",
              "electric"
            ],
            "_view_name": "DropdownView",
            "style": "IPY_MODEL_d5805d5f5b0040ae8d7e92ecdbbdc583",
            "_dom_classes": [],
            "description": "",
            "_model_name": "DropdownModel",
            "index": 0,
            "_view_module": "@jupyter-widgets/controls",
            "_model_module_version": "1.5.0",
            "_view_count": null,
            "disabled": false,
            "_view_module_version": "1.5.0",
            "description_tooltip": null,
            "_model_module": "@jupyter-widgets/controls",
            "layout": "IPY_MODEL_93156fa1a16c422e8d92f204223f5d40"
          }
        },
        "9fe52fc13b294eeabb35abcae68d9a6c": {
          "model_module": "@jupyter-widgets/controls",
          "model_name": "ButtonModel",
          "state": {
            "_view_name": "ButtonView",
            "style": "IPY_MODEL_d82eb69dbe544da796b0566b23fb46ac",
            "_dom_classes": [],
            "description": "Delete",
            "_model_name": "ButtonModel",
            "button_style": "",
            "_view_module": "@jupyter-widgets/controls",
            "_model_module_version": "1.5.0",
            "tooltip": "",
            "_view_count": null,
            "disabled": false,
            "_view_module_version": "1.5.0",
            "layout": "IPY_MODEL_2845fe7a169443eebf054a6103975a7a",
            "_model_module": "@jupyter-widgets/controls",
            "icon": ""
          }
        },
        "ed3c28ac774546c995123a07458831db": {
          "model_module": "@jupyter-widgets/controls",
          "model_name": "ImageModel",
          "state": {
            "_view_name": "ImageView",
            "_dom_classes": [],
            "_model_name": "ImageModel",
            "format": "jpg",
            "_view_module": "@jupyter-widgets/controls",
            "_model_module_version": "1.5.0",
            "_view_count": null,
            "width": "",
            "_view_module_version": "1.5.0",
            "layout": "IPY_MODEL_3c1f6d9e1a3f4d6eafa677020f94df1c",
            "height": "",
            "_model_module": "@jupyter-widgets/controls"
          }
        },
        "cbea4088739f4fe1b60e9213de67290c": {
          "model_module": "@jupyter-widgets/controls",
          "model_name": "DropdownModel",
          "state": {
            "_options_labels": [
              "acoustic",
              "electric"
            ],
            "_view_name": "DropdownView",
            "style": "IPY_MODEL_62cc134612dc4250ad7f2e649c780c84",
            "_dom_classes": [],
            "description": "",
            "_model_name": "DropdownModel",
            "index": 1,
            "_view_module": "@jupyter-widgets/controls",
            "_model_module_version": "1.5.0",
            "_view_count": null,
            "disabled": false,
            "_view_module_version": "1.5.0",
            "description_tooltip": null,
            "_model_module": "@jupyter-widgets/controls",
            "layout": "IPY_MODEL_93156fa1a16c422e8d92f204223f5d40"
          }
        },
        "077eadb80c3f4f74875c26dcda313071": {
          "model_module": "@jupyter-widgets/controls",
          "model_name": "ButtonModel",
          "state": {
            "_view_name": "ButtonView",
            "style": "IPY_MODEL_e0c74de586ae4d80b66746599b054b1a",
            "_dom_classes": [],
            "description": "Delete",
            "_model_name": "ButtonModel",
            "button_style": "",
            "_view_module": "@jupyter-widgets/controls",
            "_model_module_version": "1.5.0",
            "tooltip": "",
            "_view_count": null,
            "disabled": false,
            "_view_module_version": "1.5.0",
            "layout": "IPY_MODEL_2845fe7a169443eebf054a6103975a7a",
            "_model_module": "@jupyter-widgets/controls",
            "icon": ""
          }
        },
        "fda02bf6c74b4b39b4d21e31bb22b263": {
          "model_module": "@jupyter-widgets/controls",
          "model_name": "ImageModel",
          "state": {
            "_view_name": "ImageView",
            "_dom_classes": [],
            "_model_name": "ImageModel",
            "format": "jpg",
            "_view_module": "@jupyter-widgets/controls",
            "_model_module_version": "1.5.0",
            "_view_count": null,
            "width": "",
            "_view_module_version": "1.5.0",
            "layout": "IPY_MODEL_3c1f6d9e1a3f4d6eafa677020f94df1c",
            "height": "",
            "_model_module": "@jupyter-widgets/controls"
          }
        },
        "f468eaec16d44731b5d5a241ac9b8a59": {
          "model_module": "@jupyter-widgets/controls",
          "model_name": "DropdownModel",
          "state": {
            "_options_labels": [
              "acoustic",
              "electric"
            ],
            "_view_name": "DropdownView",
            "style": "IPY_MODEL_517e23965a9d40ddb25b8466191041fd",
            "_dom_classes": [],
            "description": "",
            "_model_name": "DropdownModel",
            "index": 1,
            "_view_module": "@jupyter-widgets/controls",
            "_model_module_version": "1.5.0",
            "_view_count": null,
            "disabled": false,
            "_view_module_version": "1.5.0",
            "description_tooltip": null,
            "_model_module": "@jupyter-widgets/controls",
            "layout": "IPY_MODEL_93156fa1a16c422e8d92f204223f5d40"
          }
        },
        "a78cca463a3f4850a1a1d37f3fb146ff": {
          "model_module": "@jupyter-widgets/controls",
          "model_name": "ButtonModel",
          "state": {
            "_view_name": "ButtonView",
            "style": "IPY_MODEL_ddfbbcba991f49c9ab6ddf1e69c37e22",
            "_dom_classes": [],
            "description": "Delete",
            "_model_name": "ButtonModel",
            "button_style": "",
            "_view_module": "@jupyter-widgets/controls",
            "_model_module_version": "1.5.0",
            "tooltip": "",
            "_view_count": null,
            "disabled": false,
            "_view_module_version": "1.5.0",
            "layout": "IPY_MODEL_2845fe7a169443eebf054a6103975a7a",
            "_model_module": "@jupyter-widgets/controls",
            "icon": ""
          }
        },
        "da74fcf409cf476583bbb6da516d5940": {
          "model_module": "@jupyter-widgets/controls",
          "model_name": "DescriptionStyleModel",
          "state": {
            "_view_name": "StyleView",
            "_model_name": "DescriptionStyleModel",
            "description_width": "",
            "_view_module": "@jupyter-widgets/base",
            "_model_module_version": "1.5.0",
            "_view_count": null,
            "_view_module_version": "1.2.0",
            "_model_module": "@jupyter-widgets/controls"
          }
        },
        "8d435ecabd4e45e3b1a2f4eef4d883d0": {
          "model_module": "@jupyter-widgets/controls",
          "model_name": "ButtonStyleModel",
          "state": {
            "_view_name": "StyleView",
            "_model_name": "ButtonStyleModel",
            "_view_module": "@jupyter-widgets/base",
            "_model_module_version": "1.5.0",
            "_view_count": null,
            "button_color": null,
            "font_weight": "",
            "_view_module_version": "1.2.0",
            "_model_module": "@jupyter-widgets/controls"
          }
        },
        "c55e96d7b3c8456a98b899827fbab768": {
          "model_module": "@jupyter-widgets/controls",
          "model_name": "DescriptionStyleModel",
          "state": {
            "_view_name": "StyleView",
            "_model_name": "DescriptionStyleModel",
            "description_width": "",
            "_view_module": "@jupyter-widgets/base",
            "_model_module_version": "1.5.0",
            "_view_count": null,
            "_view_module_version": "1.2.0",
            "_model_module": "@jupyter-widgets/controls"
          }
        },
        "8b3599bdb61d4a6d93f7e71d8aa7c940": {
          "model_module": "@jupyter-widgets/controls",
          "model_name": "ButtonStyleModel",
          "state": {
            "_view_name": "StyleView",
            "_model_name": "ButtonStyleModel",
            "_view_module": "@jupyter-widgets/base",
            "_model_module_version": "1.5.0",
            "_view_count": null,
            "button_color": null,
            "font_weight": "",
            "_view_module_version": "1.2.0",
            "_model_module": "@jupyter-widgets/controls"
          }
        },
        "d5805d5f5b0040ae8d7e92ecdbbdc583": {
          "model_module": "@jupyter-widgets/controls",
          "model_name": "DescriptionStyleModel",
          "state": {
            "_view_name": "StyleView",
            "_model_name": "DescriptionStyleModel",
            "description_width": "",
            "_view_module": "@jupyter-widgets/base",
            "_model_module_version": "1.5.0",
            "_view_count": null,
            "_view_module_version": "1.2.0",
            "_model_module": "@jupyter-widgets/controls"
          }
        },
        "d82eb69dbe544da796b0566b23fb46ac": {
          "model_module": "@jupyter-widgets/controls",
          "model_name": "ButtonStyleModel",
          "state": {
            "_view_name": "StyleView",
            "_model_name": "ButtonStyleModel",
            "_view_module": "@jupyter-widgets/base",
            "_model_module_version": "1.5.0",
            "_view_count": null,
            "button_color": null,
            "font_weight": "",
            "_view_module_version": "1.2.0",
            "_model_module": "@jupyter-widgets/controls"
          }
        },
        "62cc134612dc4250ad7f2e649c780c84": {
          "model_module": "@jupyter-widgets/controls",
          "model_name": "DescriptionStyleModel",
          "state": {
            "_view_name": "StyleView",
            "_model_name": "DescriptionStyleModel",
            "description_width": "",
            "_view_module": "@jupyter-widgets/base",
            "_model_module_version": "1.5.0",
            "_view_count": null,
            "_view_module_version": "1.2.0",
            "_model_module": "@jupyter-widgets/controls"
          }
        },
        "e0c74de586ae4d80b66746599b054b1a": {
          "model_module": "@jupyter-widgets/controls",
          "model_name": "ButtonStyleModel",
          "state": {
            "_view_name": "StyleView",
            "_model_name": "ButtonStyleModel",
            "_view_module": "@jupyter-widgets/base",
            "_model_module_version": "1.5.0",
            "_view_count": null,
            "button_color": null,
            "font_weight": "",
            "_view_module_version": "1.2.0",
            "_model_module": "@jupyter-widgets/controls"
          }
        },
        "517e23965a9d40ddb25b8466191041fd": {
          "model_module": "@jupyter-widgets/controls",
          "model_name": "DescriptionStyleModel",
          "state": {
            "_view_name": "StyleView",
            "_model_name": "DescriptionStyleModel",
            "description_width": "",
            "_view_module": "@jupyter-widgets/base",
            "_model_module_version": "1.5.0",
            "_view_count": null,
            "_view_module_version": "1.2.0",
            "_model_module": "@jupyter-widgets/controls"
          }
        },
        "ddfbbcba991f49c9ab6ddf1e69c37e22": {
          "model_module": "@jupyter-widgets/controls",
          "model_name": "ButtonStyleModel",
          "state": {
            "_view_name": "StyleView",
            "_model_name": "ButtonStyleModel",
            "_view_module": "@jupyter-widgets/base",
            "_model_module_version": "1.5.0",
            "_view_count": null,
            "button_color": null,
            "font_weight": "",
            "_view_module_version": "1.2.0",
            "_model_module": "@jupyter-widgets/controls"
          }
        },
        "d36adda007aa49b7900ae7cdc418731d": {
          "model_module": "@jupyter-widgets/controls",
          "model_name": "ButtonModel",
          "state": {
            "_view_name": "ButtonView",
            "style": "IPY_MODEL_c05a5f55c7fe4256a63d7ea7ed4d441b",
            "_dom_classes": [],
            "description": "Next Batch",
            "_model_name": "ButtonModel",
            "button_style": "primary",
            "_view_module": "@jupyter-widgets/controls",
            "_model_module_version": "1.5.0",
            "tooltip": "",
            "_view_count": null,
            "disabled": false,
            "_view_module_version": "1.5.0",
            "layout": "IPY_MODEL_2845fe7a169443eebf054a6103975a7a",
            "_model_module": "@jupyter-widgets/controls",
            "icon": ""
          }
        },
        "c05a5f55c7fe4256a63d7ea7ed4d441b": {
          "model_module": "@jupyter-widgets/controls",
          "model_name": "ButtonStyleModel",
          "state": {
            "_view_name": "StyleView",
            "_model_name": "ButtonStyleModel",
            "_view_module": "@jupyter-widgets/base",
            "_model_module_version": "1.5.0",
            "_view_count": null,
            "button_color": null,
            "font_weight": "",
            "_view_module_version": "1.2.0",
            "_model_module": "@jupyter-widgets/controls"
          }
        },
        "50ab53fd47974acdaf63306eff9f62d4": {
          "model_module": "@jupyter-widgets/controls",
          "model_name": "HBoxModel",
          "state": {
            "_view_name": "HBoxView",
            "_dom_classes": [],
            "_model_name": "HBoxModel",
            "_view_module": "@jupyter-widgets/controls",
            "_model_module_version": "1.5.0",
            "_view_count": null,
            "_view_module_version": "1.5.0",
            "box_style": "",
            "layout": "IPY_MODEL_0ec1b4ac35704653acbd8d63bde799fe",
            "_model_module": "@jupyter-widgets/controls",
            "children": [
              "IPY_MODEL_e4f7f79ad4b54124a4d3e150bd8c5637",
              "IPY_MODEL_5829f0a3650c444fa853bdcc5b9be257",
              "IPY_MODEL_c8dd5133395641bd8bc22d0f7e805ea9",
              "IPY_MODEL_96f4d59eb3e144c48db0a6f0ffeca15b",
              "IPY_MODEL_863646dcffc24393b7125dc17be9b64d"
            ]
          }
        },
        "e4f7f79ad4b54124a4d3e150bd8c5637": {
          "model_module": "@jupyter-widgets/controls",
          "model_name": "VBoxModel",
          "state": {
            "_view_name": "VBoxView",
            "_dom_classes": [],
            "_model_name": "VBoxModel",
            "_view_module": "@jupyter-widgets/controls",
            "_model_module_version": "1.5.0",
            "_view_count": null,
            "_view_module_version": "1.5.0",
            "box_style": "",
            "layout": "IPY_MODEL_18d49819d75d4a0f82ce4d1b60b478c9",
            "_model_module": "@jupyter-widgets/controls",
            "children": [
              "IPY_MODEL_5e34325327b64636928c353276daf0d9",
              "IPY_MODEL_94ee3d4bd599419cb31374a3aea4eb6e",
              "IPY_MODEL_35c348e401174b11a5b36392a97e1c7f"
            ]
          }
        },
        "5829f0a3650c444fa853bdcc5b9be257": {
          "model_module": "@jupyter-widgets/controls",
          "model_name": "VBoxModel",
          "state": {
            "_view_name": "VBoxView",
            "_dom_classes": [],
            "_model_name": "VBoxModel",
            "_view_module": "@jupyter-widgets/controls",
            "_model_module_version": "1.5.0",
            "_view_count": null,
            "_view_module_version": "1.5.0",
            "box_style": "",
            "layout": "IPY_MODEL_18d49819d75d4a0f82ce4d1b60b478c9",
            "_model_module": "@jupyter-widgets/controls",
            "children": [
              "IPY_MODEL_4b39517820a049a393d616ef9a35d36a",
              "IPY_MODEL_6e17876b236d434a8300fef36f9cf0c3",
              "IPY_MODEL_5ba07c4acb1847b2a3ff3462011d5038"
            ]
          }
        },
        "c8dd5133395641bd8bc22d0f7e805ea9": {
          "model_module": "@jupyter-widgets/controls",
          "model_name": "VBoxModel",
          "state": {
            "_view_name": "VBoxView",
            "_dom_classes": [],
            "_model_name": "VBoxModel",
            "_view_module": "@jupyter-widgets/controls",
            "_model_module_version": "1.5.0",
            "_view_count": null,
            "_view_module_version": "1.5.0",
            "box_style": "",
            "layout": "IPY_MODEL_18d49819d75d4a0f82ce4d1b60b478c9",
            "_model_module": "@jupyter-widgets/controls",
            "children": [
              "IPY_MODEL_86dbe7032869440094b57b16dbb5a68e",
              "IPY_MODEL_c1928d38e6404c53902db0810bc0f0d2",
              "IPY_MODEL_e366b3507f30453a981eb26695d42fb3"
            ]
          }
        },
        "96f4d59eb3e144c48db0a6f0ffeca15b": {
          "model_module": "@jupyter-widgets/controls",
          "model_name": "VBoxModel",
          "state": {
            "_view_name": "VBoxView",
            "_dom_classes": [],
            "_model_name": "VBoxModel",
            "_view_module": "@jupyter-widgets/controls",
            "_model_module_version": "1.5.0",
            "_view_count": null,
            "_view_module_version": "1.5.0",
            "box_style": "",
            "layout": "IPY_MODEL_18d49819d75d4a0f82ce4d1b60b478c9",
            "_model_module": "@jupyter-widgets/controls",
            "children": [
              "IPY_MODEL_c61f8457b41e45ef999f7748462f8d43",
              "IPY_MODEL_8a015fb8d6504ef6b6f119c21af7fe76",
              "IPY_MODEL_ceb2fba0e12b4f1491a0cc0c0932d407"
            ]
          }
        },
        "863646dcffc24393b7125dc17be9b64d": {
          "model_module": "@jupyter-widgets/controls",
          "model_name": "VBoxModel",
          "state": {
            "_view_name": "VBoxView",
            "_dom_classes": [],
            "_model_name": "VBoxModel",
            "_view_module": "@jupyter-widgets/controls",
            "_model_module_version": "1.5.0",
            "_view_count": null,
            "_view_module_version": "1.5.0",
            "box_style": "",
            "layout": "IPY_MODEL_18d49819d75d4a0f82ce4d1b60b478c9",
            "_model_module": "@jupyter-widgets/controls",
            "children": [
              "IPY_MODEL_0282f78b1c2b4bd0b6fdf1e9f617b2df",
              "IPY_MODEL_8b300662be1c4b328afb7a15326e1c4f",
              "IPY_MODEL_a0c1d9a2233443d0ac09212cda9c06d6"
            ]
          }
        },
        "5e34325327b64636928c353276daf0d9": {
          "model_module": "@jupyter-widgets/controls",
          "model_name": "ImageModel",
          "state": {
            "_view_name": "ImageView",
            "_dom_classes": [],
            "_model_name": "ImageModel",
            "format": "jpg",
            "_view_module": "@jupyter-widgets/controls",
            "_model_module_version": "1.5.0",
            "_view_count": null,
            "width": "",
            "_view_module_version": "1.5.0",
            "layout": "IPY_MODEL_3c1f6d9e1a3f4d6eafa677020f94df1c",
            "height": "",
            "_model_module": "@jupyter-widgets/controls"
          }
        },
        "94ee3d4bd599419cb31374a3aea4eb6e": {
          "model_module": "@jupyter-widgets/controls",
          "model_name": "DropdownModel",
          "state": {
            "_options_labels": [
              "acoustic",
              "electric"
            ],
            "_view_name": "DropdownView",
            "style": "IPY_MODEL_6f5483e4c52740dab0aad62fab0ff8d1",
            "_dom_classes": [],
            "description": "",
            "_model_name": "DropdownModel",
            "index": 1,
            "_view_module": "@jupyter-widgets/controls",
            "_model_module_version": "1.5.0",
            "_view_count": null,
            "disabled": false,
            "_view_module_version": "1.5.0",
            "description_tooltip": null,
            "_model_module": "@jupyter-widgets/controls",
            "layout": "IPY_MODEL_93156fa1a16c422e8d92f204223f5d40"
          }
        },
        "35c348e401174b11a5b36392a97e1c7f": {
          "model_module": "@jupyter-widgets/controls",
          "model_name": "ButtonModel",
          "state": {
            "_view_name": "ButtonView",
            "style": "IPY_MODEL_48f59969f6d6416fa26c87219b9a3a32",
            "_dom_classes": [],
            "description": "Delete",
            "_model_name": "ButtonModel",
            "button_style": "",
            "_view_module": "@jupyter-widgets/controls",
            "_model_module_version": "1.5.0",
            "tooltip": "",
            "_view_count": null,
            "disabled": false,
            "_view_module_version": "1.5.0",
            "layout": "IPY_MODEL_2845fe7a169443eebf054a6103975a7a",
            "_model_module": "@jupyter-widgets/controls",
            "icon": ""
          }
        },
        "4b39517820a049a393d616ef9a35d36a": {
          "model_module": "@jupyter-widgets/controls",
          "model_name": "ImageModel",
          "state": {
            "_view_name": "ImageView",
            "_dom_classes": [],
            "_model_name": "ImageModel",
            "format": "jpg",
            "_view_module": "@jupyter-widgets/controls",
            "_model_module_version": "1.5.0",
            "_view_count": null,
            "width": "",
            "_view_module_version": "1.5.0",
            "layout": "IPY_MODEL_3c1f6d9e1a3f4d6eafa677020f94df1c",
            "height": "",
            "_model_module": "@jupyter-widgets/controls"
          }
        },
        "6e17876b236d434a8300fef36f9cf0c3": {
          "model_module": "@jupyter-widgets/controls",
          "model_name": "DropdownModel",
          "state": {
            "_options_labels": [
              "acoustic",
              "electric"
            ],
            "_view_name": "DropdownView",
            "style": "IPY_MODEL_5af57548e6954941b5fb819c0a9e8603",
            "_dom_classes": [],
            "description": "",
            "_model_name": "DropdownModel",
            "index": 1,
            "_view_module": "@jupyter-widgets/controls",
            "_model_module_version": "1.5.0",
            "_view_count": null,
            "disabled": false,
            "_view_module_version": "1.5.0",
            "description_tooltip": null,
            "_model_module": "@jupyter-widgets/controls",
            "layout": "IPY_MODEL_93156fa1a16c422e8d92f204223f5d40"
          }
        },
        "5ba07c4acb1847b2a3ff3462011d5038": {
          "model_module": "@jupyter-widgets/controls",
          "model_name": "ButtonModel",
          "state": {
            "_view_name": "ButtonView",
            "style": "IPY_MODEL_21fe64d1568442d09c95470ea9cc06d7",
            "_dom_classes": [],
            "description": "Delete",
            "_model_name": "ButtonModel",
            "button_style": "",
            "_view_module": "@jupyter-widgets/controls",
            "_model_module_version": "1.5.0",
            "tooltip": "",
            "_view_count": null,
            "disabled": false,
            "_view_module_version": "1.5.0",
            "layout": "IPY_MODEL_2845fe7a169443eebf054a6103975a7a",
            "_model_module": "@jupyter-widgets/controls",
            "icon": ""
          }
        },
        "86dbe7032869440094b57b16dbb5a68e": {
          "model_module": "@jupyter-widgets/controls",
          "model_name": "ImageModel",
          "state": {
            "_view_name": "ImageView",
            "_dom_classes": [],
            "_model_name": "ImageModel",
            "format": "jpg",
            "_view_module": "@jupyter-widgets/controls",
            "_model_module_version": "1.5.0",
            "_view_count": null,
            "width": "",
            "_view_module_version": "1.5.0",
            "layout": "IPY_MODEL_3c1f6d9e1a3f4d6eafa677020f94df1c",
            "height": "",
            "_model_module": "@jupyter-widgets/controls"
          }
        },
        "c1928d38e6404c53902db0810bc0f0d2": {
          "model_module": "@jupyter-widgets/controls",
          "model_name": "DropdownModel",
          "state": {
            "_options_labels": [
              "acoustic",
              "electric"
            ],
            "_view_name": "DropdownView",
            "style": "IPY_MODEL_b436068975e14e949d34b8862adc5543",
            "_dom_classes": [],
            "description": "",
            "_model_name": "DropdownModel",
            "index": 1,
            "_view_module": "@jupyter-widgets/controls",
            "_model_module_version": "1.5.0",
            "_view_count": null,
            "disabled": false,
            "_view_module_version": "1.5.0",
            "description_tooltip": null,
            "_model_module": "@jupyter-widgets/controls",
            "layout": "IPY_MODEL_93156fa1a16c422e8d92f204223f5d40"
          }
        },
        "e366b3507f30453a981eb26695d42fb3": {
          "model_module": "@jupyter-widgets/controls",
          "model_name": "ButtonModel",
          "state": {
            "_view_name": "ButtonView",
            "style": "IPY_MODEL_61de9c9f8494425181ebec778e1cc2d5",
            "_dom_classes": [],
            "description": "Delete",
            "_model_name": "ButtonModel",
            "button_style": "",
            "_view_module": "@jupyter-widgets/controls",
            "_model_module_version": "1.5.0",
            "tooltip": "",
            "_view_count": null,
            "disabled": false,
            "_view_module_version": "1.5.0",
            "layout": "IPY_MODEL_2845fe7a169443eebf054a6103975a7a",
            "_model_module": "@jupyter-widgets/controls",
            "icon": ""
          }
        },
        "c61f8457b41e45ef999f7748462f8d43": {
          "model_module": "@jupyter-widgets/controls",
          "model_name": "ImageModel",
          "state": {
            "_view_name": "ImageView",
            "_dom_classes": [],
            "_model_name": "ImageModel",
            "format": "jpg",
            "_view_module": "@jupyter-widgets/controls",
            "_model_module_version": "1.5.0",
            "_view_count": null,
            "width": "",
            "_view_module_version": "1.5.0",
            "layout": "IPY_MODEL_3c1f6d9e1a3f4d6eafa677020f94df1c",
            "height": "",
            "_model_module": "@jupyter-widgets/controls"
          }
        },
        "8a015fb8d6504ef6b6f119c21af7fe76": {
          "model_module": "@jupyter-widgets/controls",
          "model_name": "DropdownModel",
          "state": {
            "_options_labels": [
              "acoustic",
              "electric"
            ],
            "_view_name": "DropdownView",
            "style": "IPY_MODEL_541b1b1f47d6414b99840ef793f27898",
            "_dom_classes": [],
            "description": "",
            "_model_name": "DropdownModel",
            "index": 1,
            "_view_module": "@jupyter-widgets/controls",
            "_model_module_version": "1.5.0",
            "_view_count": null,
            "disabled": false,
            "_view_module_version": "1.5.0",
            "description_tooltip": null,
            "_model_module": "@jupyter-widgets/controls",
            "layout": "IPY_MODEL_93156fa1a16c422e8d92f204223f5d40"
          }
        },
        "ceb2fba0e12b4f1491a0cc0c0932d407": {
          "model_module": "@jupyter-widgets/controls",
          "model_name": "ButtonModel",
          "state": {
            "_view_name": "ButtonView",
            "style": "IPY_MODEL_dbbe95070b494bc08b7bcfc5e190426d",
            "_dom_classes": [],
            "description": "Delete",
            "_model_name": "ButtonModel",
            "button_style": "",
            "_view_module": "@jupyter-widgets/controls",
            "_model_module_version": "1.5.0",
            "tooltip": "",
            "_view_count": null,
            "disabled": false,
            "_view_module_version": "1.5.0",
            "layout": "IPY_MODEL_2845fe7a169443eebf054a6103975a7a",
            "_model_module": "@jupyter-widgets/controls",
            "icon": ""
          }
        },
        "0282f78b1c2b4bd0b6fdf1e9f617b2df": {
          "model_module": "@jupyter-widgets/controls",
          "model_name": "ImageModel",
          "state": {
            "_view_name": "ImageView",
            "_dom_classes": [],
            "_model_name": "ImageModel",
            "format": "jpg",
            "_view_module": "@jupyter-widgets/controls",
            "_model_module_version": "1.5.0",
            "_view_count": null,
            "width": "",
            "_view_module_version": "1.5.0",
            "layout": "IPY_MODEL_3c1f6d9e1a3f4d6eafa677020f94df1c",
            "height": "",
            "_model_module": "@jupyter-widgets/controls"
          }
        },
        "8b300662be1c4b328afb7a15326e1c4f": {
          "model_module": "@jupyter-widgets/controls",
          "model_name": "DropdownModel",
          "state": {
            "_options_labels": [
              "acoustic",
              "electric"
            ],
            "_view_name": "DropdownView",
            "style": "IPY_MODEL_eefacebec68c416dba6888597b8a4cef",
            "_dom_classes": [],
            "description": "",
            "_model_name": "DropdownModel",
            "index": 1,
            "_view_module": "@jupyter-widgets/controls",
            "_model_module_version": "1.5.0",
            "_view_count": null,
            "disabled": false,
            "_view_module_version": "1.5.0",
            "description_tooltip": null,
            "_model_module": "@jupyter-widgets/controls",
            "layout": "IPY_MODEL_93156fa1a16c422e8d92f204223f5d40"
          }
        },
        "a0c1d9a2233443d0ac09212cda9c06d6": {
          "model_module": "@jupyter-widgets/controls",
          "model_name": "ButtonModel",
          "state": {
            "_view_name": "ButtonView",
            "style": "IPY_MODEL_4b2c7de86b6c4d409087e0819ebd5e21",
            "_dom_classes": [],
            "description": "Delete",
            "_model_name": "ButtonModel",
            "button_style": "danger",
            "_view_module": "@jupyter-widgets/controls",
            "_model_module_version": "1.5.0",
            "tooltip": "",
            "_view_count": null,
            "disabled": false,
            "_view_module_version": "1.5.0",
            "layout": "IPY_MODEL_2845fe7a169443eebf054a6103975a7a",
            "_model_module": "@jupyter-widgets/controls",
            "icon": ""
          }
        },
        "6f5483e4c52740dab0aad62fab0ff8d1": {
          "model_module": "@jupyter-widgets/controls",
          "model_name": "DescriptionStyleModel",
          "state": {
            "_view_name": "StyleView",
            "_model_name": "DescriptionStyleModel",
            "description_width": "",
            "_view_module": "@jupyter-widgets/base",
            "_model_module_version": "1.5.0",
            "_view_count": null,
            "_view_module_version": "1.2.0",
            "_model_module": "@jupyter-widgets/controls"
          }
        },
        "48f59969f6d6416fa26c87219b9a3a32": {
          "model_module": "@jupyter-widgets/controls",
          "model_name": "ButtonStyleModel",
          "state": {
            "_view_name": "StyleView",
            "_model_name": "ButtonStyleModel",
            "_view_module": "@jupyter-widgets/base",
            "_model_module_version": "1.5.0",
            "_view_count": null,
            "button_color": null,
            "font_weight": "",
            "_view_module_version": "1.2.0",
            "_model_module": "@jupyter-widgets/controls"
          }
        },
        "5af57548e6954941b5fb819c0a9e8603": {
          "model_module": "@jupyter-widgets/controls",
          "model_name": "DescriptionStyleModel",
          "state": {
            "_view_name": "StyleView",
            "_model_name": "DescriptionStyleModel",
            "description_width": "",
            "_view_module": "@jupyter-widgets/base",
            "_model_module_version": "1.5.0",
            "_view_count": null,
            "_view_module_version": "1.2.0",
            "_model_module": "@jupyter-widgets/controls"
          }
        },
        "21fe64d1568442d09c95470ea9cc06d7": {
          "model_module": "@jupyter-widgets/controls",
          "model_name": "ButtonStyleModel",
          "state": {
            "_view_name": "StyleView",
            "_model_name": "ButtonStyleModel",
            "_view_module": "@jupyter-widgets/base",
            "_model_module_version": "1.5.0",
            "_view_count": null,
            "button_color": null,
            "font_weight": "",
            "_view_module_version": "1.2.0",
            "_model_module": "@jupyter-widgets/controls"
          }
        },
        "b436068975e14e949d34b8862adc5543": {
          "model_module": "@jupyter-widgets/controls",
          "model_name": "DescriptionStyleModel",
          "state": {
            "_view_name": "StyleView",
            "_model_name": "DescriptionStyleModel",
            "description_width": "",
            "_view_module": "@jupyter-widgets/base",
            "_model_module_version": "1.5.0",
            "_view_count": null,
            "_view_module_version": "1.2.0",
            "_model_module": "@jupyter-widgets/controls"
          }
        },
        "61de9c9f8494425181ebec778e1cc2d5": {
          "model_module": "@jupyter-widgets/controls",
          "model_name": "ButtonStyleModel",
          "state": {
            "_view_name": "StyleView",
            "_model_name": "ButtonStyleModel",
            "_view_module": "@jupyter-widgets/base",
            "_model_module_version": "1.5.0",
            "_view_count": null,
            "button_color": null,
            "font_weight": "",
            "_view_module_version": "1.2.0",
            "_model_module": "@jupyter-widgets/controls"
          }
        },
        "541b1b1f47d6414b99840ef793f27898": {
          "model_module": "@jupyter-widgets/controls",
          "model_name": "DescriptionStyleModel",
          "state": {
            "_view_name": "StyleView",
            "_model_name": "DescriptionStyleModel",
            "description_width": "",
            "_view_module": "@jupyter-widgets/base",
            "_model_module_version": "1.5.0",
            "_view_count": null,
            "_view_module_version": "1.2.0",
            "_model_module": "@jupyter-widgets/controls"
          }
        },
        "dbbe95070b494bc08b7bcfc5e190426d": {
          "model_module": "@jupyter-widgets/controls",
          "model_name": "ButtonStyleModel",
          "state": {
            "_view_name": "StyleView",
            "_model_name": "ButtonStyleModel",
            "_view_module": "@jupyter-widgets/base",
            "_model_module_version": "1.5.0",
            "_view_count": null,
            "button_color": null,
            "font_weight": "",
            "_view_module_version": "1.2.0",
            "_model_module": "@jupyter-widgets/controls"
          }
        },
        "eefacebec68c416dba6888597b8a4cef": {
          "model_module": "@jupyter-widgets/controls",
          "model_name": "DescriptionStyleModel",
          "state": {
            "_view_name": "StyleView",
            "_model_name": "DescriptionStyleModel",
            "description_width": "",
            "_view_module": "@jupyter-widgets/base",
            "_model_module_version": "1.5.0",
            "_view_count": null,
            "_view_module_version": "1.2.0",
            "_model_module": "@jupyter-widgets/controls"
          }
        },
        "4b2c7de86b6c4d409087e0819ebd5e21": {
          "model_module": "@jupyter-widgets/controls",
          "model_name": "ButtonStyleModel",
          "state": {
            "_view_name": "StyleView",
            "_model_name": "ButtonStyleModel",
            "_view_module": "@jupyter-widgets/base",
            "_model_module_version": "1.5.0",
            "_view_count": null,
            "button_color": null,
            "font_weight": "",
            "_view_module_version": "1.2.0",
            "_model_module": "@jupyter-widgets/controls"
          }
        },
        "edd1dc8a88024c9e8ad9d93af498b61c": {
          "model_module": "@jupyter-widgets/controls",
          "model_name": "ButtonModel",
          "state": {
            "_view_name": "ButtonView",
            "style": "IPY_MODEL_e657360735ae4724bd9eb42bbd76a05f",
            "_dom_classes": [],
            "description": "Next Batch",
            "_model_name": "ButtonModel",
            "button_style": "primary",
            "_view_module": "@jupyter-widgets/controls",
            "_model_module_version": "1.5.0",
            "tooltip": "",
            "_view_count": null,
            "disabled": false,
            "_view_module_version": "1.5.0",
            "layout": "IPY_MODEL_2845fe7a169443eebf054a6103975a7a",
            "_model_module": "@jupyter-widgets/controls",
            "icon": ""
          }
        },
        "e657360735ae4724bd9eb42bbd76a05f": {
          "model_module": "@jupyter-widgets/controls",
          "model_name": "ButtonStyleModel",
          "state": {
            "_view_name": "StyleView",
            "_model_name": "ButtonStyleModel",
            "_view_module": "@jupyter-widgets/base",
            "_model_module_version": "1.5.0",
            "_view_count": null,
            "button_color": null,
            "font_weight": "",
            "_view_module_version": "1.2.0",
            "_model_module": "@jupyter-widgets/controls"
          }
        },
        "ffd4265c204c4511b809a789b0fc0504": {
          "model_module": "@jupyter-widgets/controls",
          "model_name": "HBoxModel",
          "state": {
            "_view_name": "HBoxView",
            "_dom_classes": [],
            "_model_name": "HBoxModel",
            "_view_module": "@jupyter-widgets/controls",
            "_model_module_version": "1.5.0",
            "_view_count": null,
            "_view_module_version": "1.5.0",
            "box_style": "",
            "layout": "IPY_MODEL_0ec1b4ac35704653acbd8d63bde799fe",
            "_model_module": "@jupyter-widgets/controls",
            "children": [
              "IPY_MODEL_2e5eb0172611451e8deaa8bb9e9271b7",
              "IPY_MODEL_3a22a84deed84e61b5bc1a382118f19b",
              "IPY_MODEL_c1610e4cd9044758a6d1024874c0eb4d",
              "IPY_MODEL_a5087f870ab14c36bba0d990ddecfa63",
              "IPY_MODEL_800dd15a460d4dd0bf531070ad0cea4d"
            ]
          }
        },
        "2e5eb0172611451e8deaa8bb9e9271b7": {
          "model_module": "@jupyter-widgets/controls",
          "model_name": "VBoxModel",
          "state": {
            "_view_name": "VBoxView",
            "_dom_classes": [],
            "_model_name": "VBoxModel",
            "_view_module": "@jupyter-widgets/controls",
            "_model_module_version": "1.5.0",
            "_view_count": null,
            "_view_module_version": "1.5.0",
            "box_style": "",
            "layout": "IPY_MODEL_18d49819d75d4a0f82ce4d1b60b478c9",
            "_model_module": "@jupyter-widgets/controls",
            "children": [
              "IPY_MODEL_440ff52da2c24d66a66376e6377279b0",
              "IPY_MODEL_c6672ada220a44ba98246367985a74b2",
              "IPY_MODEL_4af08d1f17c8470eb03db46f6dd2b94d"
            ]
          }
        },
        "3a22a84deed84e61b5bc1a382118f19b": {
          "model_module": "@jupyter-widgets/controls",
          "model_name": "VBoxModel",
          "state": {
            "_view_name": "VBoxView",
            "_dom_classes": [],
            "_model_name": "VBoxModel",
            "_view_module": "@jupyter-widgets/controls",
            "_model_module_version": "1.5.0",
            "_view_count": null,
            "_view_module_version": "1.5.0",
            "box_style": "",
            "layout": "IPY_MODEL_18d49819d75d4a0f82ce4d1b60b478c9",
            "_model_module": "@jupyter-widgets/controls",
            "children": [
              "IPY_MODEL_d3d398cf01634908bee0fd1f85240b25",
              "IPY_MODEL_9bcc90775eed4e418922661a4bdf2682",
              "IPY_MODEL_0d785391b33d4dadb5d38dc39f00682a"
            ]
          }
        },
        "c1610e4cd9044758a6d1024874c0eb4d": {
          "model_module": "@jupyter-widgets/controls",
          "model_name": "VBoxModel",
          "state": {
            "_view_name": "VBoxView",
            "_dom_classes": [],
            "_model_name": "VBoxModel",
            "_view_module": "@jupyter-widgets/controls",
            "_model_module_version": "1.5.0",
            "_view_count": null,
            "_view_module_version": "1.5.0",
            "box_style": "",
            "layout": "IPY_MODEL_18d49819d75d4a0f82ce4d1b60b478c9",
            "_model_module": "@jupyter-widgets/controls",
            "children": [
              "IPY_MODEL_3d789b919acf4a6584ace215b6382f16",
              "IPY_MODEL_cca12434a4cb4393be8c42c5e7d5a1ba",
              "IPY_MODEL_c0ae74cfd3014e79af20aac33914e0ef"
            ]
          }
        },
        "a5087f870ab14c36bba0d990ddecfa63": {
          "model_module": "@jupyter-widgets/controls",
          "model_name": "VBoxModel",
          "state": {
            "_view_name": "VBoxView",
            "_dom_classes": [],
            "_model_name": "VBoxModel",
            "_view_module": "@jupyter-widgets/controls",
            "_model_module_version": "1.5.0",
            "_view_count": null,
            "_view_module_version": "1.5.0",
            "box_style": "",
            "layout": "IPY_MODEL_18d49819d75d4a0f82ce4d1b60b478c9",
            "_model_module": "@jupyter-widgets/controls",
            "children": [
              "IPY_MODEL_15d8f35b028749fd89d1e7dd06c413da",
              "IPY_MODEL_d1b7fe6e95894f34853dba7a4ce11022",
              "IPY_MODEL_4e9a026102494800875a2d090f069650"
            ]
          }
        },
        "800dd15a460d4dd0bf531070ad0cea4d": {
          "model_module": "@jupyter-widgets/controls",
          "model_name": "VBoxModel",
          "state": {
            "_view_name": "VBoxView",
            "_dom_classes": [],
            "_model_name": "VBoxModel",
            "_view_module": "@jupyter-widgets/controls",
            "_model_module_version": "1.5.0",
            "_view_count": null,
            "_view_module_version": "1.5.0",
            "box_style": "",
            "layout": "IPY_MODEL_18d49819d75d4a0f82ce4d1b60b478c9",
            "_model_module": "@jupyter-widgets/controls",
            "children": [
              "IPY_MODEL_8b195936dda1418eb631008391a8e10c",
              "IPY_MODEL_1e1dadc8959d465d96e25baa12d071af",
              "IPY_MODEL_0e9786cf99f54880bd8770625e91f351"
            ]
          }
        },
        "440ff52da2c24d66a66376e6377279b0": {
          "model_module": "@jupyter-widgets/controls",
          "model_name": "ImageModel",
          "state": {
            "_view_name": "ImageView",
            "_dom_classes": [],
            "_model_name": "ImageModel",
            "format": "jpg",
            "_view_module": "@jupyter-widgets/controls",
            "_model_module_version": "1.5.0",
            "_view_count": null,
            "width": "",
            "_view_module_version": "1.5.0",
            "layout": "IPY_MODEL_3c1f6d9e1a3f4d6eafa677020f94df1c",
            "height": "",
            "_model_module": "@jupyter-widgets/controls"
          }
        },
        "c6672ada220a44ba98246367985a74b2": {
          "model_module": "@jupyter-widgets/controls",
          "model_name": "DropdownModel",
          "state": {
            "_options_labels": [
              "acoustic",
              "electric"
            ],
            "_view_name": "DropdownView",
            "style": "IPY_MODEL_79a584fc12624dccba8aeee0655f011f",
            "_dom_classes": [],
            "description": "",
            "_model_name": "DropdownModel",
            "index": 1,
            "_view_module": "@jupyter-widgets/controls",
            "_model_module_version": "1.5.0",
            "_view_count": null,
            "disabled": false,
            "_view_module_version": "1.5.0",
            "description_tooltip": null,
            "_model_module": "@jupyter-widgets/controls",
            "layout": "IPY_MODEL_93156fa1a16c422e8d92f204223f5d40"
          }
        },
        "4af08d1f17c8470eb03db46f6dd2b94d": {
          "model_module": "@jupyter-widgets/controls",
          "model_name": "ButtonModel",
          "state": {
            "_view_name": "ButtonView",
            "style": "IPY_MODEL_45794b6f59dd487c84e52b613866cff8",
            "_dom_classes": [],
            "description": "Delete",
            "_model_name": "ButtonModel",
            "button_style": "",
            "_view_module": "@jupyter-widgets/controls",
            "_model_module_version": "1.5.0",
            "tooltip": "",
            "_view_count": null,
            "disabled": false,
            "_view_module_version": "1.5.0",
            "layout": "IPY_MODEL_2845fe7a169443eebf054a6103975a7a",
            "_model_module": "@jupyter-widgets/controls",
            "icon": ""
          }
        },
        "d3d398cf01634908bee0fd1f85240b25": {
          "model_module": "@jupyter-widgets/controls",
          "model_name": "ImageModel",
          "state": {
            "_view_name": "ImageView",
            "_dom_classes": [],
            "_model_name": "ImageModel",
            "format": "jpg",
            "_view_module": "@jupyter-widgets/controls",
            "_model_module_version": "1.5.0",
            "_view_count": null,
            "width": "",
            "_view_module_version": "1.5.0",
            "layout": "IPY_MODEL_3c1f6d9e1a3f4d6eafa677020f94df1c",
            "height": "",
            "_model_module": "@jupyter-widgets/controls"
          }
        },
        "9bcc90775eed4e418922661a4bdf2682": {
          "model_module": "@jupyter-widgets/controls",
          "model_name": "DropdownModel",
          "state": {
            "_options_labels": [
              "acoustic",
              "electric"
            ],
            "_view_name": "DropdownView",
            "style": "IPY_MODEL_e7575977e88345529c03b86b01d28f17",
            "_dom_classes": [],
            "description": "",
            "_model_name": "DropdownModel",
            "index": 1,
            "_view_module": "@jupyter-widgets/controls",
            "_model_module_version": "1.5.0",
            "_view_count": null,
            "disabled": false,
            "_view_module_version": "1.5.0",
            "description_tooltip": null,
            "_model_module": "@jupyter-widgets/controls",
            "layout": "IPY_MODEL_93156fa1a16c422e8d92f204223f5d40"
          }
        },
        "0d785391b33d4dadb5d38dc39f00682a": {
          "model_module": "@jupyter-widgets/controls",
          "model_name": "ButtonModel",
          "state": {
            "_view_name": "ButtonView",
            "style": "IPY_MODEL_9abbe0555d4544ad859bcc174f5f6e9b",
            "_dom_classes": [],
            "description": "Delete",
            "_model_name": "ButtonModel",
            "button_style": "",
            "_view_module": "@jupyter-widgets/controls",
            "_model_module_version": "1.5.0",
            "tooltip": "",
            "_view_count": null,
            "disabled": false,
            "_view_module_version": "1.5.0",
            "layout": "IPY_MODEL_2845fe7a169443eebf054a6103975a7a",
            "_model_module": "@jupyter-widgets/controls",
            "icon": ""
          }
        },
        "3d789b919acf4a6584ace215b6382f16": {
          "model_module": "@jupyter-widgets/controls",
          "model_name": "ImageModel",
          "state": {
            "_view_name": "ImageView",
            "_dom_classes": [],
            "_model_name": "ImageModel",
            "format": "jpg",
            "_view_module": "@jupyter-widgets/controls",
            "_model_module_version": "1.5.0",
            "_view_count": null,
            "width": "",
            "_view_module_version": "1.5.0",
            "layout": "IPY_MODEL_3c1f6d9e1a3f4d6eafa677020f94df1c",
            "height": "",
            "_model_module": "@jupyter-widgets/controls"
          }
        },
        "cca12434a4cb4393be8c42c5e7d5a1ba": {
          "model_module": "@jupyter-widgets/controls",
          "model_name": "DropdownModel",
          "state": {
            "_options_labels": [
              "acoustic",
              "electric"
            ],
            "_view_name": "DropdownView",
            "style": "IPY_MODEL_dd3ce9a4ee2a4b0e9009019e277b653c",
            "_dom_classes": [],
            "description": "",
            "_model_name": "DropdownModel",
            "index": 1,
            "_view_module": "@jupyter-widgets/controls",
            "_model_module_version": "1.5.0",
            "_view_count": null,
            "disabled": false,
            "_view_module_version": "1.5.0",
            "description_tooltip": null,
            "_model_module": "@jupyter-widgets/controls",
            "layout": "IPY_MODEL_93156fa1a16c422e8d92f204223f5d40"
          }
        },
        "c0ae74cfd3014e79af20aac33914e0ef": {
          "model_module": "@jupyter-widgets/controls",
          "model_name": "ButtonModel",
          "state": {
            "_view_name": "ButtonView",
            "style": "IPY_MODEL_f2a62f69d6054ecd8661adc712cb0fba",
            "_dom_classes": [],
            "description": "Delete",
            "_model_name": "ButtonModel",
            "button_style": "",
            "_view_module": "@jupyter-widgets/controls",
            "_model_module_version": "1.5.0",
            "tooltip": "",
            "_view_count": null,
            "disabled": false,
            "_view_module_version": "1.5.0",
            "layout": "IPY_MODEL_2845fe7a169443eebf054a6103975a7a",
            "_model_module": "@jupyter-widgets/controls",
            "icon": ""
          }
        },
        "15d8f35b028749fd89d1e7dd06c413da": {
          "model_module": "@jupyter-widgets/controls",
          "model_name": "ImageModel",
          "state": {
            "_view_name": "ImageView",
            "_dom_classes": [],
            "_model_name": "ImageModel",
            "format": "jpg",
            "_view_module": "@jupyter-widgets/controls",
            "_model_module_version": "1.5.0",
            "_view_count": null,
            "width": "",
            "_view_module_version": "1.5.0",
            "layout": "IPY_MODEL_3c1f6d9e1a3f4d6eafa677020f94df1c",
            "height": "",
            "_model_module": "@jupyter-widgets/controls"
          }
        },
        "d1b7fe6e95894f34853dba7a4ce11022": {
          "model_module": "@jupyter-widgets/controls",
          "model_name": "DropdownModel",
          "state": {
            "_options_labels": [
              "acoustic",
              "electric"
            ],
            "_view_name": "DropdownView",
            "style": "IPY_MODEL_6dc6009dfd2442ab869f0d1fdaf9e6e8",
            "_dom_classes": [],
            "description": "",
            "_model_name": "DropdownModel",
            "index": 1,
            "_view_module": "@jupyter-widgets/controls",
            "_model_module_version": "1.5.0",
            "_view_count": null,
            "disabled": false,
            "_view_module_version": "1.5.0",
            "description_tooltip": null,
            "_model_module": "@jupyter-widgets/controls",
            "layout": "IPY_MODEL_93156fa1a16c422e8d92f204223f5d40"
          }
        },
        "4e9a026102494800875a2d090f069650": {
          "model_module": "@jupyter-widgets/controls",
          "model_name": "ButtonModel",
          "state": {
            "_view_name": "ButtonView",
            "style": "IPY_MODEL_03467658bbe24f35ae258e78fbcc7131",
            "_dom_classes": [],
            "description": "Delete",
            "_model_name": "ButtonModel",
            "button_style": "",
            "_view_module": "@jupyter-widgets/controls",
            "_model_module_version": "1.5.0",
            "tooltip": "",
            "_view_count": null,
            "disabled": false,
            "_view_module_version": "1.5.0",
            "layout": "IPY_MODEL_2845fe7a169443eebf054a6103975a7a",
            "_model_module": "@jupyter-widgets/controls",
            "icon": ""
          }
        },
        "8b195936dda1418eb631008391a8e10c": {
          "model_module": "@jupyter-widgets/controls",
          "model_name": "ImageModel",
          "state": {
            "_view_name": "ImageView",
            "_dom_classes": [],
            "_model_name": "ImageModel",
            "format": "jpg",
            "_view_module": "@jupyter-widgets/controls",
            "_model_module_version": "1.5.0",
            "_view_count": null,
            "width": "",
            "_view_module_version": "1.5.0",
            "layout": "IPY_MODEL_3c1f6d9e1a3f4d6eafa677020f94df1c",
            "height": "",
            "_model_module": "@jupyter-widgets/controls"
          }
        },
        "1e1dadc8959d465d96e25baa12d071af": {
          "model_module": "@jupyter-widgets/controls",
          "model_name": "DropdownModel",
          "state": {
            "_options_labels": [
              "acoustic",
              "electric"
            ],
            "_view_name": "DropdownView",
            "style": "IPY_MODEL_8e50d29cbdb64b009cd6f935d068f224",
            "_dom_classes": [],
            "description": "",
            "_model_name": "DropdownModel",
            "index": 1,
            "_view_module": "@jupyter-widgets/controls",
            "_model_module_version": "1.5.0",
            "_view_count": null,
            "disabled": false,
            "_view_module_version": "1.5.0",
            "description_tooltip": null,
            "_model_module": "@jupyter-widgets/controls",
            "layout": "IPY_MODEL_93156fa1a16c422e8d92f204223f5d40"
          }
        },
        "0e9786cf99f54880bd8770625e91f351": {
          "model_module": "@jupyter-widgets/controls",
          "model_name": "ButtonModel",
          "state": {
            "_view_name": "ButtonView",
            "style": "IPY_MODEL_c817fbe59ab54da8a080c5ebd18dbfbf",
            "_dom_classes": [],
            "description": "Delete",
            "_model_name": "ButtonModel",
            "button_style": "",
            "_view_module": "@jupyter-widgets/controls",
            "_model_module_version": "1.5.0",
            "tooltip": "",
            "_view_count": null,
            "disabled": false,
            "_view_module_version": "1.5.0",
            "layout": "IPY_MODEL_2845fe7a169443eebf054a6103975a7a",
            "_model_module": "@jupyter-widgets/controls",
            "icon": ""
          }
        },
        "79a584fc12624dccba8aeee0655f011f": {
          "model_module": "@jupyter-widgets/controls",
          "model_name": "DescriptionStyleModel",
          "state": {
            "_view_name": "StyleView",
            "_model_name": "DescriptionStyleModel",
            "description_width": "",
            "_view_module": "@jupyter-widgets/base",
            "_model_module_version": "1.5.0",
            "_view_count": null,
            "_view_module_version": "1.2.0",
            "_model_module": "@jupyter-widgets/controls"
          }
        },
        "45794b6f59dd487c84e52b613866cff8": {
          "model_module": "@jupyter-widgets/controls",
          "model_name": "ButtonStyleModel",
          "state": {
            "_view_name": "StyleView",
            "_model_name": "ButtonStyleModel",
            "_view_module": "@jupyter-widgets/base",
            "_model_module_version": "1.5.0",
            "_view_count": null,
            "button_color": null,
            "font_weight": "",
            "_view_module_version": "1.2.0",
            "_model_module": "@jupyter-widgets/controls"
          }
        },
        "e7575977e88345529c03b86b01d28f17": {
          "model_module": "@jupyter-widgets/controls",
          "model_name": "DescriptionStyleModel",
          "state": {
            "_view_name": "StyleView",
            "_model_name": "DescriptionStyleModel",
            "description_width": "",
            "_view_module": "@jupyter-widgets/base",
            "_model_module_version": "1.5.0",
            "_view_count": null,
            "_view_module_version": "1.2.0",
            "_model_module": "@jupyter-widgets/controls"
          }
        },
        "9abbe0555d4544ad859bcc174f5f6e9b": {
          "model_module": "@jupyter-widgets/controls",
          "model_name": "ButtonStyleModel",
          "state": {
            "_view_name": "StyleView",
            "_model_name": "ButtonStyleModel",
            "_view_module": "@jupyter-widgets/base",
            "_model_module_version": "1.5.0",
            "_view_count": null,
            "button_color": null,
            "font_weight": "",
            "_view_module_version": "1.2.0",
            "_model_module": "@jupyter-widgets/controls"
          }
        },
        "dd3ce9a4ee2a4b0e9009019e277b653c": {
          "model_module": "@jupyter-widgets/controls",
          "model_name": "DescriptionStyleModel",
          "state": {
            "_view_name": "StyleView",
            "_model_name": "DescriptionStyleModel",
            "description_width": "",
            "_view_module": "@jupyter-widgets/base",
            "_model_module_version": "1.5.0",
            "_view_count": null,
            "_view_module_version": "1.2.0",
            "_model_module": "@jupyter-widgets/controls"
          }
        },
        "f2a62f69d6054ecd8661adc712cb0fba": {
          "model_module": "@jupyter-widgets/controls",
          "model_name": "ButtonStyleModel",
          "state": {
            "_view_name": "StyleView",
            "_model_name": "ButtonStyleModel",
            "_view_module": "@jupyter-widgets/base",
            "_model_module_version": "1.5.0",
            "_view_count": null,
            "button_color": null,
            "font_weight": "",
            "_view_module_version": "1.2.0",
            "_model_module": "@jupyter-widgets/controls"
          }
        },
        "6dc6009dfd2442ab869f0d1fdaf9e6e8": {
          "model_module": "@jupyter-widgets/controls",
          "model_name": "DescriptionStyleModel",
          "state": {
            "_view_name": "StyleView",
            "_model_name": "DescriptionStyleModel",
            "description_width": "",
            "_view_module": "@jupyter-widgets/base",
            "_model_module_version": "1.5.0",
            "_view_count": null,
            "_view_module_version": "1.2.0",
            "_model_module": "@jupyter-widgets/controls"
          }
        },
        "03467658bbe24f35ae258e78fbcc7131": {
          "model_module": "@jupyter-widgets/controls",
          "model_name": "ButtonStyleModel",
          "state": {
            "_view_name": "StyleView",
            "_model_name": "ButtonStyleModel",
            "_view_module": "@jupyter-widgets/base",
            "_model_module_version": "1.5.0",
            "_view_count": null,
            "button_color": null,
            "font_weight": "",
            "_view_module_version": "1.2.0",
            "_model_module": "@jupyter-widgets/controls"
          }
        },
        "8e50d29cbdb64b009cd6f935d068f224": {
          "model_module": "@jupyter-widgets/controls",
          "model_name": "DescriptionStyleModel",
          "state": {
            "_view_name": "StyleView",
            "_model_name": "DescriptionStyleModel",
            "description_width": "",
            "_view_module": "@jupyter-widgets/base",
            "_model_module_version": "1.5.0",
            "_view_count": null,
            "_view_module_version": "1.2.0",
            "_model_module": "@jupyter-widgets/controls"
          }
        },
        "c817fbe59ab54da8a080c5ebd18dbfbf": {
          "model_module": "@jupyter-widgets/controls",
          "model_name": "ButtonStyleModel",
          "state": {
            "_view_name": "StyleView",
            "_model_name": "ButtonStyleModel",
            "_view_module": "@jupyter-widgets/base",
            "_model_module_version": "1.5.0",
            "_view_count": null,
            "button_color": null,
            "font_weight": "",
            "_view_module_version": "1.2.0",
            "_model_module": "@jupyter-widgets/controls"
          }
        },
        "f0cb8db2843f4872a2c611c82c71d43f": {
          "model_module": "@jupyter-widgets/controls",
          "model_name": "ButtonModel",
          "state": {
            "_view_name": "ButtonView",
            "style": "IPY_MODEL_1e3aab69f6574004bd0971be759f8e37",
            "_dom_classes": [],
            "description": "Next Batch",
            "_model_name": "ButtonModel",
            "button_style": "primary",
            "_view_module": "@jupyter-widgets/controls",
            "_model_module_version": "1.5.0",
            "tooltip": "",
            "_view_count": null,
            "disabled": false,
            "_view_module_version": "1.5.0",
            "layout": "IPY_MODEL_2845fe7a169443eebf054a6103975a7a",
            "_model_module": "@jupyter-widgets/controls",
            "icon": ""
          }
        },
        "1e3aab69f6574004bd0971be759f8e37": {
          "model_module": "@jupyter-widgets/controls",
          "model_name": "ButtonStyleModel",
          "state": {
            "_view_name": "StyleView",
            "_model_name": "ButtonStyleModel",
            "_view_module": "@jupyter-widgets/base",
            "_model_module_version": "1.5.0",
            "_view_count": null,
            "button_color": null,
            "font_weight": "",
            "_view_module_version": "1.2.0",
            "_model_module": "@jupyter-widgets/controls"
          }
        },
        "46bdec6495514b7b8df9510a35494598": {
          "model_module": "@jupyter-widgets/controls",
          "model_name": "HBoxModel",
          "state": {
            "_view_name": "HBoxView",
            "_dom_classes": [],
            "_model_name": "HBoxModel",
            "_view_module": "@jupyter-widgets/controls",
            "_model_module_version": "1.5.0",
            "_view_count": null,
            "_view_module_version": "1.5.0",
            "box_style": "",
            "layout": "IPY_MODEL_0ec1b4ac35704653acbd8d63bde799fe",
            "_model_module": "@jupyter-widgets/controls",
            "children": [
              "IPY_MODEL_a4681d550c8246b49fe8075675b8eb3d",
              "IPY_MODEL_3cccb48909aa4523a9e686d1262508f3",
              "IPY_MODEL_6c886b46d4c7445e8c6a6a215392758c",
              "IPY_MODEL_6a5238713a7c40c5b788468b8503aaf1",
              "IPY_MODEL_2525060def674e8e943749af266fbdae"
            ]
          }
        },
        "a4681d550c8246b49fe8075675b8eb3d": {
          "model_module": "@jupyter-widgets/controls",
          "model_name": "VBoxModel",
          "state": {
            "_view_name": "VBoxView",
            "_dom_classes": [],
            "_model_name": "VBoxModel",
            "_view_module": "@jupyter-widgets/controls",
            "_model_module_version": "1.5.0",
            "_view_count": null,
            "_view_module_version": "1.5.0",
            "box_style": "",
            "layout": "IPY_MODEL_18d49819d75d4a0f82ce4d1b60b478c9",
            "_model_module": "@jupyter-widgets/controls",
            "children": [
              "IPY_MODEL_c0c5bd5ba41247de8a6ff37f3b03ca88",
              "IPY_MODEL_05c7852848384ed08564ca1ea667883e",
              "IPY_MODEL_b12b3f06c688465c9f14027fa3c1f901"
            ]
          }
        },
        "3cccb48909aa4523a9e686d1262508f3": {
          "model_module": "@jupyter-widgets/controls",
          "model_name": "VBoxModel",
          "state": {
            "_view_name": "VBoxView",
            "_dom_classes": [],
            "_model_name": "VBoxModel",
            "_view_module": "@jupyter-widgets/controls",
            "_model_module_version": "1.5.0",
            "_view_count": null,
            "_view_module_version": "1.5.0",
            "box_style": "",
            "layout": "IPY_MODEL_18d49819d75d4a0f82ce4d1b60b478c9",
            "_model_module": "@jupyter-widgets/controls",
            "children": [
              "IPY_MODEL_5a5547d189d649859d2bb16bc742583c",
              "IPY_MODEL_55e31a8f0e4e40df9aca20ead1634907",
              "IPY_MODEL_f494bc265cec4f88a0dea56c06d11a3a"
            ]
          }
        },
        "6c886b46d4c7445e8c6a6a215392758c": {
          "model_module": "@jupyter-widgets/controls",
          "model_name": "VBoxModel",
          "state": {
            "_view_name": "VBoxView",
            "_dom_classes": [],
            "_model_name": "VBoxModel",
            "_view_module": "@jupyter-widgets/controls",
            "_model_module_version": "1.5.0",
            "_view_count": null,
            "_view_module_version": "1.5.0",
            "box_style": "",
            "layout": "IPY_MODEL_18d49819d75d4a0f82ce4d1b60b478c9",
            "_model_module": "@jupyter-widgets/controls",
            "children": [
              "IPY_MODEL_a0bb776fb30a4be6a4e928eb3cc97b1b",
              "IPY_MODEL_4121218236844450bfddccb6fe26c5e7",
              "IPY_MODEL_8b42727c0f1f48fc94f32611d92f7e1a"
            ]
          }
        },
        "6a5238713a7c40c5b788468b8503aaf1": {
          "model_module": "@jupyter-widgets/controls",
          "model_name": "VBoxModel",
          "state": {
            "_view_name": "VBoxView",
            "_dom_classes": [],
            "_model_name": "VBoxModel",
            "_view_module": "@jupyter-widgets/controls",
            "_model_module_version": "1.5.0",
            "_view_count": null,
            "_view_module_version": "1.5.0",
            "box_style": "",
            "layout": "IPY_MODEL_18d49819d75d4a0f82ce4d1b60b478c9",
            "_model_module": "@jupyter-widgets/controls",
            "children": [
              "IPY_MODEL_bfc7a61a8ea240a4b50cef88bc1f440f",
              "IPY_MODEL_ca8d77f12ede42989c1e8f0707246e41",
              "IPY_MODEL_14cc9fe29bd3423ba24aced662db2019"
            ]
          }
        },
        "2525060def674e8e943749af266fbdae": {
          "model_module": "@jupyter-widgets/controls",
          "model_name": "VBoxModel",
          "state": {
            "_view_name": "VBoxView",
            "_dom_classes": [],
            "_model_name": "VBoxModel",
            "_view_module": "@jupyter-widgets/controls",
            "_model_module_version": "1.5.0",
            "_view_count": null,
            "_view_module_version": "1.5.0",
            "box_style": "",
            "layout": "IPY_MODEL_18d49819d75d4a0f82ce4d1b60b478c9",
            "_model_module": "@jupyter-widgets/controls",
            "children": [
              "IPY_MODEL_4717c709a80b42a098f3a71f87c93b70",
              "IPY_MODEL_88114dad6038482c9f4ff7404b0959ad",
              "IPY_MODEL_3960d5cdb8a84e8398ef3a6822b284f9"
            ]
          }
        },
        "c0c5bd5ba41247de8a6ff37f3b03ca88": {
          "model_module": "@jupyter-widgets/controls",
          "model_name": "ImageModel",
          "state": {
            "_view_name": "ImageView",
            "_dom_classes": [],
            "_model_name": "ImageModel",
            "format": "jpg",
            "_view_module": "@jupyter-widgets/controls",
            "_model_module_version": "1.5.0",
            "_view_count": null,
            "width": "",
            "_view_module_version": "1.5.0",
            "layout": "IPY_MODEL_3c1f6d9e1a3f4d6eafa677020f94df1c",
            "height": "",
            "_model_module": "@jupyter-widgets/controls"
          }
        },
        "05c7852848384ed08564ca1ea667883e": {
          "model_module": "@jupyter-widgets/controls",
          "model_name": "DropdownModel",
          "state": {
            "_options_labels": [
              "acoustic",
              "electric"
            ],
            "_view_name": "DropdownView",
            "style": "IPY_MODEL_6f8af502fd0b4d18b909629a2b0a1005",
            "_dom_classes": [],
            "description": "",
            "_model_name": "DropdownModel",
            "index": 1,
            "_view_module": "@jupyter-widgets/controls",
            "_model_module_version": "1.5.0",
            "_view_count": null,
            "disabled": false,
            "_view_module_version": "1.5.0",
            "description_tooltip": null,
            "_model_module": "@jupyter-widgets/controls",
            "layout": "IPY_MODEL_93156fa1a16c422e8d92f204223f5d40"
          }
        },
        "b12b3f06c688465c9f14027fa3c1f901": {
          "model_module": "@jupyter-widgets/controls",
          "model_name": "ButtonModel",
          "state": {
            "_view_name": "ButtonView",
            "style": "IPY_MODEL_5336c93356494bbda2c04584cbb91399",
            "_dom_classes": [],
            "description": "Delete",
            "_model_name": "ButtonModel",
            "button_style": "",
            "_view_module": "@jupyter-widgets/controls",
            "_model_module_version": "1.5.0",
            "tooltip": "",
            "_view_count": null,
            "disabled": false,
            "_view_module_version": "1.5.0",
            "layout": "IPY_MODEL_2845fe7a169443eebf054a6103975a7a",
            "_model_module": "@jupyter-widgets/controls",
            "icon": ""
          }
        },
        "5a5547d189d649859d2bb16bc742583c": {
          "model_module": "@jupyter-widgets/controls",
          "model_name": "ImageModel",
          "state": {
            "_view_name": "ImageView",
            "_dom_classes": [],
            "_model_name": "ImageModel",
            "format": "jpg",
            "_view_module": "@jupyter-widgets/controls",
            "_model_module_version": "1.5.0",
            "_view_count": null,
            "width": "",
            "_view_module_version": "1.5.0",
            "layout": "IPY_MODEL_3c1f6d9e1a3f4d6eafa677020f94df1c",
            "height": "",
            "_model_module": "@jupyter-widgets/controls"
          }
        },
        "55e31a8f0e4e40df9aca20ead1634907": {
          "model_module": "@jupyter-widgets/controls",
          "model_name": "DropdownModel",
          "state": {
            "_options_labels": [
              "acoustic",
              "electric"
            ],
            "_view_name": "DropdownView",
            "style": "IPY_MODEL_8abb447f0f12480a922ca235cb862c28",
            "_dom_classes": [],
            "description": "",
            "_model_name": "DropdownModel",
            "index": 1,
            "_view_module": "@jupyter-widgets/controls",
            "_model_module_version": "1.5.0",
            "_view_count": null,
            "disabled": false,
            "_view_module_version": "1.5.0",
            "description_tooltip": null,
            "_model_module": "@jupyter-widgets/controls",
            "layout": "IPY_MODEL_93156fa1a16c422e8d92f204223f5d40"
          }
        },
        "f494bc265cec4f88a0dea56c06d11a3a": {
          "model_module": "@jupyter-widgets/controls",
          "model_name": "ButtonModel",
          "state": {
            "_view_name": "ButtonView",
            "style": "IPY_MODEL_324cd955f9cb41ee8e31156ff2324626",
            "_dom_classes": [],
            "description": "Delete",
            "_model_name": "ButtonModel",
            "button_style": "",
            "_view_module": "@jupyter-widgets/controls",
            "_model_module_version": "1.5.0",
            "tooltip": "",
            "_view_count": null,
            "disabled": false,
            "_view_module_version": "1.5.0",
            "layout": "IPY_MODEL_2845fe7a169443eebf054a6103975a7a",
            "_model_module": "@jupyter-widgets/controls",
            "icon": ""
          }
        },
        "a0bb776fb30a4be6a4e928eb3cc97b1b": {
          "model_module": "@jupyter-widgets/controls",
          "model_name": "ImageModel",
          "state": {
            "_view_name": "ImageView",
            "_dom_classes": [],
            "_model_name": "ImageModel",
            "format": "jpg",
            "_view_module": "@jupyter-widgets/controls",
            "_model_module_version": "1.5.0",
            "_view_count": null,
            "width": "",
            "_view_module_version": "1.5.0",
            "layout": "IPY_MODEL_3c1f6d9e1a3f4d6eafa677020f94df1c",
            "height": "",
            "_model_module": "@jupyter-widgets/controls"
          }
        },
        "4121218236844450bfddccb6fe26c5e7": {
          "model_module": "@jupyter-widgets/controls",
          "model_name": "DropdownModel",
          "state": {
            "_options_labels": [
              "acoustic",
              "electric"
            ],
            "_view_name": "DropdownView",
            "style": "IPY_MODEL_9598ea09a03346c3ba4b87366d439913",
            "_dom_classes": [],
            "description": "",
            "_model_name": "DropdownModel",
            "index": 1,
            "_view_module": "@jupyter-widgets/controls",
            "_model_module_version": "1.5.0",
            "_view_count": null,
            "disabled": false,
            "_view_module_version": "1.5.0",
            "description_tooltip": null,
            "_model_module": "@jupyter-widgets/controls",
            "layout": "IPY_MODEL_93156fa1a16c422e8d92f204223f5d40"
          }
        },
        "8b42727c0f1f48fc94f32611d92f7e1a": {
          "model_module": "@jupyter-widgets/controls",
          "model_name": "ButtonModel",
          "state": {
            "_view_name": "ButtonView",
            "style": "IPY_MODEL_bfe2f2acba414e30b2d1574a3855e3f3",
            "_dom_classes": [],
            "description": "Delete",
            "_model_name": "ButtonModel",
            "button_style": "",
            "_view_module": "@jupyter-widgets/controls",
            "_model_module_version": "1.5.0",
            "tooltip": "",
            "_view_count": null,
            "disabled": false,
            "_view_module_version": "1.5.0",
            "layout": "IPY_MODEL_2845fe7a169443eebf054a6103975a7a",
            "_model_module": "@jupyter-widgets/controls",
            "icon": ""
          }
        },
        "bfc7a61a8ea240a4b50cef88bc1f440f": {
          "model_module": "@jupyter-widgets/controls",
          "model_name": "ImageModel",
          "state": {
            "_view_name": "ImageView",
            "_dom_classes": [],
            "_model_name": "ImageModel",
            "format": "jpg",
            "_view_module": "@jupyter-widgets/controls",
            "_model_module_version": "1.5.0",
            "_view_count": null,
            "width": "",
            "_view_module_version": "1.5.0",
            "layout": "IPY_MODEL_3c1f6d9e1a3f4d6eafa677020f94df1c",
            "height": "",
            "_model_module": "@jupyter-widgets/controls"
          }
        },
        "ca8d77f12ede42989c1e8f0707246e41": {
          "model_module": "@jupyter-widgets/controls",
          "model_name": "DropdownModel",
          "state": {
            "_options_labels": [
              "acoustic",
              "electric"
            ],
            "_view_name": "DropdownView",
            "style": "IPY_MODEL_edc359e0ad98453c8c96e83aa9f333bc",
            "_dom_classes": [],
            "description": "",
            "_model_name": "DropdownModel",
            "index": 0,
            "_view_module": "@jupyter-widgets/controls",
            "_model_module_version": "1.5.0",
            "_view_count": null,
            "disabled": false,
            "_view_module_version": "1.5.0",
            "description_tooltip": null,
            "_model_module": "@jupyter-widgets/controls",
            "layout": "IPY_MODEL_93156fa1a16c422e8d92f204223f5d40"
          }
        },
        "14cc9fe29bd3423ba24aced662db2019": {
          "model_module": "@jupyter-widgets/controls",
          "model_name": "ButtonModel",
          "state": {
            "_view_name": "ButtonView",
            "style": "IPY_MODEL_2f760c287eeb45188e8dd3d96193f9be",
            "_dom_classes": [],
            "description": "Delete",
            "_model_name": "ButtonModel",
            "button_style": "",
            "_view_module": "@jupyter-widgets/controls",
            "_model_module_version": "1.5.0",
            "tooltip": "",
            "_view_count": null,
            "disabled": false,
            "_view_module_version": "1.5.0",
            "layout": "IPY_MODEL_2845fe7a169443eebf054a6103975a7a",
            "_model_module": "@jupyter-widgets/controls",
            "icon": ""
          }
        },
        "4717c709a80b42a098f3a71f87c93b70": {
          "model_module": "@jupyter-widgets/controls",
          "model_name": "ImageModel",
          "state": {
            "_view_name": "ImageView",
            "_dom_classes": [],
            "_model_name": "ImageModel",
            "format": "jpg",
            "_view_module": "@jupyter-widgets/controls",
            "_model_module_version": "1.5.0",
            "_view_count": null,
            "width": "",
            "_view_module_version": "1.5.0",
            "layout": "IPY_MODEL_3c1f6d9e1a3f4d6eafa677020f94df1c",
            "height": "",
            "_model_module": "@jupyter-widgets/controls"
          }
        },
        "88114dad6038482c9f4ff7404b0959ad": {
          "model_module": "@jupyter-widgets/controls",
          "model_name": "DropdownModel",
          "state": {
            "_options_labels": [
              "acoustic",
              "electric"
            ],
            "_view_name": "DropdownView",
            "style": "IPY_MODEL_da2d05dd26d8475ba0a19b1500ea8c26",
            "_dom_classes": [],
            "description": "",
            "_model_name": "DropdownModel",
            "index": 1,
            "_view_module": "@jupyter-widgets/controls",
            "_model_module_version": "1.5.0",
            "_view_count": null,
            "disabled": false,
            "_view_module_version": "1.5.0",
            "description_tooltip": null,
            "_model_module": "@jupyter-widgets/controls",
            "layout": "IPY_MODEL_93156fa1a16c422e8d92f204223f5d40"
          }
        },
        "3960d5cdb8a84e8398ef3a6822b284f9": {
          "model_module": "@jupyter-widgets/controls",
          "model_name": "ButtonModel",
          "state": {
            "_view_name": "ButtonView",
            "style": "IPY_MODEL_01b1938e031e4fe09ebcde444b3b4da3",
            "_dom_classes": [],
            "description": "Delete",
            "_model_name": "ButtonModel",
            "button_style": "",
            "_view_module": "@jupyter-widgets/controls",
            "_model_module_version": "1.5.0",
            "tooltip": "",
            "_view_count": null,
            "disabled": false,
            "_view_module_version": "1.5.0",
            "layout": "IPY_MODEL_2845fe7a169443eebf054a6103975a7a",
            "_model_module": "@jupyter-widgets/controls",
            "icon": ""
          }
        },
        "6f8af502fd0b4d18b909629a2b0a1005": {
          "model_module": "@jupyter-widgets/controls",
          "model_name": "DescriptionStyleModel",
          "state": {
            "_view_name": "StyleView",
            "_model_name": "DescriptionStyleModel",
            "description_width": "",
            "_view_module": "@jupyter-widgets/base",
            "_model_module_version": "1.5.0",
            "_view_count": null,
            "_view_module_version": "1.2.0",
            "_model_module": "@jupyter-widgets/controls"
          }
        },
        "5336c93356494bbda2c04584cbb91399": {
          "model_module": "@jupyter-widgets/controls",
          "model_name": "ButtonStyleModel",
          "state": {
            "_view_name": "StyleView",
            "_model_name": "ButtonStyleModel",
            "_view_module": "@jupyter-widgets/base",
            "_model_module_version": "1.5.0",
            "_view_count": null,
            "button_color": null,
            "font_weight": "",
            "_view_module_version": "1.2.0",
            "_model_module": "@jupyter-widgets/controls"
          }
        },
        "8abb447f0f12480a922ca235cb862c28": {
          "model_module": "@jupyter-widgets/controls",
          "model_name": "DescriptionStyleModel",
          "state": {
            "_view_name": "StyleView",
            "_model_name": "DescriptionStyleModel",
            "description_width": "",
            "_view_module": "@jupyter-widgets/base",
            "_model_module_version": "1.5.0",
            "_view_count": null,
            "_view_module_version": "1.2.0",
            "_model_module": "@jupyter-widgets/controls"
          }
        },
        "324cd955f9cb41ee8e31156ff2324626": {
          "model_module": "@jupyter-widgets/controls",
          "model_name": "ButtonStyleModel",
          "state": {
            "_view_name": "StyleView",
            "_model_name": "ButtonStyleModel",
            "_view_module": "@jupyter-widgets/base",
            "_model_module_version": "1.5.0",
            "_view_count": null,
            "button_color": null,
            "font_weight": "",
            "_view_module_version": "1.2.0",
            "_model_module": "@jupyter-widgets/controls"
          }
        },
        "9598ea09a03346c3ba4b87366d439913": {
          "model_module": "@jupyter-widgets/controls",
          "model_name": "DescriptionStyleModel",
          "state": {
            "_view_name": "StyleView",
            "_model_name": "DescriptionStyleModel",
            "description_width": "",
            "_view_module": "@jupyter-widgets/base",
            "_model_module_version": "1.5.0",
            "_view_count": null,
            "_view_module_version": "1.2.0",
            "_model_module": "@jupyter-widgets/controls"
          }
        },
        "bfe2f2acba414e30b2d1574a3855e3f3": {
          "model_module": "@jupyter-widgets/controls",
          "model_name": "ButtonStyleModel",
          "state": {
            "_view_name": "StyleView",
            "_model_name": "ButtonStyleModel",
            "_view_module": "@jupyter-widgets/base",
            "_model_module_version": "1.5.0",
            "_view_count": null,
            "button_color": null,
            "font_weight": "",
            "_view_module_version": "1.2.0",
            "_model_module": "@jupyter-widgets/controls"
          }
        },
        "edc359e0ad98453c8c96e83aa9f333bc": {
          "model_module": "@jupyter-widgets/controls",
          "model_name": "DescriptionStyleModel",
          "state": {
            "_view_name": "StyleView",
            "_model_name": "DescriptionStyleModel",
            "description_width": "",
            "_view_module": "@jupyter-widgets/base",
            "_model_module_version": "1.5.0",
            "_view_count": null,
            "_view_module_version": "1.2.0",
            "_model_module": "@jupyter-widgets/controls"
          }
        },
        "2f760c287eeb45188e8dd3d96193f9be": {
          "model_module": "@jupyter-widgets/controls",
          "model_name": "ButtonStyleModel",
          "state": {
            "_view_name": "StyleView",
            "_model_name": "ButtonStyleModel",
            "_view_module": "@jupyter-widgets/base",
            "_model_module_version": "1.5.0",
            "_view_count": null,
            "button_color": null,
            "font_weight": "",
            "_view_module_version": "1.2.0",
            "_model_module": "@jupyter-widgets/controls"
          }
        },
        "da2d05dd26d8475ba0a19b1500ea8c26": {
          "model_module": "@jupyter-widgets/controls",
          "model_name": "DescriptionStyleModel",
          "state": {
            "_view_name": "StyleView",
            "_model_name": "DescriptionStyleModel",
            "description_width": "",
            "_view_module": "@jupyter-widgets/base",
            "_model_module_version": "1.5.0",
            "_view_count": null,
            "_view_module_version": "1.2.0",
            "_model_module": "@jupyter-widgets/controls"
          }
        },
        "01b1938e031e4fe09ebcde444b3b4da3": {
          "model_module": "@jupyter-widgets/controls",
          "model_name": "ButtonStyleModel",
          "state": {
            "_view_name": "StyleView",
            "_model_name": "ButtonStyleModel",
            "_view_module": "@jupyter-widgets/base",
            "_model_module_version": "1.5.0",
            "_view_count": null,
            "button_color": null,
            "font_weight": "",
            "_view_module_version": "1.2.0",
            "_model_module": "@jupyter-widgets/controls"
          }
        },
        "8c350b6777fb4d2b8c28d6b0821d80a9": {
          "model_module": "@jupyter-widgets/controls",
          "model_name": "ButtonModel",
          "state": {
            "_view_name": "ButtonView",
            "style": "IPY_MODEL_5fed670983834b09bccc5ae22f8c0a70",
            "_dom_classes": [],
            "description": "Next Batch",
            "_model_name": "ButtonModel",
            "button_style": "primary",
            "_view_module": "@jupyter-widgets/controls",
            "_model_module_version": "1.5.0",
            "tooltip": "",
            "_view_count": null,
            "disabled": false,
            "_view_module_version": "1.5.0",
            "layout": "IPY_MODEL_2845fe7a169443eebf054a6103975a7a",
            "_model_module": "@jupyter-widgets/controls",
            "icon": ""
          }
        },
        "5fed670983834b09bccc5ae22f8c0a70": {
          "model_module": "@jupyter-widgets/controls",
          "model_name": "ButtonStyleModel",
          "state": {
            "_view_name": "StyleView",
            "_model_name": "ButtonStyleModel",
            "_view_module": "@jupyter-widgets/base",
            "_model_module_version": "1.5.0",
            "_view_count": null,
            "button_color": null,
            "font_weight": "",
            "_view_module_version": "1.2.0",
            "_model_module": "@jupyter-widgets/controls"
          }
        },
        "dd3f67cc00774baeb4ba2210576bad39": {
          "model_module": "@jupyter-widgets/controls",
          "model_name": "HBoxModel",
          "state": {
            "_view_name": "HBoxView",
            "_dom_classes": [],
            "_model_name": "HBoxModel",
            "_view_module": "@jupyter-widgets/controls",
            "_model_module_version": "1.5.0",
            "_view_count": null,
            "_view_module_version": "1.5.0",
            "box_style": "",
            "layout": "IPY_MODEL_0ec1b4ac35704653acbd8d63bde799fe",
            "_model_module": "@jupyter-widgets/controls",
            "children": [
              "IPY_MODEL_92022b9d50484dda82c4a1db61e0e37a",
              "IPY_MODEL_d80d7fc200614938b873c2ed1a70b0a9",
              "IPY_MODEL_cefcc100ef37468d8ca81c73eee47956",
              "IPY_MODEL_c8bb184e10c14165b33143944e7559f1",
              "IPY_MODEL_429c4278b10b4f3891c981b3a529e464"
            ]
          }
        },
        "92022b9d50484dda82c4a1db61e0e37a": {
          "model_module": "@jupyter-widgets/controls",
          "model_name": "VBoxModel",
          "state": {
            "_view_name": "VBoxView",
            "_dom_classes": [],
            "_model_name": "VBoxModel",
            "_view_module": "@jupyter-widgets/controls",
            "_model_module_version": "1.5.0",
            "_view_count": null,
            "_view_module_version": "1.5.0",
            "box_style": "",
            "layout": "IPY_MODEL_18d49819d75d4a0f82ce4d1b60b478c9",
            "_model_module": "@jupyter-widgets/controls",
            "children": [
              "IPY_MODEL_7b36fa1d5fca4c28a1680026faaac48f",
              "IPY_MODEL_1bc1ad647ae84022a739b467761cbb93",
              "IPY_MODEL_a6a42ebb4f424b79bc5bfd2da96bceb0"
            ]
          }
        },
        "d80d7fc200614938b873c2ed1a70b0a9": {
          "model_module": "@jupyter-widgets/controls",
          "model_name": "VBoxModel",
          "state": {
            "_view_name": "VBoxView",
            "_dom_classes": [],
            "_model_name": "VBoxModel",
            "_view_module": "@jupyter-widgets/controls",
            "_model_module_version": "1.5.0",
            "_view_count": null,
            "_view_module_version": "1.5.0",
            "box_style": "",
            "layout": "IPY_MODEL_18d49819d75d4a0f82ce4d1b60b478c9",
            "_model_module": "@jupyter-widgets/controls",
            "children": [
              "IPY_MODEL_95287faebc114e679ed142c0e92d3d23",
              "IPY_MODEL_8625c591f7284d0384f0fc93337002e6",
              "IPY_MODEL_3896df7c2e99457faa93bf3161ba9078"
            ]
          }
        },
        "cefcc100ef37468d8ca81c73eee47956": {
          "model_module": "@jupyter-widgets/controls",
          "model_name": "VBoxModel",
          "state": {
            "_view_name": "VBoxView",
            "_dom_classes": [],
            "_model_name": "VBoxModel",
            "_view_module": "@jupyter-widgets/controls",
            "_model_module_version": "1.5.0",
            "_view_count": null,
            "_view_module_version": "1.5.0",
            "box_style": "",
            "layout": "IPY_MODEL_18d49819d75d4a0f82ce4d1b60b478c9",
            "_model_module": "@jupyter-widgets/controls",
            "children": [
              "IPY_MODEL_bb787a88610140d29be8ed49ecaf4487",
              "IPY_MODEL_08ca57f69de44d9b9d3eff409d8b1606",
              "IPY_MODEL_c37ee54cfdc045daae17ebc33acd0e37"
            ]
          }
        },
        "c8bb184e10c14165b33143944e7559f1": {
          "model_module": "@jupyter-widgets/controls",
          "model_name": "VBoxModel",
          "state": {
            "_view_name": "VBoxView",
            "_dom_classes": [],
            "_model_name": "VBoxModel",
            "_view_module": "@jupyter-widgets/controls",
            "_model_module_version": "1.5.0",
            "_view_count": null,
            "_view_module_version": "1.5.0",
            "box_style": "",
            "layout": "IPY_MODEL_18d49819d75d4a0f82ce4d1b60b478c9",
            "_model_module": "@jupyter-widgets/controls",
            "children": [
              "IPY_MODEL_eac945502f164455b8fe0150109a9056",
              "IPY_MODEL_4651bb0d5de14b01a0fbd58beae0551a",
              "IPY_MODEL_98908ad30eea4176add52b0ba4ea0a26"
            ]
          }
        },
        "429c4278b10b4f3891c981b3a529e464": {
          "model_module": "@jupyter-widgets/controls",
          "model_name": "VBoxModel",
          "state": {
            "_view_name": "VBoxView",
            "_dom_classes": [],
            "_model_name": "VBoxModel",
            "_view_module": "@jupyter-widgets/controls",
            "_model_module_version": "1.5.0",
            "_view_count": null,
            "_view_module_version": "1.5.0",
            "box_style": "",
            "layout": "IPY_MODEL_18d49819d75d4a0f82ce4d1b60b478c9",
            "_model_module": "@jupyter-widgets/controls",
            "children": [
              "IPY_MODEL_a6a3990f43124194aadf1428a0d961ba",
              "IPY_MODEL_ce52d4e935c94449bbba916d808580fa",
              "IPY_MODEL_ef3b2bf9af1c4f9c8edf337ec1583eca"
            ]
          }
        },
        "7b36fa1d5fca4c28a1680026faaac48f": {
          "model_module": "@jupyter-widgets/controls",
          "model_name": "ImageModel",
          "state": {
            "_view_name": "ImageView",
            "_dom_classes": [],
            "_model_name": "ImageModel",
            "format": "jpg",
            "_view_module": "@jupyter-widgets/controls",
            "_model_module_version": "1.5.0",
            "_view_count": null,
            "width": "",
            "_view_module_version": "1.5.0",
            "layout": "IPY_MODEL_3c1f6d9e1a3f4d6eafa677020f94df1c",
            "height": "",
            "_model_module": "@jupyter-widgets/controls"
          }
        },
        "1bc1ad647ae84022a739b467761cbb93": {
          "model_module": "@jupyter-widgets/controls",
          "model_name": "DropdownModel",
          "state": {
            "_options_labels": [
              "acoustic",
              "electric"
            ],
            "_view_name": "DropdownView",
            "style": "IPY_MODEL_614ec2bb365442448f708504a75959b7",
            "_dom_classes": [],
            "description": "",
            "_model_name": "DropdownModel",
            "index": 0,
            "_view_module": "@jupyter-widgets/controls",
            "_model_module_version": "1.5.0",
            "_view_count": null,
            "disabled": false,
            "_view_module_version": "1.5.0",
            "description_tooltip": null,
            "_model_module": "@jupyter-widgets/controls",
            "layout": "IPY_MODEL_93156fa1a16c422e8d92f204223f5d40"
          }
        },
        "a6a42ebb4f424b79bc5bfd2da96bceb0": {
          "model_module": "@jupyter-widgets/controls",
          "model_name": "ButtonModel",
          "state": {
            "_view_name": "ButtonView",
            "style": "IPY_MODEL_05a46d41afba40cb9828ec4a1f810b6b",
            "_dom_classes": [],
            "description": "Delete",
            "_model_name": "ButtonModel",
            "button_style": "",
            "_view_module": "@jupyter-widgets/controls",
            "_model_module_version": "1.5.0",
            "tooltip": "",
            "_view_count": null,
            "disabled": false,
            "_view_module_version": "1.5.0",
            "layout": "IPY_MODEL_2845fe7a169443eebf054a6103975a7a",
            "_model_module": "@jupyter-widgets/controls",
            "icon": ""
          }
        },
        "95287faebc114e679ed142c0e92d3d23": {
          "model_module": "@jupyter-widgets/controls",
          "model_name": "ImageModel",
          "state": {
            "_view_name": "ImageView",
            "_dom_classes": [],
            "_model_name": "ImageModel",
            "format": "jpg",
            "_view_module": "@jupyter-widgets/controls",
            "_model_module_version": "1.5.0",
            "_view_count": null,
            "width": "",
            "_view_module_version": "1.5.0",
            "layout": "IPY_MODEL_3c1f6d9e1a3f4d6eafa677020f94df1c",
            "height": "",
            "_model_module": "@jupyter-widgets/controls"
          }
        },
        "8625c591f7284d0384f0fc93337002e6": {
          "model_module": "@jupyter-widgets/controls",
          "model_name": "DropdownModel",
          "state": {
            "_options_labels": [
              "acoustic",
              "electric"
            ],
            "_view_name": "DropdownView",
            "style": "IPY_MODEL_2017fb08dd434c8489af7152adb816c3",
            "_dom_classes": [],
            "description": "",
            "_model_name": "DropdownModel",
            "index": 1,
            "_view_module": "@jupyter-widgets/controls",
            "_model_module_version": "1.5.0",
            "_view_count": null,
            "disabled": false,
            "_view_module_version": "1.5.0",
            "description_tooltip": null,
            "_model_module": "@jupyter-widgets/controls",
            "layout": "IPY_MODEL_93156fa1a16c422e8d92f204223f5d40"
          }
        },
        "3896df7c2e99457faa93bf3161ba9078": {
          "model_module": "@jupyter-widgets/controls",
          "model_name": "ButtonModel",
          "state": {
            "_view_name": "ButtonView",
            "style": "IPY_MODEL_e9e1908c5ebd4665bdd6d23c0068b0a9",
            "_dom_classes": [],
            "description": "Delete",
            "_model_name": "ButtonModel",
            "button_style": "",
            "_view_module": "@jupyter-widgets/controls",
            "_model_module_version": "1.5.0",
            "tooltip": "",
            "_view_count": null,
            "disabled": false,
            "_view_module_version": "1.5.0",
            "layout": "IPY_MODEL_2845fe7a169443eebf054a6103975a7a",
            "_model_module": "@jupyter-widgets/controls",
            "icon": ""
          }
        },
        "bb787a88610140d29be8ed49ecaf4487": {
          "model_module": "@jupyter-widgets/controls",
          "model_name": "ImageModel",
          "state": {
            "_view_name": "ImageView",
            "_dom_classes": [],
            "_model_name": "ImageModel",
            "format": "jpg",
            "_view_module": "@jupyter-widgets/controls",
            "_model_module_version": "1.5.0",
            "_view_count": null,
            "width": "",
            "_view_module_version": "1.5.0",
            "layout": "IPY_MODEL_3c1f6d9e1a3f4d6eafa677020f94df1c",
            "height": "",
            "_model_module": "@jupyter-widgets/controls"
          }
        },
        "08ca57f69de44d9b9d3eff409d8b1606": {
          "model_module": "@jupyter-widgets/controls",
          "model_name": "DropdownModel",
          "state": {
            "_options_labels": [
              "acoustic",
              "electric"
            ],
            "_view_name": "DropdownView",
            "style": "IPY_MODEL_68066a462ae7401ab4baea67984a0d77",
            "_dom_classes": [],
            "description": "",
            "_model_name": "DropdownModel",
            "index": 1,
            "_view_module": "@jupyter-widgets/controls",
            "_model_module_version": "1.5.0",
            "_view_count": null,
            "disabled": false,
            "_view_module_version": "1.5.0",
            "description_tooltip": null,
            "_model_module": "@jupyter-widgets/controls",
            "layout": "IPY_MODEL_93156fa1a16c422e8d92f204223f5d40"
          }
        },
        "c37ee54cfdc045daae17ebc33acd0e37": {
          "model_module": "@jupyter-widgets/controls",
          "model_name": "ButtonModel",
          "state": {
            "_view_name": "ButtonView",
            "style": "IPY_MODEL_dfae08c88545443ba867c823a332858f",
            "_dom_classes": [],
            "description": "Delete",
            "_model_name": "ButtonModel",
            "button_style": "",
            "_view_module": "@jupyter-widgets/controls",
            "_model_module_version": "1.5.0",
            "tooltip": "",
            "_view_count": null,
            "disabled": false,
            "_view_module_version": "1.5.0",
            "layout": "IPY_MODEL_2845fe7a169443eebf054a6103975a7a",
            "_model_module": "@jupyter-widgets/controls",
            "icon": ""
          }
        },
        "eac945502f164455b8fe0150109a9056": {
          "model_module": "@jupyter-widgets/controls",
          "model_name": "ImageModel",
          "state": {
            "_view_name": "ImageView",
            "_dom_classes": [],
            "_model_name": "ImageModel",
            "format": "jpg",
            "_view_module": "@jupyter-widgets/controls",
            "_model_module_version": "1.5.0",
            "_view_count": null,
            "width": "",
            "_view_module_version": "1.5.0",
            "layout": "IPY_MODEL_3c1f6d9e1a3f4d6eafa677020f94df1c",
            "height": "",
            "_model_module": "@jupyter-widgets/controls"
          }
        },
        "4651bb0d5de14b01a0fbd58beae0551a": {
          "model_module": "@jupyter-widgets/controls",
          "model_name": "DropdownModel",
          "state": {
            "_options_labels": [
              "acoustic",
              "electric"
            ],
            "_view_name": "DropdownView",
            "style": "IPY_MODEL_fc68815f09d4481990d795602d014f22",
            "_dom_classes": [],
            "description": "",
            "_model_name": "DropdownModel",
            "index": 1,
            "_view_module": "@jupyter-widgets/controls",
            "_model_module_version": "1.5.0",
            "_view_count": null,
            "disabled": false,
            "_view_module_version": "1.5.0",
            "description_tooltip": null,
            "_model_module": "@jupyter-widgets/controls",
            "layout": "IPY_MODEL_93156fa1a16c422e8d92f204223f5d40"
          }
        },
        "98908ad30eea4176add52b0ba4ea0a26": {
          "model_module": "@jupyter-widgets/controls",
          "model_name": "ButtonModel",
          "state": {
            "_view_name": "ButtonView",
            "style": "IPY_MODEL_6ff80264ceac447baa1527bcf31777cd",
            "_dom_classes": [],
            "description": "Delete",
            "_model_name": "ButtonModel",
            "button_style": "",
            "_view_module": "@jupyter-widgets/controls",
            "_model_module_version": "1.5.0",
            "tooltip": "",
            "_view_count": null,
            "disabled": false,
            "_view_module_version": "1.5.0",
            "layout": "IPY_MODEL_2845fe7a169443eebf054a6103975a7a",
            "_model_module": "@jupyter-widgets/controls",
            "icon": ""
          }
        },
        "a6a3990f43124194aadf1428a0d961ba": {
          "model_module": "@jupyter-widgets/controls",
          "model_name": "ImageModel",
          "state": {
            "_view_name": "ImageView",
            "_dom_classes": [],
            "_model_name": "ImageModel",
            "format": "jpg",
            "_view_module": "@jupyter-widgets/controls",
            "_model_module_version": "1.5.0",
            "_view_count": null,
            "width": "",
            "_view_module_version": "1.5.0",
            "layout": "IPY_MODEL_3c1f6d9e1a3f4d6eafa677020f94df1c",
            "height": "",
            "_model_module": "@jupyter-widgets/controls"
          }
        },
        "ce52d4e935c94449bbba916d808580fa": {
          "model_module": "@jupyter-widgets/controls",
          "model_name": "DropdownModel",
          "state": {
            "_options_labels": [
              "acoustic",
              "electric"
            ],
            "_view_name": "DropdownView",
            "style": "IPY_MODEL_0e7046e324dc42fc942028d2b314750e",
            "_dom_classes": [],
            "description": "",
            "_model_name": "DropdownModel",
            "index": 1,
            "_view_module": "@jupyter-widgets/controls",
            "_model_module_version": "1.5.0",
            "_view_count": null,
            "disabled": false,
            "_view_module_version": "1.5.0",
            "description_tooltip": null,
            "_model_module": "@jupyter-widgets/controls",
            "layout": "IPY_MODEL_93156fa1a16c422e8d92f204223f5d40"
          }
        },
        "ef3b2bf9af1c4f9c8edf337ec1583eca": {
          "model_module": "@jupyter-widgets/controls",
          "model_name": "ButtonModel",
          "state": {
            "_view_name": "ButtonView",
            "style": "IPY_MODEL_6b20558092484e8ab749fd23b0aabada",
            "_dom_classes": [],
            "description": "Delete",
            "_model_name": "ButtonModel",
            "button_style": "",
            "_view_module": "@jupyter-widgets/controls",
            "_model_module_version": "1.5.0",
            "tooltip": "",
            "_view_count": null,
            "disabled": false,
            "_view_module_version": "1.5.0",
            "layout": "IPY_MODEL_2845fe7a169443eebf054a6103975a7a",
            "_model_module": "@jupyter-widgets/controls",
            "icon": ""
          }
        },
        "614ec2bb365442448f708504a75959b7": {
          "model_module": "@jupyter-widgets/controls",
          "model_name": "DescriptionStyleModel",
          "state": {
            "_view_name": "StyleView",
            "_model_name": "DescriptionStyleModel",
            "description_width": "",
            "_view_module": "@jupyter-widgets/base",
            "_model_module_version": "1.5.0",
            "_view_count": null,
            "_view_module_version": "1.2.0",
            "_model_module": "@jupyter-widgets/controls"
          }
        },
        "05a46d41afba40cb9828ec4a1f810b6b": {
          "model_module": "@jupyter-widgets/controls",
          "model_name": "ButtonStyleModel",
          "state": {
            "_view_name": "StyleView",
            "_model_name": "ButtonStyleModel",
            "_view_module": "@jupyter-widgets/base",
            "_model_module_version": "1.5.0",
            "_view_count": null,
            "button_color": null,
            "font_weight": "",
            "_view_module_version": "1.2.0",
            "_model_module": "@jupyter-widgets/controls"
          }
        },
        "2017fb08dd434c8489af7152adb816c3": {
          "model_module": "@jupyter-widgets/controls",
          "model_name": "DescriptionStyleModel",
          "state": {
            "_view_name": "StyleView",
            "_model_name": "DescriptionStyleModel",
            "description_width": "",
            "_view_module": "@jupyter-widgets/base",
            "_model_module_version": "1.5.0",
            "_view_count": null,
            "_view_module_version": "1.2.0",
            "_model_module": "@jupyter-widgets/controls"
          }
        },
        "e9e1908c5ebd4665bdd6d23c0068b0a9": {
          "model_module": "@jupyter-widgets/controls",
          "model_name": "ButtonStyleModel",
          "state": {
            "_view_name": "StyleView",
            "_model_name": "ButtonStyleModel",
            "_view_module": "@jupyter-widgets/base",
            "_model_module_version": "1.5.0",
            "_view_count": null,
            "button_color": null,
            "font_weight": "",
            "_view_module_version": "1.2.0",
            "_model_module": "@jupyter-widgets/controls"
          }
        },
        "68066a462ae7401ab4baea67984a0d77": {
          "model_module": "@jupyter-widgets/controls",
          "model_name": "DescriptionStyleModel",
          "state": {
            "_view_name": "StyleView",
            "_model_name": "DescriptionStyleModel",
            "description_width": "",
            "_view_module": "@jupyter-widgets/base",
            "_model_module_version": "1.5.0",
            "_view_count": null,
            "_view_module_version": "1.2.0",
            "_model_module": "@jupyter-widgets/controls"
          }
        },
        "dfae08c88545443ba867c823a332858f": {
          "model_module": "@jupyter-widgets/controls",
          "model_name": "ButtonStyleModel",
          "state": {
            "_view_name": "StyleView",
            "_model_name": "ButtonStyleModel",
            "_view_module": "@jupyter-widgets/base",
            "_model_module_version": "1.5.0",
            "_view_count": null,
            "button_color": null,
            "font_weight": "",
            "_view_module_version": "1.2.0",
            "_model_module": "@jupyter-widgets/controls"
          }
        },
        "fc68815f09d4481990d795602d014f22": {
          "model_module": "@jupyter-widgets/controls",
          "model_name": "DescriptionStyleModel",
          "state": {
            "_view_name": "StyleView",
            "_model_name": "DescriptionStyleModel",
            "description_width": "",
            "_view_module": "@jupyter-widgets/base",
            "_model_module_version": "1.5.0",
            "_view_count": null,
            "_view_module_version": "1.2.0",
            "_model_module": "@jupyter-widgets/controls"
          }
        },
        "6ff80264ceac447baa1527bcf31777cd": {
          "model_module": "@jupyter-widgets/controls",
          "model_name": "ButtonStyleModel",
          "state": {
            "_view_name": "StyleView",
            "_model_name": "ButtonStyleModel",
            "_view_module": "@jupyter-widgets/base",
            "_model_module_version": "1.5.0",
            "_view_count": null,
            "button_color": null,
            "font_weight": "",
            "_view_module_version": "1.2.0",
            "_model_module": "@jupyter-widgets/controls"
          }
        },
        "0e7046e324dc42fc942028d2b314750e": {
          "model_module": "@jupyter-widgets/controls",
          "model_name": "DescriptionStyleModel",
          "state": {
            "_view_name": "StyleView",
            "_model_name": "DescriptionStyleModel",
            "description_width": "",
            "_view_module": "@jupyter-widgets/base",
            "_model_module_version": "1.5.0",
            "_view_count": null,
            "_view_module_version": "1.2.0",
            "_model_module": "@jupyter-widgets/controls"
          }
        },
        "6b20558092484e8ab749fd23b0aabada": {
          "model_module": "@jupyter-widgets/controls",
          "model_name": "ButtonStyleModel",
          "state": {
            "_view_name": "StyleView",
            "_model_name": "ButtonStyleModel",
            "_view_module": "@jupyter-widgets/base",
            "_model_module_version": "1.5.0",
            "_view_count": null,
            "button_color": null,
            "font_weight": "",
            "_view_module_version": "1.2.0",
            "_model_module": "@jupyter-widgets/controls"
          }
        },
        "3ece9cb78ab140beb10c85041ae484d8": {
          "model_module": "@jupyter-widgets/controls",
          "model_name": "ButtonModel",
          "state": {
            "_view_name": "ButtonView",
            "style": "IPY_MODEL_a1d7347469584bd6b055d2eaded6d4c4",
            "_dom_classes": [],
            "description": "Next Batch",
            "_model_name": "ButtonModel",
            "button_style": "primary",
            "_view_module": "@jupyter-widgets/controls",
            "_model_module_version": "1.5.0",
            "tooltip": "",
            "_view_count": null,
            "disabled": false,
            "_view_module_version": "1.5.0",
            "layout": "IPY_MODEL_2845fe7a169443eebf054a6103975a7a",
            "_model_module": "@jupyter-widgets/controls",
            "icon": ""
          }
        },
        "a1d7347469584bd6b055d2eaded6d4c4": {
          "model_module": "@jupyter-widgets/controls",
          "model_name": "ButtonStyleModel",
          "state": {
            "_view_name": "StyleView",
            "_model_name": "ButtonStyleModel",
            "_view_module": "@jupyter-widgets/base",
            "_model_module_version": "1.5.0",
            "_view_count": null,
            "button_color": null,
            "font_weight": "",
            "_view_module_version": "1.2.0",
            "_model_module": "@jupyter-widgets/controls"
          }
        }
      }
    }
  },
  "cells": [
    {
      "cell_type": "markdown",
      "metadata": {
        "id": "VKSbm1BVW9hE",
        "colab_type": "text"
      },
      "source": [
        "# Guitar classification\n",
        "\n",
        "In this notebook, we create a neural network that will classify whether an input image is an electric guitar or an acoustic guitar. \n",
        "\n",
        "We will scrape images from Google Images and train using the `fastai` library\n"
      ]
    },
    {
      "cell_type": "code",
      "metadata": {
        "id": "AO7pdtyYWtMI",
        "colab_type": "code",
        "colab": {}
      },
      "source": [
        "from fastai.vision import *"
      ],
      "execution_count": 1,
      "outputs": []
    },
    {
      "cell_type": "markdown",
      "metadata": {
        "id": "JWaHwFkUXYoB",
        "colab_type": "text"
      },
      "source": [
        "## Get image URLs \n",
        "\n",
        "We will search for the images we want, and copy and paste the following javascript code to the console to download a file containing the image links.\n",
        "\n",
        "```javascript\n",
        "urls=Array.from(document.querySelectorAll('.rg_i')).map(el=> el.hasAttribute('data-src')?el.getAttribute('data-src'):el.getAttribute('data-iurl'));\n",
        "window.open('data:text/csv;charset=utf-8,' + escape(urls.join('\\n')));\n",
        "```"
      ]
    },
    {
      "cell_type": "markdown",
      "metadata": {
        "id": "7yDEK0eBYXZC",
        "colab_type": "text"
      },
      "source": [
        "Upload the csv files to the jupyter runtime. \n",
        "\n",
        "Run the following cells individually for each class."
      ]
    },
    {
      "cell_type": "code",
      "metadata": {
        "id": "NvqyywkZXvCQ",
        "colab_type": "code",
        "colab": {}
      },
      "source": [
        "folder = 'electric'\n",
        "file = 'urls_electric.csv'"
      ],
      "execution_count": 2,
      "outputs": []
    },
    {
      "cell_type": "code",
      "metadata": {
        "id": "SowWnEK7Xt49",
        "colab_type": "code",
        "colab": {}
      },
      "source": [
        "folder = 'acoustic'\n",
        "file = 'urls_acoustic.csv'"
      ],
      "execution_count": 6,
      "outputs": []
    },
    {
      "cell_type": "code",
      "metadata": {
        "id": "msI3bUBjYf3s",
        "colab_type": "code",
        "colab": {}
      },
      "source": [
        "path = Path('data/guitar')\n",
        "dest = path/folder\n",
        "dest.mkdir(parents=True, exist_ok=True)"
      ],
      "execution_count": 7,
      "outputs": []
    },
    {
      "cell_type": "markdown",
      "metadata": {
        "id": "WNibGDfD9W_L",
        "colab_type": "text"
      },
      "source": [
        "## Download images"
      ]
    },
    {
      "cell_type": "code",
      "metadata": {
        "id": "85vZ11bh9WTd",
        "colab_type": "code",
        "colab": {}
      },
      "source": [
        "classes = ['electric','acoustic']"
      ],
      "execution_count": 8,
      "outputs": []
    },
    {
      "cell_type": "code",
      "metadata": {
        "id": "or1sPXP4Yizx",
        "colab_type": "code",
        "colab": {
          "base_uri": "https://localhost:8080/",
          "height": 17
        },
        "outputId": "154d1185-b36b-44bb-fa13-b7f865365704"
      },
      "source": [
        "download_images(path/file, dest, max_pics=400)"
      ],
      "execution_count": 9,
      "outputs": [
        {
          "output_type": "display_data",
          "data": {
            "text/html": [
              ""
            ],
            "text/plain": [
              "<IPython.core.display.HTML object>"
            ]
          },
          "metadata": {
            "tags": []
          }
        }
      ]
    },
    {
      "cell_type": "markdown",
      "metadata": {
        "id": "8LDu1MdZ9l88",
        "colab_type": "text"
      },
      "source": [
        "Remove any images that can't be opened"
      ]
    },
    {
      "cell_type": "code",
      "metadata": {
        "id": "qZV5QA-b9ePI",
        "colab_type": "code",
        "colab": {
          "base_uri": "https://localhost:8080/",
          "height": 86
        },
        "outputId": "766effbb-99ae-4b4f-eda5-08a8c83db3bd"
      },
      "source": [
        "for c in classes:\n",
        "    print(c)\n",
        "    verify_images(path/c, delete=True, max_size=500)\n",
        "    print(f\"Number of images: {len((path/c).ls())}\")"
      ],
      "execution_count": 10,
      "outputs": [
        {
          "output_type": "stream",
          "text": [
            "electric\n"
          ],
          "name": "stdout"
        },
        {
          "output_type": "display_data",
          "data": {
            "text/html": [
              ""
            ],
            "text/plain": [
              "<IPython.core.display.HTML object>"
            ]
          },
          "metadata": {
            "tags": []
          }
        },
        {
          "output_type": "stream",
          "text": [
            "Number of images: 320\n",
            "acoustic\n"
          ],
          "name": "stdout"
        },
        {
          "output_type": "display_data",
          "data": {
            "text/html": [
              ""
            ],
            "text/plain": [
              "<IPython.core.display.HTML object>"
            ]
          },
          "metadata": {
            "tags": []
          }
        },
        {
          "output_type": "stream",
          "text": [
            "Number of images: 320\n"
          ],
          "name": "stdout"
        }
      ]
    },
    {
      "cell_type": "markdown",
      "metadata": {
        "id": "EyaJUS_I-Al_",
        "colab_type": "text"
      },
      "source": [
        "## View data"
      ]
    },
    {
      "cell_type": "code",
      "metadata": {
        "id": "CFPJ_5RF9nXb",
        "colab_type": "code",
        "colab": {}
      },
      "source": [
        "np.random.seed(42)\n",
        "data = ImageDataBunch.from_folder(path, train=\".\", valid_pct=0.2,\n",
        "      ds_tfms=get_transforms(), size=224, num_workers=4).normalize(imagenet_stats)"
      ],
      "execution_count": 11,
      "outputs": []
    },
    {
      "cell_type": "code",
      "metadata": {
        "id": "pJ7zqvFC9qUU",
        "colab_type": "code",
        "colab": {
          "base_uri": "https://localhost:8080/",
          "height": 34
        },
        "outputId": "f30cdf9c-a4d1-434a-9b2a-e5142f12b0ea"
      },
      "source": [
        "data.classes"
      ],
      "execution_count": 12,
      "outputs": [
        {
          "output_type": "execute_result",
          "data": {
            "text/plain": [
              "['acoustic', 'electric']"
            ]
          },
          "metadata": {
            "tags": []
          },
          "execution_count": 12
        }
      ]
    },
    {
      "cell_type": "code",
      "metadata": {
        "id": "IlybQqJ--eU6",
        "colab_type": "code",
        "colab": {
          "base_uri": "https://localhost:8080/",
          "height": 573
        },
        "outputId": "6965a821-5dab-4888-aa70-18f072c23a5f"
      },
      "source": [
        "data.show_batch(3, figsize=(7, 8))"
      ],
      "execution_count": 13,
      "outputs": [
        {
          "output_type": "display_data",
          "data": {
            "image/png": "[encoded data removed]",
            "text/plain": [
              "<Figure size 504x576 with 9 Axes>"
            ]
          },
          "metadata": {
            "tags": [],
            "needs_background": "light"
          }
        }
      ]
    },
    {
      "cell_type": "code",
      "metadata": {
        "id": "iRQAahDG-flK",
        "colab_type": "code",
        "colab": {
          "base_uri": "https://localhost:8080/",
          "height": 34
        },
        "outputId": "9341f8fa-b4cd-4a75-fd84-59162d62ad8c"
      },
      "source": [
        "data.classes, data.c, len(data.train_ds), len(data.valid_ds)"
      ],
      "execution_count": 14,
      "outputs": [
        {
          "output_type": "execute_result",
          "data": {
            "text/plain": [
              "(['acoustic', 'electric'], 2, 512, 128)"
            ]
          },
          "metadata": {
            "tags": []
          },
          "execution_count": 14
        }
      ]
    },
    {
      "cell_type": "markdown",
      "metadata": {
        "id": "VpUN95lR-5m6",
        "colab_type": "text"
      },
      "source": [
        "## Train model\n",
        "\n",
        "Fine tuning on a ResNet34 pretrained on ImageNet."
      ]
    },
    {
      "cell_type": "code",
      "metadata": {
        "id": "2BUfNB9t-3Qs",
        "colab_type": "code",
        "colab": {
          "base_uri": "https://localhost:8080/",
          "height": 104,
          "referenced_widgets": [
            "94eb628c838e46768f3f975f968dd9e3",
            "0e25c4d28c11434db6db2f146fa6160e",
            "b9876d5ea1904e59af7f670b4edadce0",
            "a1beb815f17645468852a0334dea3521",
            "f247fdac1e6b4572b034c7b2f41ca463",
            "cba89e4900fa48d688e550a382edf1cb",
            "a6d477e39d6b432dad4aa493f4dc9f39",
            "1e57f09cc481406eb134bbc07be53ec6"
          ]
        },
        "outputId": "83e4fef7-f1f0-4cb8-f33b-9dcaaaa19c5b"
      },
      "source": [
        "learn = cnn_learner(data, models.resnet34, metrics=error_rate)"
      ],
      "execution_count": 14,
      "outputs": [
        {
          "output_type": "stream",
          "text": [
            "Downloading: \"https://download.pytorch.org/models/resnet34-333f7ec4.pth\" to /root/.cache/torch/hub/checkpoints/resnet34-333f7ec4.pth\n"
          ],
          "name": "stderr"
        },
        {
          "output_type": "display_data",
          "data": {
            "application/vnd.jupyter.widget-view+json": {
              "model_id": "94eb628c838e46768f3f975f968dd9e3",
              "version_minor": 0,
              "version_major": 2
            },
            "text/plain": [
              "HBox(children=(FloatProgress(value=0.0, max=87306240.0), HTML(value='')))"
            ]
          },
          "metadata": {
            "tags": []
          }
        },
        {
          "output_type": "stream",
          "text": [
            "\n"
          ],
          "name": "stdout"
        }
      ]
    },
    {
      "cell_type": "code",
      "metadata": {
        "id": "kK4EvCML_iw8",
        "colab_type": "code",
        "colab": {
          "base_uri": "https://localhost:8080/",
          "height": 472
        },
        "outputId": "67fbbe1a-f394-4159-bfad-ea6a80d42a66"
      },
      "source": [
        "learn.fit_one_cycle(4)"
      ],
      "execution_count": 15,
      "outputs": [
        {
          "output_type": "display_data",
          "data": {
            "text/html": [
              "<table border=\"1\" class=\"dataframe\">\n",
              "  <thead>\n",
              "    <tr style=\"text-align: left;\">\n",
              "      <th>epoch</th>\n",
              "      <th>train_loss</th>\n",
              "      <th>valid_loss</th>\n",
              "      <th>error_rate</th>\n",
              "      <th>time</th>\n",
              "    </tr>\n",
              "  </thead>\n",
              "  <tbody>\n",
              "    <tr>\n",
              "      <td>0</td>\n",
              "      <td>1.096586</td>\n",
              "      <td>0.430556</td>\n",
              "      <td>0.125000</td>\n",
              "      <td>00:08</td>\n",
              "    </tr>\n",
              "    <tr>\n",
              "      <td>1</td>\n",
              "      <td>0.763590</td>\n",
              "      <td>0.498526</td>\n",
              "      <td>0.109375</td>\n",
              "      <td>00:08</td>\n",
              "    </tr>\n",
              "    <tr>\n",
              "      <td>2</td>\n",
              "      <td>0.601689</td>\n",
              "      <td>0.491814</td>\n",
              "      <td>0.085938</td>\n",
              "      <td>00:08</td>\n",
              "    </tr>\n",
              "    <tr>\n",
              "      <td>3</td>\n",
              "      <td>0.507029</td>\n",
              "      <td>0.482877</td>\n",
              "      <td>0.093750</td>\n",
              "      <td>00:08</td>\n",
              "    </tr>\n",
              "  </tbody>\n",
              "</table>"
            ],
            "text/plain": [
              "<IPython.core.display.HTML object>"
            ]
          },
          "metadata": {
            "tags": []
          }
        },
        {
          "output_type": "stream",
          "text": [
            "/usr/local/lib/python3.6/dist-packages/torch/nn/functional.py:3000: UserWarning: The default behavior for interpolate/upsample with float scale_factor changed in 1.6.0 to align with other frameworks/libraries, and uses scale_factor directly, instead of relying on the computed output size. If you wish to keep the old behavior, please set recompute_scale_factor=True. See the documentation of nn.Upsample for details. \n",
            "  warnings.warn(\"The default behavior for interpolate/upsample with float scale_factor changed \"\n",
            "/usr/local/lib/python3.6/dist-packages/torch/nn/functional.py:3000: UserWarning: The default behavior for interpolate/upsample with float scale_factor changed in 1.6.0 to align with other frameworks/libraries, and uses scale_factor directly, instead of relying on the computed output size. If you wish to keep the old behavior, please set recompute_scale_factor=True. See the documentation of nn.Upsample for details. \n",
            "  warnings.warn(\"The default behavior for interpolate/upsample with float scale_factor changed \"\n",
            "/usr/local/lib/python3.6/dist-packages/torch/nn/functional.py:3000: UserWarning: The default behavior for interpolate/upsample with float scale_factor changed in 1.6.0 to align with other frameworks/libraries, and uses scale_factor directly, instead of relying on the computed output size. If you wish to keep the old behavior, please set recompute_scale_factor=True. See the documentation of nn.Upsample for details. \n",
            "  warnings.warn(\"The default behavior for interpolate/upsample with float scale_factor changed \"\n",
            "/usr/local/lib/python3.6/dist-packages/torch/nn/functional.py:3000: UserWarning: The default behavior for interpolate/upsample with float scale_factor changed in 1.6.0 to align with other frameworks/libraries, and uses scale_factor directly, instead of relying on the computed output size. If you wish to keep the old behavior, please set recompute_scale_factor=True. See the documentation of nn.Upsample for details. \n",
            "  warnings.warn(\"The default behavior for interpolate/upsample with float scale_factor changed \"\n",
            "/usr/local/lib/python3.6/dist-packages/torch/nn/functional.py:3000: UserWarning: The default behavior for interpolate/upsample with float scale_factor changed in 1.6.0 to align with other frameworks/libraries, and uses scale_factor directly, instead of relying on the computed output size. If you wish to keep the old behavior, please set recompute_scale_factor=True. See the documentation of nn.Upsample for details. \n",
            "  warnings.warn(\"The default behavior for interpolate/upsample with float scale_factor changed \"\n",
            "/usr/local/lib/python3.6/dist-packages/torch/nn/functional.py:3000: UserWarning: The default behavior for interpolate/upsample with float scale_factor changed in 1.6.0 to align with other frameworks/libraries, and uses scale_factor directly, instead of relying on the computed output size. If you wish to keep the old behavior, please set recompute_scale_factor=True. See the documentation of nn.Upsample for details. \n",
            "  warnings.warn(\"The default behavior for interpolate/upsample with float scale_factor changed \"\n",
            "/usr/local/lib/python3.6/dist-packages/torch/nn/functional.py:3000: UserWarning: The default behavior for interpolate/upsample with float scale_factor changed in 1.6.0 to align with other frameworks/libraries, and uses scale_factor directly, instead of relying on the computed output size. If you wish to keep the old behavior, please set recompute_scale_factor=True. See the documentation of nn.Upsample for details. \n",
            "  warnings.warn(\"The default behavior for interpolate/upsample with float scale_factor changed \"\n",
            "/usr/local/lib/python3.6/dist-packages/torch/nn/functional.py:3000: UserWarning: The default behavior for interpolate/upsample with float scale_factor changed in 1.6.0 to align with other frameworks/libraries, and uses scale_factor directly, instead of relying on the computed output size. If you wish to keep the old behavior, please set recompute_scale_factor=True. See the documentation of nn.Upsample for details. \n",
            "  warnings.warn(\"The default behavior for interpolate/upsample with float scale_factor changed \"\n"
          ],
          "name": "stderr"
        }
      ]
    },
    {
      "cell_type": "code",
      "metadata": {
        "id": "sUbBtHBx_nkZ",
        "colab_type": "code",
        "colab": {}
      },
      "source": [
        "learn.save('stage-1')"
      ],
      "execution_count": 16,
      "outputs": []
    },
    {
      "cell_type": "code",
      "metadata": {
        "id": "YLMuw0qsAqPC",
        "colab_type": "code",
        "colab": {}
      },
      "source": [
        "learn.unfreeze()"
      ],
      "execution_count": 17,
      "outputs": []
    },
    {
      "cell_type": "code",
      "metadata": {
        "id": "jAxk810SArVS",
        "colab_type": "code",
        "colab": {
          "base_uri": "https://localhost:8080/",
          "height": 1000
        },
        "outputId": "f20faf6b-7f0f-4e00-b738-3b083b982edd"
      },
      "source": [
        "learn.lr_find(start_lr=1e-5, end_lr=1e-1)\n",
        "learn.recorder.plot()"
      ],
      "execution_count": 18,
      "outputs": [
        {
          "output_type": "display_data",
          "data": {
            "text/html": [
              "\n",
              "    <div>\n",
              "        <style>\n",
              "            /* Turns off some styling */\n",
              "            progress {\n",
              "                /* gets rid of default border in Firefox and Opera. */\n",
              "                border: none;\n",
              "                /* Needs to be in here for Safari polyfill so background images work as expected. */\n",
              "                background-size: auto;\n",
              "            }\n",
              "            .progress-bar-interrupted, .progress-bar-interrupted::-webkit-progress-bar {\n",
              "                background: #F44336;\n",
              "            }\n",
              "        </style>\n",
              "      <progress value='7' class='' max='13' style='width:300px; height:20px; vertical-align: middle;'></progress>\n",
              "      53.85% [7/13 00:56<00:48]\n",
              "    </div>\n",
              "    \n",
              "<table border=\"1\" class=\"dataframe\">\n",
              "  <thead>\n",
              "    <tr style=\"text-align: left;\">\n",
              "      <th>epoch</th>\n",
              "      <th>train_loss</th>\n",
              "      <th>valid_loss</th>\n",
              "      <th>error_rate</th>\n",
              "      <th>time</th>\n",
              "    </tr>\n",
              "  </thead>\n",
              "  <tbody>\n",
              "    <tr>\n",
              "      <td>0</td>\n",
              "      <td>0.218040</td>\n",
              "      <td>#na#</td>\n",
              "      <td>00:08</td>\n",
              "    </tr>\n",
              "    <tr>\n",
              "      <td>1</td>\n",
              "      <td>0.220082</td>\n",
              "      <td>#na#</td>\n",
              "      <td>00:08</td>\n",
              "    </tr>\n",
              "    <tr>\n",
              "      <td>2</td>\n",
              "      <td>0.202341</td>\n",
              "      <td>#na#</td>\n",
              "      <td>00:08</td>\n",
              "    </tr>\n",
              "    <tr>\n",
              "      <td>3</td>\n",
              "      <td>0.197211</td>\n",
              "      <td>#na#</td>\n",
              "      <td>00:08</td>\n",
              "    </tr>\n",
              "    <tr>\n",
              "      <td>4</td>\n",
              "      <td>0.193819</td>\n",
              "      <td>#na#</td>\n",
              "      <td>00:08</td>\n",
              "    </tr>\n",
              "    <tr>\n",
              "      <td>5</td>\n",
              "      <td>0.237266</td>\n",
              "      <td>#na#</td>\n",
              "      <td>00:08</td>\n",
              "    </tr>\n",
              "    <tr>\n",
              "      <td>6</td>\n",
              "      <td>0.311716</td>\n",
              "      <td>#na#</td>\n",
              "      <td>00:08</td>\n",
              "    </tr>\n",
              "  </tbody>\n",
              "</table><p>\n",
              "\n",
              "    <div>\n",
              "        <style>\n",
              "            /* Turns off some styling */\n",
              "            progress {\n",
              "                /* gets rid of default border in Firefox and Opera. */\n",
              "                border: none;\n",
              "                /* Needs to be in here for Safari polyfill so background images work as expected. */\n",
              "                background-size: auto;\n",
              "            }\n",
              "            .progress-bar-interrupted, .progress-bar-interrupted::-webkit-progress-bar {\n",
              "                background: #F44336;\n",
              "            }\n",
              "        </style>\n",
              "      <progress value='4' class='' max='8' style='width:300px; height:20px; vertical-align: middle;'></progress>\n",
              "      50.00% [4/8 00:05<00:05 0.3172]\n",
              "    </div>\n",
              "    "
            ],
            "text/plain": [
              "<IPython.core.display.HTML object>"
            ]
          },
          "metadata": {
            "tags": []
          }
        },
        {
          "output_type": "stream",
          "text": [
            "/usr/local/lib/python3.6/dist-packages/torch/nn/functional.py:3000: UserWarning: The default behavior for interpolate/upsample with float scale_factor changed in 1.6.0 to align with other frameworks/libraries, and uses scale_factor directly, instead of relying on the computed output size. If you wish to keep the old behavior, please set recompute_scale_factor=True. See the documentation of nn.Upsample for details. \n",
            "  warnings.warn(\"The default behavior for interpolate/upsample with float scale_factor changed \"\n",
            "/usr/local/lib/python3.6/dist-packages/torch/nn/functional.py:3000: UserWarning: The default behavior for interpolate/upsample with float scale_factor changed in 1.6.0 to align with other frameworks/libraries, and uses scale_factor directly, instead of relying on the computed output size. If you wish to keep the old behavior, please set recompute_scale_factor=True. See the documentation of nn.Upsample for details. \n",
            "  warnings.warn(\"The default behavior for interpolate/upsample with float scale_factor changed \"\n",
            "/usr/local/lib/python3.6/dist-packages/torch/nn/functional.py:3000: UserWarning: The default behavior for interpolate/upsample with float scale_factor changed in 1.6.0 to align with other frameworks/libraries, and uses scale_factor directly, instead of relying on the computed output size. If you wish to keep the old behavior, please set recompute_scale_factor=True. See the documentation of nn.Upsample for details. \n",
            "  warnings.warn(\"The default behavior for interpolate/upsample with float scale_factor changed \"\n",
            "/usr/local/lib/python3.6/dist-packages/torch/nn/functional.py:3000: UserWarning: The default behavior for interpolate/upsample with float scale_factor changed in 1.6.0 to align with other frameworks/libraries, and uses scale_factor directly, instead of relying on the computed output size. If you wish to keep the old behavior, please set recompute_scale_factor=True. See the documentation of nn.Upsample for details. \n",
            "  warnings.warn(\"The default behavior for interpolate/upsample with float scale_factor changed \"\n",
            "/usr/local/lib/python3.6/dist-packages/torch/nn/functional.py:3000: UserWarning: The default behavior for interpolate/upsample with float scale_factor changed in 1.6.0 to align with other frameworks/libraries, and uses scale_factor directly, instead of relying on the computed output size. If you wish to keep the old behavior, please set recompute_scale_factor=True. See the documentation of nn.Upsample for details. \n",
            "  warnings.warn(\"The default behavior for interpolate/upsample with float scale_factor changed \"\n",
            "/usr/local/lib/python3.6/dist-packages/torch/nn/functional.py:3000: UserWarning: The default behavior for interpolate/upsample with float scale_factor changed in 1.6.0 to align with other frameworks/libraries, and uses scale_factor directly, instead of relying on the computed output size. If you wish to keep the old behavior, please set recompute_scale_factor=True. See the documentation of nn.Upsample for details. \n",
            "  warnings.warn(\"The default behavior for interpolate/upsample with float scale_factor changed \"\n",
            "/usr/local/lib/python3.6/dist-packages/torch/nn/functional.py:3000: UserWarning: The default behavior for interpolate/upsample with float scale_factor changed in 1.6.0 to align with other frameworks/libraries, and uses scale_factor directly, instead of relying on the computed output size. If you wish to keep the old behavior, please set recompute_scale_factor=True. See the documentation of nn.Upsample for details. \n",
            "  warnings.warn(\"The default behavior for interpolate/upsample with float scale_factor changed \"\n",
            "/usr/local/lib/python3.6/dist-packages/torch/nn/functional.py:3000: UserWarning: The default behavior for interpolate/upsample with float scale_factor changed in 1.6.0 to align with other frameworks/libraries, and uses scale_factor directly, instead of relying on the computed output size. If you wish to keep the old behavior, please set recompute_scale_factor=True. See the documentation of nn.Upsample for details. \n",
            "  warnings.warn(\"The default behavior for interpolate/upsample with float scale_factor changed \"\n",
            "/usr/local/lib/python3.6/dist-packages/torch/nn/functional.py:3000: UserWarning: The default behavior for interpolate/upsample with float scale_factor changed in 1.6.0 to align with other frameworks/libraries, and uses scale_factor directly, instead of relying on the computed output size. If you wish to keep the old behavior, please set recompute_scale_factor=True. See the documentation of nn.Upsample for details. \n",
            "  warnings.warn(\"The default behavior for interpolate/upsample with float scale_factor changed \"\n",
            "/usr/local/lib/python3.6/dist-packages/torch/nn/functional.py:3000: UserWarning: The default behavior for interpolate/upsample with float scale_factor changed in 1.6.0 to align with other frameworks/libraries, and uses scale_factor directly, instead of relying on the computed output size. If you wish to keep the old behavior, please set recompute_scale_factor=True. See the documentation of nn.Upsample for details. \n",
            "  warnings.warn(\"The default behavior for interpolate/upsample with float scale_factor changed \"\n",
            "/usr/local/lib/python3.6/dist-packages/torch/nn/functional.py:3000: UserWarning: The default behavior for interpolate/upsample with float scale_factor changed in 1.6.0 to align with other frameworks/libraries, and uses scale_factor directly, instead of relying on the computed output size. If you wish to keep the old behavior, please set recompute_scale_factor=True. See the documentation of nn.Upsample for details. \n",
            "  warnings.warn(\"The default behavior for interpolate/upsample with float scale_factor changed \"\n",
            "/usr/local/lib/python3.6/dist-packages/torch/nn/functional.py:3000: UserWarning: The default behavior for interpolate/upsample with float scale_factor changed in 1.6.0 to align with other frameworks/libraries, and uses scale_factor directly, instead of relying on the computed output size. If you wish to keep the old behavior, please set recompute_scale_factor=True. See the documentation of nn.Upsample for details. \n",
            "  warnings.warn(\"The default behavior for interpolate/upsample with float scale_factor changed \"\n",
            "/usr/local/lib/python3.6/dist-packages/torch/nn/functional.py:3000: UserWarning: The default behavior for interpolate/upsample with float scale_factor changed in 1.6.0 to align with other frameworks/libraries, and uses scale_factor directly, instead of relying on the computed output size. If you wish to keep the old behavior, please set recompute_scale_factor=True. See the documentation of nn.Upsample for details. \n",
            "  warnings.warn(\"The default behavior for interpolate/upsample with float scale_factor changed \"\n",
            "/usr/local/lib/python3.6/dist-packages/torch/nn/functional.py:3000: UserWarning: The default behavior for interpolate/upsample with float scale_factor changed in 1.6.0 to align with other frameworks/libraries, and uses scale_factor directly, instead of relying on the computed output size. If you wish to keep the old behavior, please set recompute_scale_factor=True. See the documentation of nn.Upsample for details. \n",
            "  warnings.warn(\"The default behavior for interpolate/upsample with float scale_factor changed \"\n",
            "/usr/local/lib/python3.6/dist-packages/torch/nn/functional.py:3000: UserWarning: The default behavior for interpolate/upsample with float scale_factor changed in 1.6.0 to align with other frameworks/libraries, and uses scale_factor directly, instead of relying on the computed output size. If you wish to keep the old behavior, please set recompute_scale_factor=True. See the documentation of nn.Upsample for details. \n",
            "  warnings.warn(\"The default behavior for interpolate/upsample with float scale_factor changed \"\n"
          ],
          "name": "stderr"
        },
        {
          "output_type": "stream",
          "text": [
            "LR Finder is complete, type {learner_name}.recorder.plot() to see the graph.\n"
          ],
          "name": "stdout"
        },
        {
          "output_type": "display_data",
          "data": {
            "image/png": "[encoded data removed]",
            "text/plain": [
              "<Figure size 432x288 with 1 Axes>"
            ]
          },
          "metadata": {
            "tags": [],
            "needs_background": "light"
          }
        }
      ]
    },
    {
      "cell_type": "code",
      "metadata": {
        "id": "m47VeNy2AtyU",
        "colab_type": "code",
        "colab": {
          "base_uri": "https://localhost:8080/",
          "height": 271
        },
        "outputId": "99bcd917-195f-4ddf-e85f-f244fed0a166"
      },
      "source": [
        "learn.fit_one_cycle(2, max_lr=slice(3e-5, 2e-4))"
      ],
      "execution_count": 19,
      "outputs": [
        {
          "output_type": "display_data",
          "data": {
            "text/html": [
              "<table border=\"1\" class=\"dataframe\">\n",
              "  <thead>\n",
              "    <tr style=\"text-align: left;\">\n",
              "      <th>epoch</th>\n",
              "      <th>train_loss</th>\n",
              "      <th>valid_loss</th>\n",
              "      <th>error_rate</th>\n",
              "      <th>time</th>\n",
              "    </tr>\n",
              "  </thead>\n",
              "  <tbody>\n",
              "    <tr>\n",
              "      <td>0</td>\n",
              "      <td>0.345191</td>\n",
              "      <td>0.553619</td>\n",
              "      <td>0.101562</td>\n",
              "      <td>00:09</td>\n",
              "    </tr>\n",
              "    <tr>\n",
              "      <td>1</td>\n",
              "      <td>0.300858</td>\n",
              "      <td>0.537742</td>\n",
              "      <td>0.109375</td>\n",
              "      <td>00:09</td>\n",
              "    </tr>\n",
              "  </tbody>\n",
              "</table>"
            ],
            "text/plain": [
              "<IPython.core.display.HTML object>"
            ]
          },
          "metadata": {
            "tags": []
          }
        },
        {
          "output_type": "stream",
          "text": [
            "/usr/local/lib/python3.6/dist-packages/torch/nn/functional.py:3000: UserWarning: The default behavior for interpolate/upsample with float scale_factor changed in 1.6.0 to align with other frameworks/libraries, and uses scale_factor directly, instead of relying on the computed output size. If you wish to keep the old behavior, please set recompute_scale_factor=True. See the documentation of nn.Upsample for details. \n",
            "  warnings.warn(\"The default behavior for interpolate/upsample with float scale_factor changed \"\n",
            "/usr/local/lib/python3.6/dist-packages/torch/nn/functional.py:3000: UserWarning: The default behavior for interpolate/upsample with float scale_factor changed in 1.6.0 to align with other frameworks/libraries, and uses scale_factor directly, instead of relying on the computed output size. If you wish to keep the old behavior, please set recompute_scale_factor=True. See the documentation of nn.Upsample for details. \n",
            "  warnings.warn(\"The default behavior for interpolate/upsample with float scale_factor changed \"\n",
            "/usr/local/lib/python3.6/dist-packages/torch/nn/functional.py:3000: UserWarning: The default behavior for interpolate/upsample with float scale_factor changed in 1.6.0 to align with other frameworks/libraries, and uses scale_factor directly, instead of relying on the computed output size. If you wish to keep the old behavior, please set recompute_scale_factor=True. See the documentation of nn.Upsample for details. \n",
            "  warnings.warn(\"The default behavior for interpolate/upsample with float scale_factor changed \"\n",
            "/usr/local/lib/python3.6/dist-packages/torch/nn/functional.py:3000: UserWarning: The default behavior for interpolate/upsample with float scale_factor changed in 1.6.0 to align with other frameworks/libraries, and uses scale_factor directly, instead of relying on the computed output size. If you wish to keep the old behavior, please set recompute_scale_factor=True. See the documentation of nn.Upsample for details. \n",
            "  warnings.warn(\"The default behavior for interpolate/upsample with float scale_factor changed \"\n"
          ],
          "name": "stderr"
        }
      ]
    },
    {
      "cell_type": "code",
      "metadata": {
        "id": "-j9E_GomBN0p",
        "colab_type": "code",
        "colab": {}
      },
      "source": [
        "learn.save(\"stage-2\")"
      ],
      "execution_count": 20,
      "outputs": []
    },
    {
      "cell_type": "markdown",
      "metadata": {
        "id": "5ZXePneLBgGB",
        "colab_type": "text"
      },
      "source": [
        "## Interpretation"
      ]
    },
    {
      "cell_type": "code",
      "metadata": {
        "id": "beeCfIPrBTuo",
        "colab_type": "code",
        "colab": {}
      },
      "source": [
        "learn.load(\"stage-1\");"
      ],
      "execution_count": 24,
      "outputs": []
    },
    {
      "cell_type": "code",
      "metadata": {
        "id": "12pBmnFcBirK",
        "colab_type": "code",
        "colab": {
          "base_uri": "https://localhost:8080/",
          "height": 17
        },
        "outputId": "12fd1038-c303-4885-904b-f9eb0d760814"
      },
      "source": [
        "interp = ClassificationInterpretation.from_learner(learn)"
      ],
      "execution_count": 25,
      "outputs": [
        {
          "output_type": "display_data",
          "data": {
            "text/html": [
              ""
            ],
            "text/plain": [
              "<IPython.core.display.HTML object>"
            ]
          },
          "metadata": {
            "tags": []
          }
        }
      ]
    },
    {
      "cell_type": "code",
      "metadata": {
        "id": "jdTE03CFBrqt",
        "colab_type": "code",
        "colab": {
          "base_uri": "https://localhost:8080/",
          "height": 311
        },
        "outputId": "9f815f39-9760-4cc8-e4cd-ce24bfa3c69b"
      },
      "source": [
        "interp.plot_confusion_matrix()"
      ],
      "execution_count": 26,
      "outputs": [
        {
          "output_type": "display_data",
          "data": {
            "image/png": "[encoded data removed]",
            "text/plain": [
              "<Figure size 432x288 with 1 Axes>"
            ]
          },
          "metadata": {
            "tags": [],
            "needs_background": "light"
          }
        }
      ]
    },
    {
      "cell_type": "markdown",
      "metadata": {
        "id": "coUapvptXn_S",
        "colab_type": "text"
      },
      "source": [
        "## Cleaning up"
      ]
    },
    {
      "cell_type": "code",
      "metadata": {
        "id": "sxZshuiWBwNt",
        "colab_type": "code",
        "colab": {}
      },
      "source": [
        "from fastai.widgets import *"
      ],
      "execution_count": 27,
      "outputs": []
    },
    {
      "cell_type": "code",
      "metadata": {
        "id": "-acd4ddAXrTu",
        "colab_type": "code",
        "colab": {}
      },
      "source": [
        "db = (ImageList.from_folder(path)\n",
        "                   .split_none()\n",
        "                   .label_from_folder()\n",
        "                   .transform(get_transforms(), size=224)\n",
        "                   .databunch()\n",
        "     )"
      ],
      "execution_count": 28,
      "outputs": []
    },
    {
      "cell_type": "code",
      "metadata": {
        "id": "oy6QXVh5X0Vh",
        "colab_type": "code",
        "colab": {}
      },
      "source": [
        "learn_cln = cnn_learner(db, models.resnet34, metrics=error_rate)\n",
        "\n",
        "learn_cln.load('stage-1');"
      ],
      "execution_count": 29,
      "outputs": []
    },
    {
      "cell_type": "code",
      "metadata": {
        "id": "-KogMAZNX5oL",
        "colab_type": "code",
        "colab": {
          "base_uri": "https://localhost:8080/",
          "height": 106
        },
        "outputId": "502e228d-3e6b-4cf4-9da1-32aa1b1406d6"
      },
      "source": [
        "ds, idxs = DatasetFormatter().from_toplosses(learn_cln)"
      ],
      "execution_count": 30,
      "outputs": [
        {
          "output_type": "display_data",
          "data": {
            "text/html": [
              ""
            ],
            "text/plain": [
              "<IPython.core.display.HTML object>"
            ]
          },
          "metadata": {
            "tags": []
          }
        },
        {
          "output_type": "stream",
          "text": [
            "/usr/local/lib/python3.6/dist-packages/torch/nn/functional.py:3000: UserWarning: The default behavior for interpolate/upsample with float scale_factor changed in 1.6.0 to align with other frameworks/libraries, and uses scale_factor directly, instead of relying on the computed output size. If you wish to keep the old behavior, please set recompute_scale_factor=True. See the documentation of nn.Upsample for details. \n",
            "  warnings.warn(\"The default behavior for interpolate/upsample with float scale_factor changed \"\n",
            "/usr/local/lib/python3.6/dist-packages/torch/nn/functional.py:3000: UserWarning: The default behavior for interpolate/upsample with float scale_factor changed in 1.6.0 to align with other frameworks/libraries, and uses scale_factor directly, instead of relying on the computed output size. If you wish to keep the old behavior, please set recompute_scale_factor=True. See the documentation of nn.Upsample for details. \n",
            "  warnings.warn(\"The default behavior for interpolate/upsample with float scale_factor changed \"\n"
          ],
          "name": "stderr"
        }
      ]
    },
    {
      "cell_type": "code",
      "metadata": {
        "id": "0VSFxa4IX8z1",
        "colab_type": "code",
        "colab": {
          "base_uri": "https://localhost:8080/",
          "height": 349,
          "referenced_widgets": [
            "396cb36b090945b2a1a8986552e305e2",
            "0ec1b4ac35704653acbd8d63bde799fe",
            "1480fd7bf22d42ad9538229555e70142",
            "7b7c7935e29d492da8d930c7aace2f0c",
            "c2115f7cff7e4a089aa2110ba87c42d7",
            "859adaaeacd2437f9de59159164ca9f7",
            "13873a0bc5fd407da47aaf8790b515a9",
            "18d49819d75d4a0f82ce4d1b60b478c9",
            "22a420794339470f9d85f52548e6902e",
            "9b7334bcab194be98aecf30c9bc4457c",
            "8112ab594e0c4e21b3c72fba28bb7624",
            "65e04652771e4426bb39469da7e3b224",
            "bc6730bf079a488b9167daf0611a1322",
            "cf5d60a4a6c3474e9f6cf8bd02311a1d",
            "8dd53afbe7724b6f85adefeae2f522a2",
            "0721249f6d5c4f48b11c31bff747f734",
            "7fc88642a8184dffae17fb3f3e8b8345",
            "7b39d51eb84744468cd4c70ad89c5c92",
            "3c2d1df6ed634808ad5fdb34e49fa9ea",
            "e1da481c577743cbaec5d7e6c7bfa0b5",
            "736a5995791a425488b929c3536d1cb6",
            "794f3de7410c4c4e9a6c35ca2324a553",
            "edf731ed5309468d8654db7697b56cd7",
            "3c1f6d9e1a3f4d6eafa677020f94df1c",
            "91bf25eb84cb40af91c2e14e1bb11acc",
            "93156fa1a16c422e8d92f204223f5d40",
            "6edae6cfe5014dcf9086e2e7d0c4eeee",
            "2845fe7a169443eebf054a6103975a7a",
            "42418ff4551a4e3aa609caa8da38b35c",
            "cf7a7894c47d4691b51970a584af909d",
            "7e9362ca501449e292a495ffc920beaa",
            "16fbc607f91b4b878fd0d92bbfe0efa1",
            "2d41ac23e2bc4b8aa10a9715605030ea",
            "113b10c9ce934c1e939f6ddf587e376f",
            "f96d4fe1be234578a8c7699dc9caabf4",
            "d683257c92e44577b24b9a88df0c122e",
            "c1de39f3531e4d4e89ba648288d33cea",
            "2fbdc1a83218424c879a6395ebbc1d02",
            "13d5a05c6c2e4372b5241a647de8d440",
            "8220cde03bb74c89bb75ba95aa76832e",
            "0e89424e24f84768a0e326915be9316f",
            "5a99f68732f64689ab2b2260aa6a6a5c",
            "3e48e0c5bf9548f381d32641da808c63",
            "8c9180072b6b470fbb305d833ef04e73",
            "dec2848b1ca743e18df2cfdfc2a8d8cb",
            "1e9f422926ce4727ae342ffbfe9cb2c2",
            "22c5791168884204a0850d8faaff2531",
            "8b1852adaea046d7ada1cdcf20f48239",
            "e0dbc5a838914010bf463e37fc5e68dd",
            "f5c268be8e26481e943754daaca2b832",
            "d7846995719340d993e1ae6b58f98d27",
            "ce9f2447d3d04322920dd534ceee7d8c",
            "1254a127e4f34367a843f20a3c1b5d04",
            "310df393540e4f1ead8f121e54bde3a3",
            "d74b5836eb27486c9b1d574d0aef6e27",
            "c94d0a9e45164a48aca0252b41095ff5",
            "2ec6ff058fe84d7c9f346c07fed4247a",
            "ecb98be9e565496aacbd8b21523984ee",
            "b1116c59a9fc47279fb5e3592dd3c435",
            "c82887612b87418094942e604b884161",
            "4154b97d682e4530ad655e738ecc863b",
            "a537efb07d03418aab4657f886ce8bc1",
            "cd583de39fd041449c9165e64496f2b2",
            "afd85a8b452a4b868590a1ac98a57f25",
            "2b71bbdcbb2b447bb02ef46afe0bd006",
            "49ce5e5c99394729bee1a17aa67f069c",
            "a39d20fc2fec44e39c787ef191dfa28a",
            "b1f6320bbc8e4d529b561072868718f2",
            "bce7493e938f4c8485d608fe165edded",
            "d9cca75fec9243c1a074f3410d909191",
            "7025ba43f67c4994b72434e8853af96c",
            "6e82e3481ec5409daf540ac94ad8e407",
            "148e8ad7313642218c4dbb314a6e1e52",
            "289519736a9d4b778c18d53e9e246082",
            "8ff1ef3f3e4a4e1d8ec8e05593bbc1f6",
            "8f5f78d639f8448a82e1cd27309dec60",
            "922f3a4670194694abcb0155755fe242",
            "5d1e80cf0ac04640b0e20b5af39510a2",
            "e643e9d75b974858955f3f9dc71f7a53",
            "073d0a8f5dc741d89cdf370c729209b8",
            "f41afadd09aa4f85ac0fc41be58bdd6d",
            "dc6a4eca32f342e890ac2ba98cfef745",
            "a480b96d7612479d9e6d3daf2a2405b9",
            "c6caa5cd596646e8b55fe40c2c9bebf9",
            "0d6b3662c9f84803b7dedf4e309b474c",
            "9fe52fc13b294eeabb35abcae68d9a6c",
            "ed3c28ac774546c995123a07458831db",
            "cbea4088739f4fe1b60e9213de67290c",
            "077eadb80c3f4f74875c26dcda313071",
            "fda02bf6c74b4b39b4d21e31bb22b263",
            "f468eaec16d44731b5d5a241ac9b8a59",
            "a78cca463a3f4850a1a1d37f3fb146ff",
            "da74fcf409cf476583bbb6da516d5940",
            "8d435ecabd4e45e3b1a2f4eef4d883d0",
            "c55e96d7b3c8456a98b899827fbab768",
            "8b3599bdb61d4a6d93f7e71d8aa7c940",
            "d5805d5f5b0040ae8d7e92ecdbbdc583",
            "d82eb69dbe544da796b0566b23fb46ac",
            "62cc134612dc4250ad7f2e649c780c84",
            "e0c74de586ae4d80b66746599b054b1a",
            "517e23965a9d40ddb25b8466191041fd",
            "ddfbbcba991f49c9ab6ddf1e69c37e22",
            "d36adda007aa49b7900ae7cdc418731d",
            "c05a5f55c7fe4256a63d7ea7ed4d441b",
            "50ab53fd47974acdaf63306eff9f62d4",
            "e4f7f79ad4b54124a4d3e150bd8c5637",
            "5829f0a3650c444fa853bdcc5b9be257",
            "c8dd5133395641bd8bc22d0f7e805ea9",
            "96f4d59eb3e144c48db0a6f0ffeca15b",
            "863646dcffc24393b7125dc17be9b64d",
            "5e34325327b64636928c353276daf0d9",
            "94ee3d4bd599419cb31374a3aea4eb6e",
            "35c348e401174b11a5b36392a97e1c7f",
            "4b39517820a049a393d616ef9a35d36a",
            "6e17876b236d434a8300fef36f9cf0c3",
            "5ba07c4acb1847b2a3ff3462011d5038",
            "86dbe7032869440094b57b16dbb5a68e",
            "c1928d38e6404c53902db0810bc0f0d2",
            "e366b3507f30453a981eb26695d42fb3",
            "c61f8457b41e45ef999f7748462f8d43",
            "8a015fb8d6504ef6b6f119c21af7fe76",
            "ceb2fba0e12b4f1491a0cc0c0932d407",
            "0282f78b1c2b4bd0b6fdf1e9f617b2df",
            "8b300662be1c4b328afb7a15326e1c4f",
            "a0c1d9a2233443d0ac09212cda9c06d6",
            "6f5483e4c52740dab0aad62fab0ff8d1",
            "48f59969f6d6416fa26c87219b9a3a32",
            "5af57548e6954941b5fb819c0a9e8603",
            "21fe64d1568442d09c95470ea9cc06d7",
            "b436068975e14e949d34b8862adc5543",
            "61de9c9f8494425181ebec778e1cc2d5",
            "541b1b1f47d6414b99840ef793f27898",
            "dbbe95070b494bc08b7bcfc5e190426d",
            "eefacebec68c416dba6888597b8a4cef",
            "4b2c7de86b6c4d409087e0819ebd5e21",
            "edd1dc8a88024c9e8ad9d93af498b61c",
            "e657360735ae4724bd9eb42bbd76a05f",
            "ffd4265c204c4511b809a789b0fc0504",
            "2e5eb0172611451e8deaa8bb9e9271b7",
            "3a22a84deed84e61b5bc1a382118f19b",
            "c1610e4cd9044758a6d1024874c0eb4d",
            "a5087f870ab14c36bba0d990ddecfa63",
            "800dd15a460d4dd0bf531070ad0cea4d",
            "440ff52da2c24d66a66376e6377279b0",
            "c6672ada220a44ba98246367985a74b2",
            "4af08d1f17c8470eb03db46f6dd2b94d",
            "d3d398cf01634908bee0fd1f85240b25",
            "9bcc90775eed4e418922661a4bdf2682",
            "0d785391b33d4dadb5d38dc39f00682a",
            "3d789b919acf4a6584ace215b6382f16",
            "cca12434a4cb4393be8c42c5e7d5a1ba",
            "c0ae74cfd3014e79af20aac33914e0ef",
            "15d8f35b028749fd89d1e7dd06c413da",
            "d1b7fe6e95894f34853dba7a4ce11022",
            "4e9a026102494800875a2d090f069650",
            "8b195936dda1418eb631008391a8e10c",
            "1e1dadc8959d465d96e25baa12d071af",
            "0e9786cf99f54880bd8770625e91f351",
            "79a584fc12624dccba8aeee0655f011f",
            "45794b6f59dd487c84e52b613866cff8",
            "e7575977e88345529c03b86b01d28f17",
            "9abbe0555d4544ad859bcc174f5f6e9b",
            "dd3ce9a4ee2a4b0e9009019e277b653c",
            "f2a62f69d6054ecd8661adc712cb0fba",
            "6dc6009dfd2442ab869f0d1fdaf9e6e8",
            "03467658bbe24f35ae258e78fbcc7131",
            "8e50d29cbdb64b009cd6f935d068f224",
            "c817fbe59ab54da8a080c5ebd18dbfbf",
            "f0cb8db2843f4872a2c611c82c71d43f",
            "1e3aab69f6574004bd0971be759f8e37",
            "46bdec6495514b7b8df9510a35494598",
            "a4681d550c8246b49fe8075675b8eb3d",
            "3cccb48909aa4523a9e686d1262508f3",
            "6c886b46d4c7445e8c6a6a215392758c",
            "6a5238713a7c40c5b788468b8503aaf1",
            "2525060def674e8e943749af266fbdae",
            "c0c5bd5ba41247de8a6ff37f3b03ca88",
            "05c7852848384ed08564ca1ea667883e",
            "b12b3f06c688465c9f14027fa3c1f901",
            "5a5547d189d649859d2bb16bc742583c",
            "55e31a8f0e4e40df9aca20ead1634907",
            "f494bc265cec4f88a0dea56c06d11a3a",
            "a0bb776fb30a4be6a4e928eb3cc97b1b",
            "4121218236844450bfddccb6fe26c5e7",
            "8b42727c0f1f48fc94f32611d92f7e1a",
            "bfc7a61a8ea240a4b50cef88bc1f440f",
            "ca8d77f12ede42989c1e8f0707246e41",
            "14cc9fe29bd3423ba24aced662db2019",
            "4717c709a80b42a098f3a71f87c93b70",
            "88114dad6038482c9f4ff7404b0959ad",
            "3960d5cdb8a84e8398ef3a6822b284f9",
            "6f8af502fd0b4d18b909629a2b0a1005",
            "5336c93356494bbda2c04584cbb91399",
            "8abb447f0f12480a922ca235cb862c28",
            "324cd955f9cb41ee8e31156ff2324626",
            "9598ea09a03346c3ba4b87366d439913",
            "bfe2f2acba414e30b2d1574a3855e3f3",
            "edc359e0ad98453c8c96e83aa9f333bc",
            "2f760c287eeb45188e8dd3d96193f9be",
            "da2d05dd26d8475ba0a19b1500ea8c26",
            "01b1938e031e4fe09ebcde444b3b4da3",
            "8c350b6777fb4d2b8c28d6b0821d80a9",
            "5fed670983834b09bccc5ae22f8c0a70",
            "dd3f67cc00774baeb4ba2210576bad39",
            "92022b9d50484dda82c4a1db61e0e37a",
            "d80d7fc200614938b873c2ed1a70b0a9",
            "cefcc100ef37468d8ca81c73eee47956",
            "c8bb184e10c14165b33143944e7559f1",
            "429c4278b10b4f3891c981b3a529e464",
            "7b36fa1d5fca4c28a1680026faaac48f",
            "1bc1ad647ae84022a739b467761cbb93",
            "a6a42ebb4f424b79bc5bfd2da96bceb0",
            "95287faebc114e679ed142c0e92d3d23",
            "8625c591f7284d0384f0fc93337002e6",
            "3896df7c2e99457faa93bf3161ba9078",
            "bb787a88610140d29be8ed49ecaf4487",
            "08ca57f69de44d9b9d3eff409d8b1606",
            "c37ee54cfdc045daae17ebc33acd0e37",
            "eac945502f164455b8fe0150109a9056",
            "4651bb0d5de14b01a0fbd58beae0551a",
            "98908ad30eea4176add52b0ba4ea0a26",
            "a6a3990f43124194aadf1428a0d961ba",
            "ce52d4e935c94449bbba916d808580fa",
            "ef3b2bf9af1c4f9c8edf337ec1583eca",
            "614ec2bb365442448f708504a75959b7",
            "05a46d41afba40cb9828ec4a1f810b6b",
            "2017fb08dd434c8489af7152adb816c3",
            "e9e1908c5ebd4665bdd6d23c0068b0a9",
            "68066a462ae7401ab4baea67984a0d77",
            "dfae08c88545443ba867c823a332858f",
            "fc68815f09d4481990d795602d014f22",
            "6ff80264ceac447baa1527bcf31777cd",
            "0e7046e324dc42fc942028d2b314750e",
            "6b20558092484e8ab749fd23b0aabada",
            "3ece9cb78ab140beb10c85041ae484d8",
            "a1d7347469584bd6b055d2eaded6d4c4"
          ]
        },
        "outputId": "e0b4a9a2-c757-4284-aadf-c01bc979c47f"
      },
      "source": [
        "ImageCleaner(ds, idxs, path)"
      ],
      "execution_count": 31,
      "outputs": [
        {
          "output_type": "display_data",
          "data": {
            "application/vnd.jupyter.widget-view+json": {
              "model_id": "dd3f67cc00774baeb4ba2210576bad39",
              "version_minor": 0,
              "version_major": 2
            },
            "text/plain": [
              "HBox(children=(VBox(children=(Image(value=b'\\xff\\xd8\\xff\\xe0\\x00\\x10JFIF\\x00\\x01\\x01\\x01\\x00d\\x00d\\x00\\x00\\xff…"
            ]
          },
          "metadata": {
            "tags": []
          }
        },
        {
          "output_type": "display_data",
          "data": {
            "application/vnd.jupyter.widget-view+json": {
              "model_id": "3ece9cb78ab140beb10c85041ae484d8",
              "version_minor": 0,
              "version_major": 2
            },
            "text/plain": [
              "Button(button_style='primary', description='Next Batch', layout=Layout(width='auto'), style=ButtonStyle())"
            ]
          },
          "metadata": {
            "tags": []
          }
        }
      ]
    },
    {
      "cell_type": "markdown",
      "metadata": {
        "id": "E6G1WOoNYtr4",
        "colab_type": "text"
      },
      "source": [
        "## Putting the model in production"
      ]
    },
    {
      "cell_type": "code",
      "metadata": {
        "id": "Uvzzjr7MYD2X",
        "colab_type": "code",
        "colab": {}
      },
      "source": [
        "learn.export()"
      ],
      "execution_count": 32,
      "outputs": []
    },
    {
      "cell_type": "code",
      "metadata": {
        "id": "wLRXNK6vZOtj",
        "colab_type": "code",
        "colab": {}
      },
      "source": [
        "defaults.device = torch.device('cpu')"
      ],
      "execution_count": 34,
      "outputs": []
    },
    {
      "cell_type": "code",
      "metadata": {
        "id": "nx8zeAbnZP34",
        "colab_type": "code",
        "colab": {
          "base_uri": "https://localhost:8080/",
          "height": 242
        },
        "outputId": "6eaef156-7b63-4703-c03d-715ac91a4c62"
      },
      "source": [
        "img = open_image(path/'electric'/'00000001.jpg')\n",
        "img"
      ],
      "execution_count": 37,
      "outputs": [
        {
          "output_type": "execute_result",
          "data": {
            "image/png": "[encoded data removed]",
            "image/jpeg": "[encoded data removed]",
            "text/plain": [
              "Image (3, 225, 225)"
            ]
          },
          "metadata": {
            "tags": []
          },
          "execution_count": 37
        }
      ]
    },
    {
      "cell_type": "code",
      "metadata": {
        "id": "_jZ4jzhXYvPk",
        "colab_type": "code",
        "colab": {}
      },
      "source": [
        "learn = load_learner(path)"
      ],
      "execution_count": 38,
      "outputs": []
    },
    {
      "cell_type": "code",
      "metadata": {
        "id": "Ecl39vxjZKIB",
        "colab_type": "code",
        "colab": {
          "base_uri": "https://localhost:8080/",
          "height": 37
        },
        "outputId": "1bd43f7b-efd9-4fd7-9ec7-d41a4eacee6d"
      },
      "source": [
        "pred_class, pred_idx, outputs = learn.predict(img)\n",
        "pred_class.obj"
      ],
      "execution_count": 39,
      "outputs": [
        {
          "output_type": "execute_result",
          "data": {
            "application/vnd.google.colaboratory.intrinsic+json": {
              "type": "string"
            },
            "text/plain": [
              "'electric'"
            ]
          },
          "metadata": {
            "tags": []
          },
          "execution_count": 39
        }
      ]
    },
    {
      "cell_type": "code",
      "metadata": {
        "id": "-YOHIWQdZfe7",
        "colab_type": "code",
        "colab": {}
      },
      "source": [
        ""
      ],
      "execution_count": 40,
      "outputs": []
    },
    {
      "cell_type": "code",
      "metadata": {
        "id": "9SRxzcugaidx",
        "colab_type": "code",
        "colab": {}
      },
      "source": [
        ""
      ],
      "execution_count": null,
      "outputs": []
    }
  ]
}